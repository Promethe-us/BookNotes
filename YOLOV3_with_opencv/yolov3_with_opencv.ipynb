{
 "cells": [
  {
   "cell_type": "code",
   "execution_count": 1,
   "metadata": {},
   "outputs": [],
   "source": [
    "import cv2\n",
    "import numpy as np\n",
    "import matplotlib.pyplot as plt\n",
    "%matplotlib inline\n",
    "\n",
    "def imgshow(img):\n",
    "    img_RGB = cv2.cvtColor(img,cv2.COLOR_BAYER_BG2RGB)\n",
    "    plt.imshow(img_RGB)\n",
    "    plt.show()"
   ]
  },
  {
   "cell_type": "code",
   "execution_count": 2,
   "metadata": {},
   "outputs": [
    {
     "ename": "error",
     "evalue": "OpenCV(4.5.1) C:\\Users\\appveyor\\AppData\\Local\\Temp\\1\\pip-req-build-wvn_it83\\opencv\\modules\\dnn\\src\\darknet\\darknet_importer.cpp:214: error: (-212:Parsing error) Failed to parse NetParameter file: yolov3.weights in function 'cv::dnn::dnn4_v20201117::readNetFromDarknet'\n",
     "output_type": "error",
     "traceback": [
      "\u001b[1;31m---------------------------------------------------------------------------\u001b[0m",
      "\u001b[1;31merror\u001b[0m                                     Traceback (most recent call last)",
      "\u001b[1;32m<ipython-input-2-aab2872c1c85>\u001b[0m in \u001b[0;36m<module>\u001b[1;34m\u001b[0m\n\u001b[0;32m      1\u001b[0m \u001b[1;31m#1，导入预训练模型\u001b[0m\u001b[1;33m\u001b[0m\u001b[1;33m\u001b[0m\u001b[1;33m\u001b[0m\u001b[0m\n\u001b[1;32m----> 2\u001b[1;33m \u001b[0mnet\u001b[0m \u001b[1;33m=\u001b[0m \u001b[0mcv2\u001b[0m\u001b[1;33m.\u001b[0m\u001b[0mdnn\u001b[0m\u001b[1;33m.\u001b[0m\u001b[0mreadNet\u001b[0m\u001b[1;33m(\u001b[0m\u001b[1;34m'yolov3.weights'\u001b[0m\u001b[1;33m,\u001b[0m\u001b[1;34m'yolov3.cfg'\u001b[0m\u001b[1;33m)\u001b[0m\u001b[1;33m\u001b[0m\u001b[1;33m\u001b[0m\u001b[0m\n\u001b[0m",
      "\u001b[1;31merror\u001b[0m: OpenCV(4.5.1) C:\\Users\\appveyor\\AppData\\Local\\Temp\\1\\pip-req-build-wvn_it83\\opencv\\modules\\dnn\\src\\darknet\\darknet_importer.cpp:214: error: (-212:Parsing error) Failed to parse NetParameter file: yolov3.weights in function 'cv::dnn::dnn4_v20201117::readNetFromDarknet'\n"
     ]
    }
   ],
   "source": [
    "#1，导入预训练模型\n",
    "net = cv2.dnn.readNet('yolov3.weights','yolov3.cfg')"
   ]
  },
  {
   "cell_type": "code",
   "execution_count": null,
   "metadata": {},
   "outputs": [],
   "source": [
    "#2，导入COCO数据集的80个类别\n",
    "with open('coco.names','r') as f:\n",
    "    classes = f.read().splitlines()"
   ]
  },
  {
   "cell_type": "code",
   "execution_count": null,
   "metadata": {},
   "outputs": [],
   "source": [
    "def predict_yolov3(img,classes,net):\n",
    "    #3，预处理读入的图片\n",
    "    #img = cv2.imread('test.png')\n",
    "    h,w,_ = img.shape\n",
    "    blob = cv2.dnn.blobFromImage(img,1/255,(416,416),(0,0,0),swapRB=True,crop=False)  #预处理图片\n",
    "\n",
    "    net.setInput(blob)\n",
    "\n",
    "    #前向推断\n",
    "    layersNames = net.getLayerNames()\n",
    "    output_layers_names = [layersNames[i[0]-1] for i in net.getUnconnectedOutLayers()]\n",
    "    #output_layers_names = [yolo_82,yolo_94,yolo_106] 代表三个输出层，输出三组52*52*255，26*26*255，13*13*255\n",
    "    prediction = net.forward(output_layers_names)\n",
    "    #prediction是长度为3的列表，[507*85,2028*85,8112*85]，即13*13，26*26，52*52\n",
    "    #4，backbone输出的prediction做neck和head处理\n",
    "    boxes = []      #存放预测框坐标\n",
    "    objectness = [] #存放置信度\n",
    "    class_probs = []#存放类别概率\n",
    "    class_ids = []  #存放预测框类别索引号\n",
    "    class_names = []#存放预测框类别名称\n",
    "\n",
    "    for scale in prediction:\n",
    "        for bbox in scale:\n",
    "            obj = bbox[4]\n",
    "            class_scores = bbox[5:]\n",
    "            class_id = np.argmax(class_scores)\n",
    "            class_name = classes[class_id]\n",
    "            class_prob = class_scores[class_id]\n",
    "            #预测框的几何信息\n",
    "            center_x = int(bbox[0]*w)\n",
    "            center_y=  int(bbox[1]*h)\n",
    "            real_w = int(bbox[2]*w) \n",
    "            real_h = int(bbox[3]*h)\n",
    "            #左上角\n",
    "            x = int(center_x - w/2)\n",
    "            y = int(center_y - h/2)\n",
    "\n",
    "            boxes.append([x,y,w,h])\n",
    "            objectness.append(float(obj))\n",
    "            class_ids.append(class_id)\n",
    "            class_names.append(class_name)\n",
    "            class_probs.append(class_prob)\n",
    "    #boxes=13*13+26*26+52*52=10647\n",
    "\n",
    "    confidences = np.array(class_probs) * np.array(objectness)# 计算绝对概率\n",
    "    #5，NMS\n",
    "    CONF_THRES = 0.1\n",
    "    NMS_THRES = 0.4\n",
    "    indexes = cv2.dnn.NMSBoxes(boxes,confidences,CONF_THRES,NMS_THRES)\n",
    "\n",
    "    #6，遍历所有预测框+可视化\n",
    "    colors = [[255,0,255],[0,0,255],[0,255,255],[0,255,0],[255,255,0],[255,0,0],[180,187,28],[223,155,6],[94,218,121]]\n",
    "    for i in indexes.flatten():\n",
    "        x,y,w,h = boxes[i]\n",
    "        confidence = str(round(confidences[i],2))\n",
    "        color = colors[i%len(colors)]\n",
    "        cv2.rectangle(img,(x,y),(x+w,y+h),color,8)\n",
    "        string = '{}:{}'.format(class_names[i],confidence)\n",
    "        cv2.putText(img,string,(x,y+20),cv2.FONT_HERSHEY_PLAIN,3,(255,255,255),5)\n",
    "    return img"
   ]
  },
  {
   "cell_type": "code",
   "execution_count": null,
   "metadata": {},
   "outputs": [],
   "source": [
    "import cv2\n",
    "cap = cv2.VideoCapture(1)\n",
    "while True:\n",
    "    grabbed, frame = cap.read()\n",
    "    while not grabbed:\n",
    "        continue\n",
    "    cv2.imshow(\"capture\", predict_yolov3(frame,classes,net))\n",
    "    # cv2.waitKey(0)  # 捕获并显示一帧，按键后捕获并显示新的一帧\n",
    "    if cv2.waitKey(1) & 0xFF == ord('q'):\n",
    "        break\n",
    "cap.release()\n",
    "cv2.destroyAllWindows()"
   ]
  }
 ],
 "metadata": {
  "interpreter": {
   "hash": "cef9e06bb236b2a8629b07e87a04b187b952a0f661eff5533360a155783f0c33"
  },
  "kernelspec": {
   "display_name": "Python 3.7.0 64-bit ('base': conda)",
   "language": "python",
   "name": "python3"
  },
  "language_info": {
   "codemirror_mode": {
    "name": "ipython",
    "version": 3
   },
   "file_extension": ".py",
   "mimetype": "text/x-python",
   "name": "python",
   "nbconvert_exporter": "python",
   "pygments_lexer": "ipython3",
   "version": "3.9.1"
  },
  "orig_nbformat": 4
 },
 "nbformat": 4,
 "nbformat_minor": 2
}
