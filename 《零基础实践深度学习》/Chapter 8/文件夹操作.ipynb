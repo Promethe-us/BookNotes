{
 "cells": [
  {
   "cell_type": "code",
   "execution_count": 2,
   "metadata": {},
   "outputs": [],
   "source": [
    "'''\n",
    "删除文件夹内的.json文件\n",
    "'''\n",
    "import os\n",
    "filepath = 'C:/Users/吴坷/Desktop/insect_det/JPEGImages'\n",
    "files = os.listdir(filepath)\n",
    "\n",
    "use = True\n",
    "if use:\n",
    "  for filename in files:\n",
    "    portion = os.path.splitext(filename)  # 分离文件名与扩展名\n",
    "    # 如果后缀是jpg\n",
    "    if portion[1] == '.json':\n",
    "        os.remove(filepath + '/' + filename)\n"
   ]
  },
  {
   "cell_type": "code",
   "execution_count": 3,
   "metadata": {},
   "outputs": [],
   "source": [
    "'''\n",
    "将jpg改为jpeg\n",
    "'''\n",
    "import os\n",
    "filepath = 'C:/Users/吴坷/Desktop/insect_det/JPEGImages'\n",
    "files = os.listdir(filepath)\n",
    "\n",
    "use = True\n",
    "if use:\n",
    "  for filename in files:\n",
    "    portion = os.path.splitext(filename)  # 分离文件名与扩展名\n",
    "    # 如果后缀是jpg\n",
    "    if portion[1] == '.jpg':\n",
    "            newname = portion[0]+'.jpeg'\n",
    "            os.rename(filepath+'/'+filename,filepath+'/'+newname)\n"
   ]
  }
 ],
 "metadata": {
  "interpreter": {
   "hash": "cef9e06bb236b2a8629b07e87a04b187b952a0f661eff5533360a155783f0c33"
  },
  "kernelspec": {
   "display_name": "Python 3.7.0 64-bit ('base': conda)",
   "language": "python",
   "name": "python3"
  },
  "language_info": {
   "codemirror_mode": {
    "name": "ipython",
    "version": 3
   },
   "file_extension": ".py",
   "mimetype": "text/x-python",
   "name": "python",
   "nbconvert_exporter": "python",
   "pygments_lexer": "ipython3",
   "version": "3.7.0"
  },
  "orig_nbformat": 4
 },
 "nbformat": 4,
 "nbformat_minor": 2
}
