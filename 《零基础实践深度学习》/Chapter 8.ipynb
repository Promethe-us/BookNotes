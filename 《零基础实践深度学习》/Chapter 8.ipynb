{
 "cells": [
  {
   "cell_type": "markdown",
   "metadata": {},
   "source": [
    "# Chapter 8 精通深度学习的高级内容\n",
    "### 目录\n",
    "> Part 1 Paddle Hub (1.6.1) 基于PaddlePaddle 1.7.3  \n",
    "> Part 2 PaddleSeg，PaddleDetection  \n",
    "> Part 3 设计思想、静态图、动态图、二次研发  \n",
    "> Part 4 工业部署\n",
    ">> 动态图转静态图  \n",
    ">> Paddle Lite  \n",
    ">> Paddle Slim\n",
    "\n",
    "\n",
    "我们还有很多其他内容要学习:  \n",
    "- 需要针对业务场景提出建模方案\n",
    "- 探索众多的复杂模型哪个更加有效\n",
    "- 探索将模型部署到各种类型的硬件上"
   ]
  },
  {
   "cell_type": "markdown",
   "metadata": {},
   "source": [
    "大多数深度学习任务都是在现成的模型上修改优化  \n",
    ">飞桨提供了三种类型的模型资源 \n",
    ">> 预训练模型工具 PaddleHub  \n",
    ">> 特定场景的开发套件 PaddleSeg,ERNIE  \n",
    ">> 开源的模型库 Paddle Models  \n",
    "- PaddleHub是一个预训练模型管理和迁移学习组件，提供了100多种预训练模型，覆盖CV，NLP，语音，推荐 四大领域。模型即软件，通过python API 或者命令行工具，一行代码实现预训练模型的预测，结合Finetune API，10行代码实现迁移学习，是进行原型验证(POC)的首选工具。\n",
    "\n",
    "- 当读者挑战一些最新的模型时，少数情况下会碰到模型需要的算子框架中没有实现的情况，本章会学习为paddle框架添加自定义框算子的方法。\n",
    "- 本章会介绍 Paddle Inference,  Paddle Serving,  Paddle Lite 来满足上面的需求，并介绍PaddleSlim，可以让模型在有限条件的硬件上以更快的速度运行。\n",
    "  \n",
    "   ![title](https://img2.baidu.com/it/u=68423699,3683953266&fm=253&fmt=auto&app=138&f=PNG?w=1071&h=500)\n",
    "    \n",
    "|组件|简介|\n",
    "|--|--|\n",
    "|Paddle Inference|飞桨原生推理库，用于服务器端模型部署，支持Python、C++、Go|\n",
    "|Paddle Serving|飞桨服务化部署框架，用于云端服务化部署，可以将模型作为单独的Web服务|\n",
    "|Paddle Lite|飞桨轻量化推理引擎，用于MObile及IOT场景|\n",
    "|Paddle.js|用于浏览器小程序部署模型|\n",
    "|PaddleSlim|模型压缩工具|\n",
    "|X2Paddle|飞将模型转换工具，转换以后可以方便的使用以上五个工具|\n",
    "|PaddleX|图形化界面全流程开发工具|\n"
   ]
  },
  {
   "cell_type": "markdown",
   "metadata": {},
   "source": [
    "### Par 1 Paddle Hub\n",
    "- 预训练模型的应用背景\n",
    "- PaddleHub的快速使用方法和Paddle Hub支持的模型列表\n",
    "- 通过一个完整的案例，介绍如何通过使用自己的数据Fine-tune PaddleHub的预训练模型\n",
    "- Paddle Hubv有两种使用方式，Python代码调用，命令行调用"
   ]
  },
  {
   "cell_type": "code",
   "execution_count": 1,
   "metadata": {
    "execution": {
     "iopub.execute_input": "2022-02-02T06:11:10.309416Z",
     "iopub.status.busy": "2022-02-02T06:11:10.309198Z",
     "iopub.status.idle": "2022-02-02T06:11:10.318461Z",
     "shell.execute_reply": "2022-02-02T06:11:10.317965Z",
     "shell.execute_reply.started": "2022-02-02T06:11:10.309383Z"
    },
    "scrolled": true
   },
   "outputs": [
    {
     "data": {
      "text/plain": [
       "'\\nPart 1.1,演示口罩检测\\n'"
      ]
     },
     "execution_count": 1,
     "metadata": {},
     "output_type": "execute_result"
    }
   ],
   "source": [
    "'''\n",
    "Part 1.1,演示口罩检测\n",
    "'''\n",
    "#!pip install paddlehub==1.6.1 -i https://pypi.tuna.tsinghua.edu.cn/simple\n",
    "#!wget1 https://paddlehub.bj.bcebos.com/resources/test_mask_detection.jpg\n",
    "\n",
    "#加载预训练模型\n",
    "#!hub install pyramidbox_lite_mobile_mask==1.3.0\n",
    "#运行预测结果\n",
    "#!hub run pyramidbox_lite_mobile_mask --input_path test_mask_detection.jpg"
   ]
  },
  {
   "cell_type": "code",
   "execution_count": 2,
   "metadata": {
    "execution": {
     "iopub.execute_input": "2022-02-02T06:11:10.319699Z",
     "iopub.status.busy": "2022-02-02T06:11:10.319298Z",
     "iopub.status.idle": "2022-02-02T06:11:10.822723Z",
     "shell.execute_reply": "2022-02-02T06:11:10.822020Z",
     "shell.execute_reply.started": "2022-02-02T06:11:10.319673Z"
    },
    "scrolled": true
   },
   "outputs": [],
   "source": [
    "'''\n",
    "基于迁移学习的思想，我们可以先将模型在数据丰富的任务上学习，在使用新任务的小数据量进行Fine-tune，最终达到不错的效果\n",
    "自监督学习:对于没有label的图像，将部分图像进行遮挡。未遮挡部分作为模型的输入，遮挡部分作为模型的输出。\n",
    "'''\n",
    "\n",
    "'''\n",
    "1,python方式使用Paddle Hub实现以下功能：\n",
    "                                    (1)人像抠图（deeplabv3p_xception_humanseg)\n",
    "                                    (2)人体部位检测(ace2p)\n",
    "                                    (3)人脸检测(ultra_light_fast_generic_face_detector_lmb_640)\n",
    "                                    (4)关键点检测(human_pose_estimation_resnet50_mpii) \n",
    "'''\n",
    "#!wget https://gimg2.baidu.com/image_search/src=http%3A%2F%2Fb-ssl.duitang.com%2Fuploads%2Fitem%2F201712%2F10%2F20171210151154_3vxcu.thumb.700_0.jpeg&refer=http%3A%2F%2Fb-ssl.duitang.com&app=2002&size=f9999,10000&q=a80&n=0&g=0n&fmt=jpeg?sec=1645086904&t=310c8fde1f3b6f4343e27fc584009a16\n",
    "test_img_path = ['./test.jpg']\n",
    "import matplotlib.pyplot as plt \n",
    "import matplotlib.image as mpimg \n",
    "# import paddlehub as hub\n",
    "#matplotlib.image.imread()读取图片是numpy\n",
    "img = mpimg.imread(test_img_path[0])\n",
    "\n",
    "\n",
    "# (1)人像抠图\n",
    "# !hub install deeplabv3p_xception65_humanseg == 1.1.0\n",
    "# module = hub.Module(name='deeplabv3p_xception65_humanseg')\n",
    "# res = module.segmentation(paths=['./test.jpg'],visualization=True,output_dir='humanseg_output')\n",
    "\n",
    "# (2)人体部位分割\n",
    "# !hub install ace2p==1.1.0\n",
    "# module = hub.Module(name='ace2p')\n",
    "# res = module.segmentation(paths=['./test.jpg'],visualization=True,output_dir='ace2p_output')\n",
    "\n",
    "# (3)人脸检测\n",
    "# !hub install ultra_light_fast_generic_face_detector_1mb_640==1.1.2\n",
    "# module = hub.Module(name='ultra_light_fast_generic_face_detector_1mb_640')\n",
    "# res = module.face_detection(paths=['./test.jpg'],visualization=True,output_dir='face_detection_output')\n",
    "\n",
    "# (4)关键点检测\n",
    "# !hub install human_pose_estimation_resnet50_mpii == 1.1.0\n",
    "# module = hub.Module(name='human_pose_estimation_resnet50_mpii')\n",
    "# res = module.keypoint_detection(paths=['./test.jpg'],visualization=True,output_dir='keypoint_output')\n"
   ]
  },
  {
   "cell_type": "code",
   "execution_count": 3,
   "metadata": {
    "execution": {
     "iopub.execute_input": "2022-02-02T06:11:10.824744Z",
     "iopub.status.busy": "2022-02-02T06:11:10.824382Z",
     "iopub.status.idle": "2022-02-02T06:11:10.829327Z",
     "shell.execute_reply": "2022-02-02T06:11:10.828815Z",
     "shell.execute_reply.started": "2022-02-02T06:11:10.824718Z"
    },
    "scrolled": true
   },
   "outputs": [
    {
     "data": {
      "text/plain": [
       "'\\n2,NLP:\\n     (1) 中文分词\\n     (2) 情感分类\\n'"
      ]
     },
     "execution_count": 3,
     "metadata": {},
     "output_type": "execute_result"
    }
   ],
   "source": [
    "'''\n",
    "2,NLP:\n",
    "     (1) 中文分词\n",
    "     (2) 情感分类\n",
    "'''\n",
    "\n",
    "# 1,使用lac进行分词\n",
    "# !hub install lac==2.1.1\n",
    "# lac = hub.Module(name='lac')\n",
    "# test_text = ['当前，时代之变和世纪疫情相互叠加，世界进入新的动荡变革期。如何战胜疫情？如何建设疫后世界？世界既茫然，更期待中国声音，呼唤中国方案。']\n",
    "# res = lac.lexical_analysis(texts = test_text)\n",
    "# print(res)\n",
    "\n",
    "# 2,使用senta_lilstm进行分词\n",
    "# !hub install senta_bilstm == 1.1.0\n",
    "# senta = hub.Module(name='senta_bilstm')\n",
    "# test_text = ['习近平强调，当今世界正在经历百年未有之大变局。这场变局不限于一时一事、一国一域，而是深刻而宏阔的时代之变。时代之变和世纪疫情相互叠加，世界进入新的动荡变革期。']\n",
    "# res = senta.sentiment_classify(texts=test_text)\n",
    "# print(res)"
   ]
  },
  {
   "cell_type": "markdown",
   "metadata": {},
   "source": [
    "通过命令行使用paddle hub\n",
    "```python\n",
    "# 通过命令行实现人像分割任务\n",
    "!hub run deeplabv3p_xception65_humanseg --input_path test.jpg\n",
    "\n",
    "```\n",
    "\n",
    "```python\n",
    "# 通过命令行实现文本分词任务\n",
    "!hub run lac --input_text '今天是个好日子'\n",
    "\n",
    "```\n",
    "\n",
    "- hub表示PaddleHub命令\n",
    "- run表示run执行模型的预测\n",
    "- PaddleHub的命令行工具在开发时借鉴了Anaconda和PIP等软件包管理的概念，可以方便快捷的完成模型的搜索，下载，安装，升级，预测等功能。  \n",
    "\n",
    "Paddle Hub支持以下13个命令:\n",
    "\n",
    "|命令|含义|\n",
    "|--|--|\n",
    "|install|用于将Module安装到本地，默认在$/.paddlehub/modules 目录下|\n",
    "|uninstall|卸载本地Module|\n",
    "|show|用于查看本地已安装的Module的属性或者指定目录下Module信息|\n",
    "|search|通过关键字在服务端搜索匹配的Module，例如hub search ssd会搜索所有带ssd的模型|\n",
    "|list|列出本地已安装的Module|\n",
    "|run|用于执行Module的预测|\n",
    "|version|显示版本|\n",
    "|help|显示帮助信息|\n",
    "|clear|清空paddlehub/cache下面的缓存信息|\n",
    "|autofinetune|用于自动调整Fine-tune任务的超参数|\n",
    "|config|查看相关设置|\n",
    "|serving|用于一键部署Module预测服务|\n",
    "\n",
    "  \n",
    "Paddle Hub 提供的预训练模型：  \n",
    "(详见：https://www.paddlepaddle.org.cn/hublist)\n",
    "此处只列出提供的cv的预训练模型  \n",
    "\n",
    "|任务|提供的模型|\n",
    "|--|--|\n",
    "|图像分类|vgg、xception、shufflenetv2、se_resnet、resnet、resnet_vd、resnet_v2、pnasnet、mobilenet、inception_v4、Googlenet、efficient、dpn、densenet、darknet、alexnet|\n",
    "|关键点检测|pose_resnet50_mpii、face_landmark_localization|\n",
    "|目标检测|yolov3、ssd、Pyramidbox、faster_rcnn|\n",
    "|图像生成|StyleProNNet、stgan、cyclegan、attga|\n",
    "|图像分割|deeplabv3、ace2p|\n",
    "|视频分类|TSN、TSM、stnet、nonlocal|\n",
    "\n",
    "  \n",
    "![title](https://img-blog.csdnimg.cn/20200830104207296.jpg?x-oss-process=image/watermark,type_ZmFuZ3poZW5naGVpdGk,shadow_10,text_aHR0cHM6Ly9ibG9nLmNzZG4ubmV0L3dlaXhpbl80NTM3MjQzMQ==,size_16,color_FFFFFF,t_70#pic_center)  \n",
    "\n",
    "  \n",
    "  步骤如下：  \n",
    "  - (1) 安装PaddleHub\n",
    "  - (2) 数据准备\n",
    "  - (3) 模型准备\n",
    "  - (4) 训练准备\n",
    "  - (5) 组件Fine-tune Task\n",
    "  - (6) 启动FineTune  \n",
    "    \n",
    " ![title](http://tiebapic.baidu.com/forum/w%3D580/sign=9dd8b370782dd42a5f0901a3333a5b2f/2ffba6014c086e065767d9525f087bf40bd1cbbb.jpg)"
   ]
  },
  {
   "cell_type": "markdown",
   "metadata": {},
   "source": [
    "##### step 1: 略\n",
    "##### step 2：数据准备  \n",
    "\n",
    "\n"
   ]
  },
  {
   "cell_type": "code",
   "execution_count": 4,
   "metadata": {
    "execution": {
     "iopub.execute_input": "2022-02-02T06:11:10.830554Z",
     "iopub.status.busy": "2022-02-02T06:11:10.830324Z",
     "iopub.status.idle": "2022-02-02T06:11:10.836295Z",
     "shell.execute_reply": "2022-02-02T06:11:10.835748Z",
     "shell.execute_reply.started": "2022-02-02T06:11:10.830529Z"
    },
    "scrolled": true
   },
   "outputs": [
    {
     "data": {
      "text/plain": [
       "\"\\nimport numpy as np \\ndata = ['./work/peach-classification/test/M2/0.png']\\ntask.predict(data=data, return_result=True)\\n\""
      ]
     },
     "execution_count": 4,
     "metadata": {},
     "output_type": "execute_result"
    }
   ],
   "source": [
    "# step 2：数据读取\n",
    "#!unzip -q -o data/data125928/peach-classification.zip\n",
    "#!pip install paddlepaddle==2.0.2\n",
    "#!pip install paddlepaddle-gpu==2.0.2\n",
    "#!pip install paddlehub==1.6.1\n",
    "# import paddlehub as hub\n",
    "# from paddlehub.dataset.base_cv_dataset import BaseCVDataset\n",
    "\n",
    "# class DemoDataset(BaseCVDataset):\n",
    "#     def __init__(self):\n",
    "#         self.dataset_dir = 'peach-classification'\n",
    "#         super(DemoDataset,self).__init__(base_path=self.dataset_dir,    train_list_file='train_list.txt',   validate_list_file='validate_list.txt',   test_list_file='test_list.txt',   label_list_file='label_list.txt')\n",
    "# dataset = DemoDataset()\n",
    "\n",
    "# # step 3: 模型准备\n",
    "# import paddle\n",
    "# !hub install resnet_v2_50_imagenet\n",
    "# module = hub.Module(name='resnet_v2_50_imagenet')\n",
    "\n",
    "# # 对于原始数据做一些预处理\n",
    "# # 1.统一尺寸 2.归一化处理\n",
    "# data_reader = hub.reader.ImageClassificationReader(\n",
    "#     image_width = module.get_expected_image_width(),\n",
    "#     image_height = module.get_expected_image_height(), \n",
    "#     images_mean = module.get_pretrained_images_mean(),\n",
    "#     images_std = module.get_pretrained_images_std(),\n",
    "#     dataset = dataset)\n",
    "\n",
    "# # step 4:训练准备\n",
    "# config= hub.RunConfig(use_cuda=True, num_epoch=1, checkpoint_dir='cv_finetune_turtorial_demo', batch_size=5, eval_interval=5, strategy=hub.finetune.strategy.DefaultFinetuneStrategy()) \n",
    "\n",
    "# # step 5:组建Fine-tune Task\n",
    "# '''\n",
    "# 在Paddle Hub 中，Task代表了一个Fine-tune任务，任务中包含了执行该任务相关的program,数据读取器Reader,运行配置等内容。\n",
    "# (1)获取Module的上下文环境，包括输入和输出变量，以及Paddle Program可以执行的模型格式\n",
    "# (2)从预训练模型的输出变量中找到特征图提取层 feature_map,在feature_map后面接一个FCN，通过hub.ImageClassifierTask的feature_map参数指定\n",
    "# (3)网络的输入层保持不变，在hub.ImageClassifierTask的feed_list指定。\n",
    "# '''\n",
    "# # 获取module的上下文信息包括输入，输出变量以及paddle program\n",
    "# input_dict, output_dict, program = module.context(trainable=True)\n",
    "# img = input_dict['image']\n",
    "# # 从预训练模型的输出变量中找到最后一层特征图，提到最后一层的feature_map\n",
    "# feature_map = output_dict['feature_map']\n",
    "# feed_list = [img.name]\n",
    "# task = hub.ImageClassifierTask(data_reader=data_reader, feed_list=feed_list, feature=feature_map, num_classes=dataset.num_labels, config=config)\n",
    "\n",
    "# run_states = task.finetune_and_eval()\n",
    "# Step 6:启动 Fine-tune\n",
    "'''\n",
    "import numpy as np \n",
    "data = ['./work/peach-classification/test/M2/0.png']\n",
    "task.predict(data=data, return_result=True)\n",
    "'''"
   ]
  },
  {
   "cell_type": "markdown",
   "metadata": {},
   "source": [
    "https://blog.csdn.net/weixin_42076509/article/details/105899447"
   ]
  },
  {
   "cell_type": "code",
   "execution_count": 5,
   "metadata": {
    "execution": {
     "iopub.execute_input": "2022-02-02T06:11:10.837378Z",
     "iopub.status.busy": "2022-02-02T06:11:10.837079Z",
     "iopub.status.idle": "2022-02-02T06:11:10.841440Z",
     "shell.execute_reply": "2022-02-02T06:11:10.840885Z",
     "shell.execute_reply.started": "2022-02-02T06:11:10.837356Z"
    },
    "scrolled": true
   },
   "outputs": [],
   "source": [
    "# import numpy as np \n",
    "\n",
    "\n",
    "# data = ['peach-classification/test/8/5.png']\n",
    "# task.predict(data=data, return_result=True)"
   ]
  },
  {
   "cell_type": "markdown",
   "metadata": {},
   "source": [
    "如果说PaddleHub提供的是AI任务快速运行方案(POC)，飞桨的开发套件则是比PaddleHub提供更丰富的“模型调节”的工具，开发者可以依据这些开发套件找到 State of the art\n",
    "PaddleHub:开发者用预训练模型结合Fine-tune快速完成模型迁移。  \n",
    "Paddlehub是一个拿来即用的工具，那么飞桨的开发套件就是工具箱，工具箱中不仅包含多种多样的工具(深度学习算法模型)，更包含了这些工具的制作方法(模型训练调优方案)。\n",
    "  \n",
    "比如在计算机视觉领域: 图像分割PaddleSeg、目标检测PaddleDetection、图像分类PaddleClas、海量类别分类PLSC、文字识别PaddleOCR\n",
    "\n"
   ]
  },
  {
   "cell_type": "markdown",
   "metadata": {},
   "source": [
    "\n",
    "## Part 2 Paddleseg\n",
    "\n",
    "- Model Zoo  \n",
    "![title](http://tiebapic.baidu.com/forum/w%3D580/sign=033f077191bf6c81f7372ce08c3fb1d7/e16b4436acaf2edd3c71aaf0d01001e93801938e.jpg)\n",
    "\n",
    "- (1)如果是图像分割的初学者，推荐使用U-Net或者PSPNet\n",
    "- (2)如果希望以较快的速度完成训练和预测，则推荐使用DeepLabv3+(MobileNetv2)、ICNet、Fast-SCNN模型\n",
    "- (3)如果希望获得最佳的综合性能，推荐使用HRNet、DeepLabv3+(Xception65)  \n",
    "  \n",
    "(例如DeepLabv3+分割网络，选用Xception65作为backbone可以得到高精度的模型，选用MobileNet2作为backbone可以得到推理速度更快的模型)  \n",
    "  \n",
    "    \n",
    ">(1)准备环境 Paddle>1.8,python>3.5  \n",
    ">(2)准备数据集  \n",
    ">(3)下载预训练模型  \n",
    ">(4)模型训练:训练配置和启动训练命令  \n",
    ">(5)可视化训练过程  \n",
    ">(6)模型评估  \n",
    "\n",
    "!python PaddleSeg/paddleseg/vis.py ${FLAGS} -- ${OPTIONS}\n",
    "\n",
    "|模型名称|模型简介|\n",
    "|--|--|\n",
    "|AlexNet|首次在CNN中成功应用了ReLU，Dropout和LRN，并使用GPU进行运算加速\n",
    "|VGG19|在AlexNet的基础上使用3✖3小卷积核，增加网络深度，具有很好的泛化能力。|\n",
    "|GoogLeNet|在不增加计算负载的前提下增加了网络的深度和宽度|\n",
    "|ResNet50|Residual Network,引入了新的残差结构，解决了随着网络加深，准确率下降的问题|\n",
    "|Resnet_vd|服务器端部署|\n",
    "|Inceptionv4|将Inception模块与Residual Connection模块进行结合，通过Resnet结合，通过Resnet结构加快训练并获得性能的提升|\n",
    "|MobileNetV1|将传统的卷积结构改造成两层的卷积结构网络，在基本不影响准确率的前提下大大减小计算时间，更适合移动端和嵌入式的视觉应用|\n",
    "|MobilenetV2|MobileNet结构微调，直接在thinner的bottleneck层上进行skip learning连接以及对bottleneck layer不进行ReLU非线性处理可以取得更好的结果|\n",
    "|MobilenetV3|非常实用的移动端模型，在骁龙855上(75.3%,50fps)|\n",
    "|SENet154_vd|在ResNext基础上，加入了SE（Squeeze-and-Excitation），提高了识别准确率，在ILSVRC2017的分类项目中取得第一名|\n",
    "|ShuffleNetv2|轻量CNN网络，在同等速度下，比Shufflenet更准确，更适合无人车领域|\n",
    "|efficientNet|同时对模型的分辨率，通道数和深度进行缩放，用极少参数就可以达到SOTA的精度|\n",
    "|xception71|对于Inceptionv3的改进|\n",
    "|Darknet53|检测框架yolov3的backbone|  \n",
    "\n",
    "- 例如图像检测Yolov3算法应用于南方电网，实现机器人巡检读指针类表。FastRCNN算法应用于中科院遥感地块分割，Mobilenet用于大恒图像电池隔膜缺陷检测。\n",
    "\n",
    "```python\n",
    "# 训练\n",
    "!python paddleseg/train.py --cfg configs/unet_optic.yaml \\\n",
    "                  --use_gpu\\\n",
    "                  --do_eval\\\n",
    "                  --use_vdl\\\n",
    "                  --vdl_log_dir train_log \\\n",
    "                  BATCH_SIZE 4\\\n",
    "                  SOLVER.LR 0.001\n",
    "# 测试\n",
    "!pythonpaddleseg/eval.py --use_gpu \\\n",
    "                 --cfg configs/unet_optic.yaml \\\n",
    "                 TEST.TEST_MODEL saved_model/unet_optic/final\n",
    "```\n",
    " #### FLAGS参数 \n",
    "|FLAGS|Default Options|how to use|\n",
    "|--|--|--|\n",
    "|--cfg|None|从./configs文件夹中选择一个.yaml文件作为配置文件路径|\n",
    "|--use_gpu|Flase|指定使用GPU训练|\n",
    "|--use_mpio |False|在Linux系统下训练，可以配置该参数使用多进程I/O，从而提升数据增强的处理速度，windows平台不支持该功能|\n",
    "|--use_vdl|False|是否使用VisualDL|\n",
    "|--log_steps|10|指定训练日志的打印周期|\n",
    "|--debug|False|指定打印debug信息，IoU等指标涉及混淆矩阵的运算，会降低运算速度|\n",
    "|--vdl_log_dir|None|VisualDL的日志路径|\n",
    "|--do_eval|None|指定保存模型时进行效果评估|\n",
    "\n",
    " #### OPTIONS参数 \n",
    " |OPTIONS|meaning|\n",
    " |--|--|\n",
    " |BASIC.BATCH_SIZE|批处理大小|\n",
    " |SOLVER.LR|学习率|\n",
    " |TRAIN.PRETRAIINED_MODEL_DIR|预训练模型路径|\n",
    " |TEST.TEST_MODEL|测试模型的路径| \n",
    " |AUG.VAL_CROP_SIZE|验证时的图像裁剪尺寸|\n",
    " |AUG.VAL_CROP_SIZE|训练时的图像裁剪尺寸|\n",
    " |MODEL.MODEL_NAME|模型名称|\n",
    " |DATASET.DATA_DIR|数据集主目录|\n",
    "\n"
   ]
  },
  {
   "cell_type": "code",
   "execution_count": 6,
   "metadata": {
    "execution": {
     "iopub.execute_input": "2022-02-02T06:11:10.842487Z",
     "iopub.status.busy": "2022-02-02T06:11:10.842188Z",
     "iopub.status.idle": "2022-02-02T06:11:10.845440Z",
     "shell.execute_reply": "2022-02-02T06:11:10.844935Z",
     "shell.execute_reply.started": "2022-02-02T06:11:10.842464Z"
    },
    "scrolled": true
   },
   "outputs": [],
   "source": [
    "# !git clone https://gitee.com/paddlepaddle/PaddleSeg\n",
    "# %cd ~/PaddleSeg/\n",
    "# !pip install - r requirements.txt"
   ]
  },
  {
   "cell_type": "markdown",
   "metadata": {},
   "source": [
    "## Part 3 设计思想、静态图、动态图、二次研发\n",
    "神经网络模型是一个Program，由多个Block(控制流结构)构成，每个block是由Operator(算子)和Variable(数据表示)，经过串联形成从输入到输出的计算流。\n",
    "- 飞桨采用类似于编程语言的抽象语法树的形式描述用户的神经网络配置，我们称之为Program，构建深度学习模型的代码时，将其中的计算模块写入Program，可以理解为Program是模型计算的集合体。比如GAN模型。\n",
    "- Program由嵌套的Block构成，Block是高级语言中变量作用域的概念，比如if条件语句下的代码可以视为是一个Block，Block是可以嵌套的。BLock中又包括Operator和Variable。\n",
    "![title](http://tiebapic.baidu.com/forum/w%3D580/sign=d18763e2d745d688a302b2ac94c37dab/779c9625bc315c6026d2c13ec8b1cb134854777a.jpg)\n",
    "\n",
    "- 在一个Block中，飞桨将神经网络抽象为Operator(算子)和Variable(变量)，神经网络的的每层操作均有一个或若干Operator组成，每个Operator接收一系列的Variable作为输入，经过计算输出一系列的Variable。\n",
    "- 关于Program具体的结构和包含的类型可参考设计实现frame.proto\n",
    "- 构建深度学习模型时，用户只需定义前向计算网络，损失函数和优化算法，框架会自动生成前向计算和梯度优化的流程，该流程由初始化程序(startup_program)与主程序(main_program)实现。\n",
    "- 一个Program的集合通常包含初始化程序(start_program)与主程序(main_program)组成默认情况下，飞桨的神经网络模型包括两个program,分别是fluid.default_startup_program( )以及fluid.default_main_program( )  他们共享参数，startup函数只运行一次来初始化参数，main函数在每个batch运行来更新权重。\n"
   ]
  },
  {
   "cell_type": "code",
   "execution_count": 7,
   "metadata": {
    "execution": {
     "iopub.execute_input": "2022-02-02T06:11:10.846594Z",
     "iopub.status.busy": "2022-02-02T06:11:10.846184Z",
     "iopub.status.idle": "2022-02-02T06:11:12.175491Z",
     "shell.execute_reply": "2022-02-02T06:11:12.174113Z",
     "shell.execute_reply.started": "2022-02-02T06:11:10.846557Z"
    },
    "scrolled": true
   },
   "outputs": [
    {
     "name": "stderr",
     "output_type": "stream",
     "text": [
      "/opt/conda/envs/python35-paddle120-env/lib/python3.7/site-packages/paddle/fluid/layers/utils.py:26: DeprecationWarning: `np.int` is a deprecated alias for the builtin `int`. To silence this warning, use `int` by itself. Doing this will not modify any behavior and is safe. When replacing `np.int`, you may wish to use e.g. `np.int64` or `np.int32` to specify the precision. If you wish to review your current use, check the release note link for additional information.\n",
      "Deprecated in NumPy 1.20; for more details and guidance: https://numpy.org/devdocs/release/1.20.0-notes.html#deprecations\n",
      "  def convert_to_list(value, n, name, dtype=np.int):\n"
     ]
    },
    {
     "ename": "AssertionError",
     "evalue": "In PaddlePaddle 2.x, we turn on dynamic graph mode by default, and 'data()' is only supported in static graph mode. So if you want to use this api, please call 'paddle.enable_static()' before this api to enter static graph mode.",
     "output_type": "error",
     "traceback": [
      "\u001b[0;31m---------------------------------------------------------------------------\u001b[0m",
      "\u001b[0;31mAssertionError\u001b[0m                            Traceback (most recent call last)",
      "\u001b[0;32m/tmp/ipykernel_8446/3201736621.py\u001b[0m in \u001b[0;36m<module>\u001b[0;34m\u001b[0m\n\u001b[1;32m      3\u001b[0m \u001b[0;31m# 声明数据\u001b[0m\u001b[0;34m\u001b[0m\u001b[0;34m\u001b[0m\u001b[0;34m\u001b[0m\u001b[0m\n\u001b[1;32m      4\u001b[0m \u001b[0mbatch_size\u001b[0m \u001b[0;34m=\u001b[0m \u001b[0;36m10\u001b[0m\u001b[0;34m\u001b[0m\u001b[0;34m\u001b[0m\u001b[0m\n\u001b[0;32m----> 5\u001b[0;31m \u001b[0mdata\u001b[0m \u001b[0;34m=\u001b[0m \u001b[0mfluid\u001b[0m\u001b[0;34m.\u001b[0m\u001b[0mdata\u001b[0m\u001b[0;34m(\u001b[0m\u001b[0mname\u001b[0m\u001b[0;34m=\u001b[0m\u001b[0;34m'Xx'\u001b[0m\u001b[0;34m,\u001b[0m\u001b[0mshape\u001b[0m\u001b[0;34m=\u001b[0m\u001b[0;34m[\u001b[0m\u001b[0mbatch_size\u001b[0m\u001b[0;34m,\u001b[0m\u001b[0;36m1\u001b[0m\u001b[0;34m]\u001b[0m\u001b[0;34m,\u001b[0m\u001b[0mdtype\u001b[0m\u001b[0;34m=\u001b[0m\u001b[0;34m'float32'\u001b[0m\u001b[0;34m)\u001b[0m\u001b[0;34m\u001b[0m\u001b[0;34m\u001b[0m\u001b[0m\n\u001b[0m\u001b[1;32m      6\u001b[0m \u001b[0;31m# 定义网络层\u001b[0m\u001b[0;34m\u001b[0m\u001b[0;34m\u001b[0m\u001b[0;34m\u001b[0m\u001b[0m\n\u001b[1;32m      7\u001b[0m \u001b[0mhidden\u001b[0m \u001b[0;34m=\u001b[0m \u001b[0mfluid\u001b[0m\u001b[0;34m.\u001b[0m\u001b[0mlayers\u001b[0m\u001b[0;34m.\u001b[0m\u001b[0mfc\u001b[0m\u001b[0;34m(\u001b[0m\u001b[0minput\u001b[0m\u001b[0;34m=\u001b[0m\u001b[0mdata\u001b[0m\u001b[0;34m,\u001b[0m\u001b[0msize\u001b[0m\u001b[0;34m=\u001b[0m\u001b[0;36m10\u001b[0m\u001b[0;34m)\u001b[0m\u001b[0;34m\u001b[0m\u001b[0;34m\u001b[0m\u001b[0m\n",
      "\u001b[0;32m<decorator-gen-141>\u001b[0m in \u001b[0;36mdata\u001b[0;34m(name, shape, dtype, lod_level)\u001b[0m\n",
      "\u001b[0;32m/opt/conda/envs/python35-paddle120-env/lib/python3.7/site-packages/paddle/fluid/wrapped_decorator.py\u001b[0m in \u001b[0;36m__impl__\u001b[0;34m(func, *args, **kwargs)\u001b[0m\n\u001b[1;32m     23\u001b[0m     \u001b[0;32mdef\u001b[0m \u001b[0m__impl__\u001b[0m\u001b[0;34m(\u001b[0m\u001b[0mfunc\u001b[0m\u001b[0;34m,\u001b[0m \u001b[0;34m*\u001b[0m\u001b[0margs\u001b[0m\u001b[0;34m,\u001b[0m \u001b[0;34m**\u001b[0m\u001b[0mkwargs\u001b[0m\u001b[0;34m)\u001b[0m\u001b[0;34m:\u001b[0m\u001b[0;34m\u001b[0m\u001b[0;34m\u001b[0m\u001b[0m\n\u001b[1;32m     24\u001b[0m         \u001b[0mwrapped_func\u001b[0m \u001b[0;34m=\u001b[0m \u001b[0mdecorator_func\u001b[0m\u001b[0;34m(\u001b[0m\u001b[0mfunc\u001b[0m\u001b[0;34m)\u001b[0m\u001b[0;34m\u001b[0m\u001b[0;34m\u001b[0m\u001b[0m\n\u001b[0;32m---> 25\u001b[0;31m         \u001b[0;32mreturn\u001b[0m \u001b[0mwrapped_func\u001b[0m\u001b[0;34m(\u001b[0m\u001b[0;34m*\u001b[0m\u001b[0margs\u001b[0m\u001b[0;34m,\u001b[0m \u001b[0;34m**\u001b[0m\u001b[0mkwargs\u001b[0m\u001b[0;34m)\u001b[0m\u001b[0;34m\u001b[0m\u001b[0;34m\u001b[0m\u001b[0m\n\u001b[0m\u001b[1;32m     26\u001b[0m \u001b[0;34m\u001b[0m\u001b[0m\n\u001b[1;32m     27\u001b[0m     \u001b[0;32mreturn\u001b[0m \u001b[0m__impl__\u001b[0m\u001b[0;34m\u001b[0m\u001b[0;34m\u001b[0m\u001b[0m\n",
      "\u001b[0;32m/opt/conda/envs/python35-paddle120-env/lib/python3.7/site-packages/paddle/fluid/framework.py\u001b[0m in \u001b[0;36m__impl__\u001b[0;34m(*args, **kwargs)\u001b[0m\n\u001b[1;32m    231\u001b[0m     \u001b[0;32mdef\u001b[0m \u001b[0m__impl__\u001b[0m\u001b[0;34m(\u001b[0m\u001b[0;34m*\u001b[0m\u001b[0margs\u001b[0m\u001b[0;34m,\u001b[0m \u001b[0;34m**\u001b[0m\u001b[0mkwargs\u001b[0m\u001b[0;34m)\u001b[0m\u001b[0;34m:\u001b[0m\u001b[0;34m\u001b[0m\u001b[0;34m\u001b[0m\u001b[0m\n\u001b[1;32m    232\u001b[0m         assert not in_dygraph_mode(\n\u001b[0;32m--> 233\u001b[0;31m         ), \"In PaddlePaddle 2.x, we turn on dynamic graph mode by default, and '%s()' is only supported in static graph mode. So if you want to use this api, please call 'paddle.enable_static()' before this api to enter static graph mode.\" % func.__name__\n\u001b[0m\u001b[1;32m    234\u001b[0m         \u001b[0;32mreturn\u001b[0m \u001b[0mfunc\u001b[0m\u001b[0;34m(\u001b[0m\u001b[0;34m*\u001b[0m\u001b[0margs\u001b[0m\u001b[0;34m,\u001b[0m \u001b[0;34m**\u001b[0m\u001b[0mkwargs\u001b[0m\u001b[0;34m)\u001b[0m\u001b[0;34m\u001b[0m\u001b[0;34m\u001b[0m\u001b[0m\n\u001b[1;32m    235\u001b[0m \u001b[0;34m\u001b[0m\u001b[0m\n",
      "\u001b[0;31mAssertionError\u001b[0m: In PaddlePaddle 2.x, we turn on dynamic graph mode by default, and 'data()' is only supported in static graph mode. So if you want to use this api, please call 'paddle.enable_static()' before this api to enter static graph mode."
     ]
    }
   ],
   "source": [
    "# 构建Program\n",
    "import paddle.fluid as fluid\n",
    "# 声明数据\n",
    "batch_size = 10\n",
    "data = fluid.data(name='Xx',shape=[batch_size,1],dtype='float32')\n",
    "# 定义网络层\n",
    "hidden = fluid.layers.fc(input=data,size=10)\n",
    "# 计算损失\n",
    "loss = fluid.layers.mean(hidden)\n",
    "# 声明优化器\n",
    "sgd_opt = fluid.optimizer.SGD(learning_rate=0.01).minimize(loss)\n",
    "\n",
    "'''\n",
    "每执行一行代码，飞桨都会在构建的Program里添加Variable和Operator\n",
    "fluid.layers.fc属于operator,它包含两个算子矩阵相乘和元素相加\n",
    "\n",
    "飞桨中所有对数据的操作都有Operator表示，为了便于用户使用，在Python端，飞桨的Operator被一步封装到paddle.Tensor和paddle.nn之中\n",
    "在组网时，飞桨在内部会不断添加新的Variable和Operator到计算图里，直到计算图构建完成，在启动训练时飞桨会按照Operator的顺序执行，直到完成训练\n",
    "'''"
   ]
  },
  {
   "cell_type": "code",
   "execution_count": null,
   "metadata": {
    "execution": {
     "iopub.status.busy": "2022-02-02T06:11:12.176500Z",
     "iopub.status.idle": "2022-02-02T06:11:12.176761Z",
     "shell.execute_reply": "2022-02-02T06:11:12.176642Z",
     "shell.execute_reply.started": "2022-02-02T06:11:12.176629Z"
    },
    "scrolled": true
   },
   "outputs": [],
   "source": [
    "# 以简单的矩阵乘法观察Porgram的内容\n",
    "import paddle.fluid as fluid\n",
    "\n",
    "train_program = fluid.Program()\n",
    "start_program = fluid.Program()\n",
    "\n",
    "place = fluid.CPUPlace()\n",
    "with fluid.program_guard(train_program,start_program):\n",
    "    data1 = fluid.data(name='data1',shape=[2,3],dtype='float32')\n",
    "    data2 = fluid.data(name='data2',shape=[3,4],dtype='float32')\n",
    "    res = fluid.layers.mul(data1,data2)\n",
    "    print(fluid.default_main_program())"
   ]
  },
  {
   "cell_type": "markdown",
   "metadata": {},
   "source": [
    "### 飞桨声明式编程(静态图)与命令式编程(动态图)\n",
    "从深度学习模型的构建方式上看，飞桨支持 声明式编程(静态图) 和 命令式编程(动态图)\n",
    "二者的区别是:\n",
    "- (1)静态图采用先编程后执行的方式。用户需要先定义完整的网络结构，在对网络结构进行编译优化，才能执行计算。\n",
    "- (2)动态图采用解析式的执行方式。用户无需预先定义完整的网络结构，每执行一行代码就可以获得完整的网络结构。\n",
    "  \n",
    "静态图和动态图模式对比  \n",
    "\n",
    "|对比项|静态图模式|动态图模式|\n",
    "|--|--|--|\n",
    "|是否可获得每层的计算结果|否，必须构建完整网络后才能运行|是\n",
    "|调试难度|欠佳，不宜调试|结果及时，调试方便|\n",
    "|性能|计算图完全确定，可优化空间多|计算图动态生成|\n",
    "|预测部署能力|可以直接预测部署|要转化为静态图之后才能部署|  \n",
    "\n",
    "IR(Intermediate Representation),表示统一的中间表达。\n",
    "\n",
    "Block在python前端形成，C++后端将Python端的Program转化为统一的中间表达IR，并进行相应的编译优化。\n",
    "- (1) 便于编译优化(非必须)\n",
    "- (2) 便于部署到不同的硬件(Nvidia GPU,Intel GPU,ARM,FPGA等)  \n",
    "\n",
    "静态图是建立在Program,Block,Operator,Variable上的，执行时先转化为IR，再用Executor快速调度Operator，完成网络的训练和预测任务。  \n",
    "在动态图模式下，Operator是即时执行的，在模型训练过程中，运行前向Operator的同时，框架底层会自动记录对应的反方向的Operator所需要的信息，即一边执行前向网络，一边构建反向计算图。最后反向计算图构建完毕，当用户调用z.backward()时根据反向计算图完成反向传播。\n",
    "  \n",
    "动态图的定义很简单，但是静态图比较麻烦，需要以函数形式声明网络，编写大量预定义的配置项，如损失函数、训练所在的机器环境。之后声明一个执行器exe(运行Program，调度Operator完成网络训练/预测)"
   ]
  },
  {
   "cell_type": "markdown",
   "metadata": {},
   "source": [
    "## Part 4 工业部署\n",
    "![title](http://tiebapic.baidu.com/forum/w%3D580/sign=3517908c10fbb2fb342b581a7f482043/589e11178a82b90126695be2368da9773b12effa.jpg)  \n",
    "在模型实际部署时，不需要训练模型的部分，只需要模型的前向计算过程，另外，模型的推理和模型的训练有着不同的硬件环境和性能要求。模型部署多是使用飞桨的save_inference_model保存的模型，Inference模型会额外保存模型的结构信息，在推理速度上性能优越，灵活方便。"
   ]
  },
  {
   "cell_type": "code",
   "execution_count": null,
   "metadata": {
    "execution": {
     "iopub.status.busy": "2022-02-02T06:11:12.178036Z",
     "iopub.status.idle": "2022-02-02T06:11:12.178332Z",
     "shell.execute_reply": "2022-02-02T06:11:12.178171Z",
     "shell.execute_reply.started": "2022-02-02T06:11:12.178159Z"
    },
    "scrolled": true
   },
   "outputs": [],
   "source": [
    "'''\n",
    "1, Paddle Inference\n",
    "\n",
    "C++接口: 高性能部署接口\n",
    "python接口: 性能要求不太高的部署场景\n",
    "'''\n",
    "\n",
    "'''\n",
    "1.1 下面介绍C++接口部署流程\n",
    "'''\n",
    "\n",
    "# 1.1.1，导出模型文件\n",
    "# 1.1.1.1 静态图保存\n",
    "import paddle.fluid as fluid\n",
    "import paddle\n",
    "import numpy as np\n",
    "#fluid.io.save_inference_model(dirname='./sample_model', feeded_var_names=['image'], target_vars=[out], executor=exe, model_filename='model', params_filename='params')\n",
    "# 1.1.1.2 动态图保存\n",
    "from paddle.fluid.dygraph.jit import declarative\n",
    "from paddle.fluid.dygraph import Conv2D\n",
    "from paddle.fluid.dygraph import Pool2D\n",
    "from paddle.fluid.dygraph import Linear\n",
    "\n",
    "class SimpleCNN(fluid.dygraph.Layer):\n",
    "    def __init__(self):\n",
    "        super(SimpleCNN,self).__init__()\n",
    "        self.conv1 = Conv2D(num_channels=3,num_filters=20,filter_size=5,stride=1,padding=2,act='relu')\n",
    "        self.pool1 = Pool2D(pool_size=2,pool_stride=2,pool_type='max')\n",
    "        self.conv2 = Conv2D(num_channels=20,num_filters=20,filter_size=5,stride=1,padding=2,act='relu')\n",
    "        self.pool2 = Pool2D(pool_size=2,pool_stride=2,pool_type='max')\n",
    "        # '''使用以下代码查看Conv，Pool输出层的shape\n",
    "        # net = SimpleCNN()\n",
    "        # param_info = paddle.summary(net,input_size=(1,3,32,32),dtypes='float32')\n",
    "        # '''\n",
    "        self.fc = Linear(input_dim=1280,output_dim=10,act='softmax')\n",
    "\n",
    "    def forward(self,x,label):\n",
    "            x = self.conv1(x)\n",
    "            x = self.pool1(x)\n",
    "            x = self.conv2(x)\n",
    "            x = self.pool2(x)\n",
    "            x = fluid.layers.reshape(x,[x.shape[0],-1])\n",
    "            x = self.fc(x)\n",
    "            acc = fluid.layers.accuracy(input=x,label=label)\n",
    "            return x,acc\n",
    "\n",
    "# 利用ProgramTranslator转换\n",
    "from paddle.fluid.dygraph.dygraph_to_static import ProgramTranslator\n",
    "\n",
    "with fluid.dygraph.guard(place=fluid.CUDAPlace(0)):\n",
    "    model = SimpleCNN()\n",
    "    \n",
    "    params_dict = paddle.load('model_params/simplecnn_of_cifar.pdparams')\n",
    "    model.load_dict(params_dict)\n",
    "\n",
    "    # in_np = np.random.random([10,3,32,32]).astype('float32')\n",
    "    # label_np = np.random.randint(0,10,size=(10,1)).astype('int64')\n",
    "    # input_var = fluid.dygraph.to_variable(in_np)\n",
    "    # label_var = fluid.dygraph.to_variable(label_np)\n",
    "    # out = model(input_var,label_var)\n",
    "    \n",
    "    #model = paddle.jit.to_static(model)\n",
    "    model.eval()\n",
    "   \n",
    "    model = paddle.jit.to_static(model)  # 动静转换\n",
    "    x = paddle.rand([10,3,32,32])\n",
    "    y = paddle.rand([10,1]).astype('int64')\n",
    "    out = model(x, y)\n",
    "    paddle.jit.save(model, './static_model')\n",
    "    '''\n",
    "    https://www.paddlepaddle.org.cn/documentation/docs/zh/guides/04_dygraph_to_static/basic_usage_cn.html\n",
    "    '''\n",
    "    \n"
   ]
  },
  {
   "cell_type": "markdown",
   "metadata": {},
   "source": [
    "## Paddle Lite \n",
    "- Paddle Lite 支持的模型如下  \n",
    "|模型|fluid|Caffe|Tensorflow|onnx|\n",
    "|--|--|--|--|--|\n",
    "|mobilenetv1|√|√|√|×|\n",
    "|mobilenetv2|√|√|√|√|\n",
    "|resnet18|√|√|√|×|\n",
    "|resnet50|√|√|√|√|\n",
    "|mnasnet|√|√|√|×|\n",
    "|efficientnet|√|√|√|√|\n",
    "|squ0ozenetv1.1|√|√|√|√|\n",
    "|shuffilenet|√|√|√|×|\n",
    "|mobillenet_ssd|√|√|√|×|\n",
    "|mobillenet_yolowB|√|×|×|×|\n",
    "|inceptionv4|√|×|×|×|\n",
    "|mtcnn|√|√|√|×|\n",
    "|tacedetection|√|√|√|×|\n",
    "|unet|√|√|√|×|\n",
    "|ocr_attention|√|×|×|×|\n",
    "|vgg16|√|×|×|×|\n",
    "\n",
    "![title](http://tiebapic.baidu.com/forum/w%3D580/sign=ced2172584f9d72a17641015e42b282a/bf5a1030e924b8997d9f0a2233061d950b7bf6e8.jpg)\n",
    "  \n",
    "- 详细部署方法见在 \"jetson nano使用paddle lite.d\""
   ]
  },
  {
   "cell_type": "markdown",
   "metadata": {},
   "source": [
    "# Paddle Slim   \n",
    "https://gitee.com/paddlepaddle/PaddleSlim?_from=gitee_search   \n",
    "![title](http://tiebapic.baidu.com/forum/w%3D580/sign=e25f000954f79052ef1f47363cf2d738/3e153612b31bb0513ae2c0326b7adab44bede04d.jpg)  \n",
    "- 剪裁: 裁剪掉一些对预测结果不重要的网络结构，PaddleSlim支持按照卷积通道均匀剪裁，也支持基于敏感度、进化算法的自动剪裁。A是一个feature map， 右边的W1是卷积层的参数，有很多个卷积核，每个卷积核都对应一个输出通道，剪裁会把一些不重要的卷积核去掉，相应的卷积之后的输出B的通道数会减少。B后面的卷积参数W的每个卷积核的通道数也会减少，卷积核的个数不变，最后输出的结果C是和没有裁剪的时候是一样的。\n",
    "![title](https://ai-studio-static-online.cdn.bcebos.com/40cdbe7ffae442d9a25bc9716b12ad76ed8c69a58244442cac0aea27f11a159d)\n",
    "\n",
    "\n",
    "- 神经网络自动搜索(NAS): 支持基于进化算法的神经网络结构，One-Hot网络结构等搜索策略\n",
    "- 量化: 将float32变为int8\n",
    "- 蒸馏: 类似\"老师教学生\"，使用一个效果好的大模型指导一个小模型训练，训练得到一个效果接近大模型的小模型  \n"
   ]
  },
  {
   "cell_type": "code",
   "execution_count": null,
   "metadata": {
    "execution": {
     "iopub.status.busy": "2022-02-02T06:11:12.179246Z",
     "iopub.status.idle": "2022-02-02T06:11:12.179651Z",
     "shell.execute_reply": "2022-02-02T06:11:12.179375Z",
     "shell.execute_reply.started": "2022-02-02T06:11:12.179363Z"
    },
    "scrolled": true
   },
   "outputs": [],
   "source": [
    "#!pip install paddleslim==2.0.0\n",
    "import paddle\n",
    "import paddle.fluid as fluid\n",
    "import paddleslim as slim"
   ]
  },
  {
   "cell_type": "markdown",
   "metadata": {},
   "source": [
    "|API|位置|作用|  \n",
    "|--|--|--|\n",
    "|models|paddle.vison.models|Model zoo of paddle|\n",
    "|summary(net,(1,3,32,32))|paddle.summary|查看模型结构|\n",
    "|transforms|paddle.vision.transforms|数据增强|\n",
    "|datasets|paddle.vision.datasets|一些常用数据库，导出来就是datasets结构|  \n",
    "\n"
   ]
  },
  {
   "cell_type": "code",
   "execution_count": 1,
   "metadata": {
    "execution": {
     "iopub.execute_input": "2022-02-02T07:33:49.773810Z",
     "iopub.status.busy": "2022-02-02T07:33:49.773284Z",
     "iopub.status.idle": "2022-02-02T07:34:36.638045Z",
     "shell.execute_reply": "2022-02-02T07:34:36.637353Z",
     "shell.execute_reply.started": "2022-02-02T07:33:49.773773Z"
    },
    "scrolled": true
   },
   "outputs": [
    {
     "name": "stdout",
     "output_type": "stream",
     "text": [
      "Looking in indexes: https://pypi.tuna.tsinghua.edu.cn/simple\n",
      "Collecting paddleslim==2.0.0\n",
      "  Downloading https://pypi.tuna.tsinghua.edu.cn/packages/f5/72/567086025f68b20223412ddd444c23cd3a825288750b9d8699fdd424b751/paddleslim-2.0.0-py2.py3-none-any.whl (297 kB)\n",
      "     |████████████████████████████████| 297 kB 7.7 MB/s            \n",
      "\u001b[?25hRequirement already satisfied: tqdm in /opt/conda/envs/python35-paddle120-env/lib/python3.7/site-packages (from paddleslim==2.0.0) (4.36.1)\n",
      "Requirement already satisfied: opencv-python in /opt/conda/envs/python35-paddle120-env/lib/python3.7/site-packages (from paddleslim==2.0.0) (4.1.1.26)\n",
      "Requirement already satisfied: pillow in /opt/conda/envs/python35-paddle120-env/lib/python3.7/site-packages (from paddleslim==2.0.0) (7.1.2)\n",
      "Requirement already satisfied: matplotlib in /opt/conda/envs/python35-paddle120-env/lib/python3.7/site-packages (from paddleslim==2.0.0) (2.2.3)\n",
      "Requirement already satisfied: pyzmq in /opt/conda/envs/python35-paddle120-env/lib/python3.7/site-packages (from paddleslim==2.0.0) (22.3.0)\n",
      "Requirement already satisfied: pytz in /opt/conda/envs/python35-paddle120-env/lib/python3.7/site-packages (from matplotlib->paddleslim==2.0.0) (2019.3)\n",
      "Requirement already satisfied: kiwisolver>=1.0.1 in /opt/conda/envs/python35-paddle120-env/lib/python3.7/site-packages (from matplotlib->paddleslim==2.0.0) (1.1.0)\n",
      "Requirement already satisfied: six>=1.10 in /opt/conda/envs/python35-paddle120-env/lib/python3.7/site-packages (from matplotlib->paddleslim==2.0.0) (1.16.0)\n",
      "Requirement already satisfied: cycler>=0.10 in /opt/conda/envs/python35-paddle120-env/lib/python3.7/site-packages (from matplotlib->paddleslim==2.0.0) (0.10.0)\n",
      "Requirement already satisfied: pyparsing!=2.0.4,!=2.1.2,!=2.1.6,>=2.0.1 in /opt/conda/envs/python35-paddle120-env/lib/python3.7/site-packages (from matplotlib->paddleslim==2.0.0) (3.0.7)\n",
      "Requirement already satisfied: python-dateutil>=2.1 in /opt/conda/envs/python35-paddle120-env/lib/python3.7/site-packages (from matplotlib->paddleslim==2.0.0) (2.8.2)\n",
      "Requirement already satisfied: numpy>=1.7.1 in /opt/conda/envs/python35-paddle120-env/lib/python3.7/site-packages (from matplotlib->paddleslim==2.0.0) (1.20.3)\n",
      "Requirement already satisfied: setuptools in /opt/conda/envs/python35-paddle120-env/lib/python3.7/site-packages (from kiwisolver>=1.0.1->matplotlib->paddleslim==2.0.0) (56.2.0)\n",
      "Installing collected packages: paddleslim\n",
      "Successfully installed paddleslim-2.0.0\n",
      "\u001b[33mWARNING: You are using pip version 21.3.1; however, version 22.0.2 is available.\n",
      "You should consider upgrading via the '/opt/conda/envs/python35-paddle120-env/bin/python -m pip install --upgrade pip' command.\u001b[0m\n"
     ]
    },
    {
     "name": "stderr",
     "output_type": "stream",
     "text": [
      "/opt/conda/envs/python35-paddle120-env/lib/python3.7/site-packages/paddle/fluid/layers/utils.py:26: DeprecationWarning: `np.int` is a deprecated alias for the builtin `int`. To silence this warning, use `int` by itself. Doing this will not modify any behavior and is safe. When replacing `np.int`, you may wish to use e.g. `np.int64` or `np.int32` to specify the precision. If you wish to review your current use, check the release note link for additional information.\n",
      "Deprecated in NumPy 1.20; for more details and guidance: https://numpy.org/devdocs/release/1.20.0-notes.html#deprecations\n",
      "  def convert_to_list(value, n, name, dtype=np.int):\n"
     ]
    },
    {
     "name": "stdout",
     "output_type": "stream",
     "text": [
      "\u001b[33m[02-02 15:33:53 MainThread @utils.py:79]\u001b[0m \u001b[5m\u001b[33mWRN\u001b[0m paddlepaddle version: 2.0.2. The dynamic graph version of PARL is under development, not fully tested and supported\n"
     ]
    },
    {
     "name": "stderr",
     "output_type": "stream",
     "text": [
      "/opt/conda/envs/python35-paddle120-env/lib/python3.7/site-packages/parl/remote/communication.py:38: DeprecationWarning: 'pyarrow.default_serialization_context' is deprecated as of 2.0.0 and will be removed in a future version. Use pickle or the pyarrow IPC functionality instead.\n",
      "  context = pyarrow.default_serialization_context()\n",
      "/opt/conda/envs/python35-paddle120-env/lib/python3.7/site-packages/pyarrow/pandas_compat.py:1027: DeprecationWarning: `np.float` is a deprecated alias for the builtin `float`. To silence this warning, use `float` by itself. Doing this will not modify any behavior and is safe. If you specifically wanted the numpy scalar type, use `np.float64` here.\n",
      "Deprecated in NumPy 1.20; for more details and guidance: https://numpy.org/devdocs/release/1.20.0-notes.html#deprecations\n",
      "  'floating': np.float,\n",
      "/opt/conda/envs/python35-paddle120-env/lib/python3.7/site-packages/matplotlib/__init__.py:107: DeprecationWarning: Using or importing the ABCs from 'collections' instead of from 'collections.abc' is deprecated, and in 3.8 it will stop working\n",
      "  from collections import MutableMapping\n",
      "/opt/conda/envs/python35-paddle120-env/lib/python3.7/site-packages/matplotlib/rcsetup.py:20: DeprecationWarning: Using or importing the ABCs from 'collections' instead of from 'collections.abc' is deprecated, and in 3.8 it will stop working\n",
      "  from collections import Iterable, Mapping\n",
      "/opt/conda/envs/python35-paddle120-env/lib/python3.7/site-packages/matplotlib/colors.py:53: DeprecationWarning: Using or importing the ABCs from 'collections' instead of from 'collections.abc' is deprecated, and in 3.8 it will stop working\n",
      "  from collections import Sized\n",
      "2022-02-02 15:33:54,113 - INFO - font search path ['/opt/conda/envs/python35-paddle120-env/lib/python3.7/site-packages/matplotlib/mpl-data/fonts/ttf', '/opt/conda/envs/python35-paddle120-env/lib/python3.7/site-packages/matplotlib/mpl-data/fonts/afm', '/opt/conda/envs/python35-paddle120-env/lib/python3.7/site-packages/matplotlib/mpl-data/fonts/pdfcorefonts']\n",
      "2022-02-02 15:33:54,466 - INFO - generated new fontManager\n",
      "W0202 15:33:54.716543   488 device_context.cc:362] Please NOTE: device: 0, GPU Compute Capability: 7.0, Driver API Version: 10.1, Runtime API Version: 10.1\n",
      "W0202 15:33:54.724296   488 device_context.cc:372] device: 0, cuDNN Version: 7.6.\n",
      "Cache file /home/aistudio/.cache/paddle/dataset/cifar/cifar-10-python.tar.gz not found, downloading https://dataset.bj.bcebos.com/cifar/cifar-10-python.tar.gz \n",
      "Begin to download\n",
      "\n",
      "Download finished\n"
     ]
    },
    {
     "name": "stdout",
     "output_type": "stream",
     "text": [
      "The loss value printed in the log is the current step, and the metric is the average value of previous step.\n",
      "Epoch 1/2\n"
     ]
    },
    {
     "name": "stderr",
     "output_type": "stream",
     "text": [
      "/opt/conda/envs/python35-paddle120-env/lib/python3.7/site-packages/paddle/fluid/dataloader/dataloader_iter.py:89: DeprecationWarning: `np.bool` is a deprecated alias for the builtin `bool`. To silence this warning, use `bool` by itself. Doing this will not modify any behavior and is safe. If you specifically wanted the numpy scalar type, use `np.bool_` here.\n",
      "Deprecated in NumPy 1.20; for more details and guidance: https://numpy.org/devdocs/release/1.20.0-notes.html#deprecations\n",
      "  if isinstance(slot[0], (np.ndarray, np.bool, numbers.Number)):\n",
      "/opt/conda/envs/python35-paddle120-env/lib/python3.7/site-packages/paddle/fluid/layers/utils.py:77: DeprecationWarning: Using or importing the ABCs from 'collections' instead of from 'collections.abc' is deprecated, and in 3.8 it will stop working\n",
      "  return (isinstance(seq, collections.Sequence) and\n",
      "/opt/conda/envs/python35-paddle120-env/lib/python3.7/site-packages/paddle/nn/layer/norm.py:648: UserWarning: When training, we now always track global mean and variance.\n",
      "  \"When training, we now always track global mean and variance.\")\n"
     ]
    },
    {
     "name": "stdout",
     "output_type": "stream",
     "text": [
      "step 391/391 [==============================] - loss: 1.4032 - acc_top1: 0.3371 - acc_top5: 0.8305 - 27ms/step          \n",
      "Epoch 2/2\n",
      "step 391/391 [==============================] - loss: 1.7302 - acc_top1: 0.4606 - acc_top5: 0.9166 - 27ms/step          \n",
      "Eval begin...\n",
      "The loss value printed in the log is the current batch, and the metric is the average value of previous step.\n",
      "step 10/79 - loss: 1.8191 - acc_top1: 0.4281 - acc_top5: 0.8984 - 20ms/step\n",
      "step 20/79 - loss: 1.7040 - acc_top1: 0.4266 - acc_top5: 0.8934 - 19ms/step\n",
      "step 30/79 - loss: 1.5584 - acc_top1: 0.4299 - acc_top5: 0.8940 - 18ms/step\n",
      "step 40/79 - loss: 1.5299 - acc_top1: 0.4326 - acc_top5: 0.8994 - 18ms/step\n",
      "step 50/79 - loss: 1.4781 - acc_top1: 0.4330 - acc_top5: 0.8991 - 18ms/step\n",
      "step 60/79 - loss: 1.6439 - acc_top1: 0.4336 - acc_top5: 0.9009 - 18ms/step\n",
      "step 70/79 - loss: 1.5190 - acc_top1: 0.4296 - acc_top5: 0.8996 - 18ms/step\n",
      "step 79/79 - loss: 1.5004 - acc_top1: 0.4285 - acc_top5: 0.8994 - 17ms/step\n",
      "Eval samples: 10000\n",
      "{'loss': [1.500385], 'acc_top1': 0.4285, 'acc_top5': 0.8994}\n"
     ]
    }
   ],
   "source": [
    "!pip install paddleslim==2.0.0\n",
    "import paddle\n",
    "import paddle.fluid as fluid\n",
    "import paddleslim as slim\n",
    "from paddle.vision.models import mobilenet_v1 # 直接从vision模块导入mobilenet_v1\n",
    "import paddle.vision.transforms as T \n",
    "from paddle.static import InputSpec as Input \n",
    "\n",
    "paddle.disable_static()\n",
    "\n",
    "net = mobilenet_v1(pretrained=False)\n",
    "\n",
    "# 导入cifar10数据(N,3,32,32)\n",
    "transform = T.Compose([T.Transpose(),T.Normalize([127.5],[127.5])])\n",
    "train_dataset = paddle.vision.datasets.Cifar10(mode='train',backend='cv2',transform=transform)\n",
    "val_dataset = paddle.vision.datasets.Cifar10(mode='test',backend='cv2',transform=transform)\n",
    "# 这个dataset是可以for data in dataset的\n",
    "optimizer = paddle.optimizer.Momentum(learning_rate=0.1,parameters=net.parameters())\n",
    "inputs = [Input([None,3,32,32],'float32',name='image')]\n",
    "labels = [Input([None],'int64',name='label')]\n",
    "\n",
    "model = paddle.Model(net,inputs,labels)\n",
    "model.prepare(optimizer,paddle.nn.CrossEntropyLoss(),paddle.metric.Accuracy(topk=(1,5)))\n",
    "model.fit(train_dataset,epochs=2,batch_size=128,verbose=1)\n",
    "result = model.evaluate(val_dataset,batch_size=128,log_freq=10)\n",
    "print(result)"
   ]
  },
  {
   "cell_type": "code",
   "execution_count": 5,
   "metadata": {
    "execution": {
     "iopub.execute_input": "2022-02-02T07:38:30.151799Z",
     "iopub.status.busy": "2022-02-02T07:38:30.150810Z",
     "iopub.status.idle": "2022-02-02T07:41:29.406161Z",
     "shell.execute_reply": "2022-02-02T07:41:29.405533Z",
     "shell.execute_reply.started": "2022-02-02T07:38:30.151759Z"
    },
    "scrolled": true
   },
   "outputs": [
    {
     "name": "stderr",
     "output_type": "stream",
     "text": [
      "2022-02-02 15:38:30,650-INFO: Found 14 groups.\n",
      "/opt/conda/envs/python35-paddle120-env/lib/python3.7/site-packages/paddle/fluid/dataloader/dataloader_iter.py:89: DeprecationWarning: `np.bool` is a deprecated alias for the builtin `bool`. To silence this warning, use `bool` by itself. Doing this will not modify any behavior and is safe. If you specifically wanted the numpy scalar type, use `np.bool_` here.\n",
      "Deprecated in NumPy 1.20; for more details and guidance: https://numpy.org/devdocs/release/1.20.0-notes.html#deprecations\n",
      "  if isinstance(slot[0], (np.ndarray, np.bool, numbers.Number)):\n"
     ]
    },
    {
     "name": "stdout",
     "output_type": "stream",
     "text": [
      "Eval begin...\n",
      "The loss value printed in the log is the current batch, and the metric is the average value of previous step.\n",
      "step 10/79 - loss: 1.8191 - acc_top1: 0.4281 - acc_top5: 0.8984 - 21ms/step\n",
      "step 20/79 - loss: 1.7040 - acc_top1: 0.4266 - acc_top5: 0.8934 - 19ms/step\n",
      "step 30/79 - loss: 1.5584 - acc_top1: 0.4299 - acc_top5: 0.8940 - 19ms/step\n",
      "step 40/79 - loss: 1.5299 - acc_top1: 0.4326 - acc_top5: 0.8994 - 20ms/step\n",
      "step 50/79 - loss: 1.4781 - acc_top1: 0.4330 - acc_top5: 0.8991 - 20ms/step\n",
      "step 60/79 - loss: 1.6439 - acc_top1: 0.4336 - acc_top5: 0.9009 - 20ms/step\n",
      "step 70/79 - loss: 1.5190 - acc_top1: 0.4296 - acc_top5: 0.8996 - 19ms/step\n",
      "step 79/79 - loss: 1.5004 - acc_top1: 0.4285 - acc_top5: 0.8994 - 19ms/step\n",
      "Eval samples: 10000\n",
      "Eval begin...\n",
      "The loss value printed in the log is the current batch, and the metric is the average value of previous step.\n",
      "step 10/79 - loss: 1.6346 - acc_top1: 0.4445 - acc_top5: 0.9078 - 21ms/step\n",
      "step 20/79 - loss: 1.6295 - acc_top1: 0.4359 - acc_top5: 0.9066 - 19ms/step\n",
      "step 30/79 - loss: 1.6092 - acc_top1: 0.4365 - acc_top5: 0.9031 - 19ms/step\n",
      "step 40/79 - loss: 1.6042 - acc_top1: 0.4357 - acc_top5: 0.9053 - 19ms/step\n",
      "step 50/79 - loss: 1.5771 - acc_top1: 0.4305 - acc_top5: 0.9042 - 19ms/step\n",
      "step 60/79 - loss: 1.6576 - acc_top1: 0.4297 - acc_top5: 0.9060 - 19ms/step\n",
      "step 70/79 - loss: 1.5818 - acc_top1: 0.4260 - acc_top5: 0.9038 - 18ms/step\n",
      "step 79/79 - loss: 1.5288 - acc_top1: 0.4232 - acc_top5: 0.9034 - 18ms/step\n"
     ]
    },
    {
     "name": "stderr",
     "output_type": "stream",
     "text": [
      "2022-02-02 15:38:33,580-INFO: pruned param: conv2d_0.w_0; 0.1; loss=0.012368728121353492\n",
      "2022-02-02 15:38:33,581-INFO: Save status into ./sen.pickle\n"
     ]
    },
    {
     "name": "stdout",
     "output_type": "stream",
     "text": [
      "Eval samples: 10000\n",
      "Eval begin...\n",
      "The loss value printed in the log is the current batch, and the metric is the average value of previous step.\n",
      "step 10/79 - loss: 1.7485 - acc_top1: 0.4055 - acc_top5: 0.9039 - 20ms/step\n",
      "step 20/79 - loss: 1.7281 - acc_top1: 0.4047 - acc_top5: 0.8961 - 19ms/step\n",
      "step 30/79 - loss: 1.7344 - acc_top1: 0.4034 - acc_top5: 0.8938 - 19ms/step\n",
      "step 40/79 - loss: 1.6528 - acc_top1: 0.4025 - acc_top5: 0.8957 - 18ms/step\n",
      "step 50/79 - loss: 1.6824 - acc_top1: 0.3980 - acc_top5: 0.8941 - 18ms/step\n",
      "step 60/79 - loss: 1.7823 - acc_top1: 0.3960 - acc_top5: 0.8939 - 18ms/step\n",
      "step 70/79 - loss: 1.7209 - acc_top1: 0.3921 - acc_top5: 0.8921 - 18ms/step\n",
      "step 79/79 - loss: 1.8196 - acc_top1: 0.3899 - acc_top5: 0.8914 - 18ms/step\n"
     ]
    },
    {
     "name": "stderr",
     "output_type": "stream",
     "text": [
      "2022-02-02 15:38:34,979-INFO: pruned param: conv2d_0.w_0; 0.2; loss=0.0900816802800466\n",
      "2022-02-02 15:38:34,980-INFO: Save status into ./sen.pickle\n"
     ]
    },
    {
     "name": "stdout",
     "output_type": "stream",
     "text": [
      "Eval samples: 10000\n",
      "Eval begin...\n",
      "The loss value printed in the log is the current batch, and the metric is the average value of previous step.\n",
      "step 10/79 - loss: 2.4757 - acc_top1: 0.2508 - acc_top5: 0.7312 - 19ms/step\n",
      "step 20/79 - loss: 2.3588 - acc_top1: 0.2547 - acc_top5: 0.7355 - 18ms/step\n",
      "step 30/79 - loss: 2.1641 - acc_top1: 0.2552 - acc_top5: 0.7367 - 18ms/step\n",
      "step 40/79 - loss: 2.2502 - acc_top1: 0.2525 - acc_top5: 0.7383 - 18ms/step\n",
      "step 50/79 - loss: 2.1716 - acc_top1: 0.2509 - acc_top5: 0.7412 - 18ms/step\n",
      "step 60/79 - loss: 2.4298 - acc_top1: 0.2525 - acc_top5: 0.7378 - 18ms/step\n",
      "step 70/79 - loss: 2.2963 - acc_top1: 0.2516 - acc_top5: 0.7368 - 18ms/step\n",
      "step 79/79 - loss: 2.2621 - acc_top1: 0.2502 - acc_top5: 0.7361 - 17ms/step\n"
     ]
    },
    {
     "name": "stderr",
     "output_type": "stream",
     "text": [
      "2022-02-02 15:38:36,355-INFO: pruned param: conv2d_0.w_0; 0.3; loss=0.41610268378063014\n",
      "2022-02-02 15:38:36,356-INFO: Save status into ./sen.pickle\n"
     ]
    },
    {
     "name": "stdout",
     "output_type": "stream",
     "text": [
      "Eval samples: 10000\n",
      "Eval begin...\n",
      "The loss value printed in the log is the current batch, and the metric is the average value of previous step.\n",
      "step 10/79 - loss: 3.3856 - acc_top1: 0.1492 - acc_top5: 0.5836 - 20ms/step\n",
      "step 20/79 - loss: 3.2658 - acc_top1: 0.1531 - acc_top5: 0.5957 - 19ms/step\n",
      "step 30/79 - loss: 3.0400 - acc_top1: 0.1547 - acc_top5: 0.6003 - 18ms/step\n",
      "step 40/79 - loss: 3.1110 - acc_top1: 0.1529 - acc_top5: 0.6010 - 18ms/step\n",
      "step 50/79 - loss: 3.0690 - acc_top1: 0.1522 - acc_top5: 0.6031 - 18ms/step\n",
      "step 60/79 - loss: 3.3548 - acc_top1: 0.1527 - acc_top5: 0.6007 - 18ms/step\n",
      "step 70/79 - loss: 3.3318 - acc_top1: 0.1496 - acc_top5: 0.5988 - 18ms/step\n",
      "step 79/79 - loss: 3.3716 - acc_top1: 0.1492 - acc_top5: 0.5994 - 18ms/step\n"
     ]
    },
    {
     "name": "stderr",
     "output_type": "stream",
     "text": [
      "2022-02-02 15:38:37,760-INFO: pruned param: conv2d_0.w_0; 0.4; loss=0.6518086347724621\n",
      "2022-02-02 15:38:37,761-INFO: Save status into ./sen.pickle\n"
     ]
    },
    {
     "name": "stdout",
     "output_type": "stream",
     "text": [
      "Eval samples: 10000\n",
      "Eval begin...\n",
      "The loss value printed in the log is the current batch, and the metric is the average value of previous step.\n",
      "step 10/79 - loss: 3.0715 - acc_top1: 0.1414 - acc_top5: 0.5219 - 20ms/step\n",
      "step 20/79 - loss: 3.0449 - acc_top1: 0.1500 - acc_top5: 0.5375 - 18ms/step\n",
      "step 30/79 - loss: 2.8843 - acc_top1: 0.1539 - acc_top5: 0.5461 - 18ms/step\n",
      "step 40/79 - loss: 3.1091 - acc_top1: 0.1490 - acc_top5: 0.5391 - 18ms/step\n",
      "step 50/79 - loss: 2.8598 - acc_top1: 0.1469 - acc_top5: 0.5403 - 18ms/step\n",
      "step 60/79 - loss: 3.0746 - acc_top1: 0.1461 - acc_top5: 0.5405 - 18ms/step\n",
      "step 70/79 - loss: 3.0026 - acc_top1: 0.1430 - acc_top5: 0.5393 - 18ms/step\n",
      "step 79/79 - loss: 2.9010 - acc_top1: 0.1437 - acc_top5: 0.5387 - 17ms/step\n"
     ]
    },
    {
     "name": "stderr",
     "output_type": "stream",
     "text": [
      "2022-02-02 15:38:39,146-INFO: pruned param: conv2d_0.w_0; 0.5; loss=0.6646441073512253\n",
      "2022-02-02 15:38:39,147-INFO: Save status into ./sen.pickle\n"
     ]
    },
    {
     "name": "stdout",
     "output_type": "stream",
     "text": [
      "Eval samples: 10000\n",
      "Eval begin...\n",
      "The loss value printed in the log is the current batch, and the metric is the average value of previous step.\n",
      "step 10/79 - loss: 2.9976 - acc_top1: 0.1469 - acc_top5: 0.5305 - 20ms/step\n",
      "step 20/79 - loss: 2.9585 - acc_top1: 0.1520 - acc_top5: 0.5437 - 19ms/step\n",
      "step 30/79 - loss: 2.8035 - acc_top1: 0.1560 - acc_top5: 0.5508 - 18ms/step\n",
      "step 40/79 - loss: 3.0273 - acc_top1: 0.1510 - acc_top5: 0.5449 - 18ms/step\n",
      "step 50/79 - loss: 2.7842 - acc_top1: 0.1487 - acc_top5: 0.5475 - 18ms/step\n",
      "step 60/79 - loss: 2.9713 - acc_top1: 0.1482 - acc_top5: 0.5488 - 18ms/step\n",
      "step 70/79 - loss: 2.9110 - acc_top1: 0.1468 - acc_top5: 0.5474 - 18ms/step\n",
      "step 79/79 - loss: 2.8885 - acc_top1: 0.1480 - acc_top5: 0.5470 - 18ms/step\n"
     ]
    },
    {
     "name": "stderr",
     "output_type": "stream",
     "text": [
      "2022-02-02 15:38:40,608-INFO: pruned param: conv2d_0.w_0; 0.6; loss=0.6546091015169194\n",
      "2022-02-02 15:38:40,609-INFO: Save status into ./sen.pickle\n"
     ]
    },
    {
     "name": "stdout",
     "output_type": "stream",
     "text": [
      "Eval samples: 10000\n",
      "Eval begin...\n",
      "The loss value printed in the log is the current batch, and the metric is the average value of previous step.\n",
      "step 10/79 - loss: 2.9509 - acc_top1: 0.1578 - acc_top5: 0.5609 - 24ms/step\n",
      "step 20/79 - loss: 2.9017 - acc_top1: 0.1629 - acc_top5: 0.5723 - 22ms/step\n",
      "step 30/79 - loss: 2.7530 - acc_top1: 0.1656 - acc_top5: 0.5766 - 21ms/step\n",
      "step 40/79 - loss: 3.0044 - acc_top1: 0.1605 - acc_top5: 0.5689 - 21ms/step\n",
      "step 50/79 - loss: 2.7243 - acc_top1: 0.1567 - acc_top5: 0.5684 - 21ms/step\n",
      "step 60/79 - loss: 2.9572 - acc_top1: 0.1565 - acc_top5: 0.5691 - 21ms/step\n",
      "step 70/79 - loss: 2.8636 - acc_top1: 0.1560 - acc_top5: 0.5663 - 21ms/step\n",
      "step 79/79 - loss: 2.6954 - acc_top1: 0.1568 - acc_top5: 0.5652 - 20ms/step\n"
     ]
    },
    {
     "name": "stderr",
     "output_type": "stream",
     "text": [
      "2022-02-02 15:38:42,237-INFO: pruned param: conv2d_0.w_0; 0.7; loss=0.6340723453908985\n",
      "2022-02-02 15:38:42,239-INFO: Save status into ./sen.pickle\n"
     ]
    },
    {
     "name": "stdout",
     "output_type": "stream",
     "text": [
      "Eval samples: 10000\n",
      "Eval begin...\n",
      "The loss value printed in the log is the current batch, and the metric is the average value of previous step.\n",
      "step 10/79 - loss: 3.0123 - acc_top1: 0.1609 - acc_top5: 0.5477 - 22ms/step\n",
      "step 20/79 - loss: 2.9686 - acc_top1: 0.1688 - acc_top5: 0.5629 - 20ms/step\n",
      "step 30/79 - loss: 2.8278 - acc_top1: 0.1682 - acc_top5: 0.5711 - 20ms/step\n",
      "step 40/79 - loss: 3.0882 - acc_top1: 0.1623 - acc_top5: 0.5645 - 20ms/step\n",
      "step 50/79 - loss: 2.8060 - acc_top1: 0.1577 - acc_top5: 0.5664 - 20ms/step\n",
      "step 60/79 - loss: 3.0268 - acc_top1: 0.1594 - acc_top5: 0.5674 - 20ms/step\n",
      "step 70/79 - loss: 2.8975 - acc_top1: 0.1585 - acc_top5: 0.5653 - 20ms/step\n",
      "step 79/79 - loss: 2.5960 - acc_top1: 0.1604 - acc_top5: 0.5643 - 20ms/step\n"
     ]
    },
    {
     "name": "stderr",
     "output_type": "stream",
     "text": [
      "2022-02-02 15:38:43,827-INFO: pruned param: conv2d_0.w_0; 0.8; loss=0.6256709451575263\n",
      "2022-02-02 15:38:43,828-INFO: Save status into ./sen.pickle\n"
     ]
    },
    {
     "name": "stdout",
     "output_type": "stream",
     "text": [
      "Eval samples: 10000\n",
      "Eval begin...\n",
      "The loss value printed in the log is the current batch, and the metric is the average value of previous step.\n",
      "step 10/79 - loss: 3.4065 - acc_top1: 0.0992 - acc_top5: 0.4719 - 21ms/step\n",
      "step 20/79 - loss: 3.3650 - acc_top1: 0.1039 - acc_top5: 0.4816 - 21ms/step\n",
      "step 30/79 - loss: 3.2811 - acc_top1: 0.1060 - acc_top5: 0.4878 - 20ms/step\n",
      "step 40/79 - loss: 3.4627 - acc_top1: 0.1004 - acc_top5: 0.4820 - 21ms/step\n",
      "step 50/79 - loss: 3.3249 - acc_top1: 0.0998 - acc_top5: 0.4834 - 21ms/step\n",
      "step 60/79 - loss: 3.3897 - acc_top1: 0.1010 - acc_top5: 0.4858 - 21ms/step\n",
      "step 70/79 - loss: 3.3389 - acc_top1: 0.1001 - acc_top5: 0.4838 - 20ms/step\n",
      "step 79/79 - loss: 2.8955 - acc_top1: 0.1006 - acc_top5: 0.4848 - 20ms/step\n"
     ]
    },
    {
     "name": "stderr",
     "output_type": "stream",
     "text": [
      "2022-02-02 15:38:45,396-INFO: pruned param: conv2d_0.w_0; 0.9; loss=0.7652275379229871\n",
      "2022-02-02 15:38:45,397-INFO: Save status into ./sen.pickle\n"
     ]
    },
    {
     "name": "stdout",
     "output_type": "stream",
     "text": [
      "Eval samples: 10000\n",
      "Eval begin...\n",
      "The loss value printed in the log is the current batch, and the metric is the average value of previous step.\n",
      "step 10/79 - loss: 1.8382 - acc_top1: 0.4266 - acc_top5: 0.9047 - 20ms/step\n",
      "step 20/79 - loss: 1.7475 - acc_top1: 0.4258 - acc_top5: 0.8953 - 18ms/step\n",
      "step 30/79 - loss: 1.5748 - acc_top1: 0.4286 - acc_top5: 0.8943 - 18ms/step\n",
      "step 40/79 - loss: 1.5437 - acc_top1: 0.4311 - acc_top5: 0.8982 - 18ms/step\n",
      "step 50/79 - loss: 1.4818 - acc_top1: 0.4284 - acc_top5: 0.8975 - 18ms/step\n",
      "step 60/79 - loss: 1.6535 - acc_top1: 0.4290 - acc_top5: 0.8977 - 18ms/step\n",
      "step 70/79 - loss: 1.5363 - acc_top1: 0.4254 - acc_top5: 0.8954 - 18ms/step\n",
      "step 79/79 - loss: 1.5743 - acc_top1: 0.4250 - acc_top5: 0.8948 - 17ms/step\n"
     ]
    },
    {
     "name": "stderr",
     "output_type": "stream",
     "text": [
      "2022-02-02 15:38:46,770-INFO: pruned param: conv2d_2.w_0; 0.1; loss=0.008168028004667451\n",
      "2022-02-02 15:38:46,771-INFO: Save status into ./sen.pickle\n"
     ]
    },
    {
     "name": "stdout",
     "output_type": "stream",
     "text": [
      "Eval samples: 10000\n",
      "Eval begin...\n",
      "The loss value printed in the log is the current batch, and the metric is the average value of previous step.\n",
      "step 10/79 - loss: 2.0136 - acc_top1: 0.3898 - acc_top5: 0.8852 - 19ms/step\n",
      "step 20/79 - loss: 1.7986 - acc_top1: 0.3926 - acc_top5: 0.8785 - 18ms/step\n",
      "step 30/79 - loss: 1.6716 - acc_top1: 0.3958 - acc_top5: 0.8820 - 18ms/step\n",
      "step 40/79 - loss: 1.6788 - acc_top1: 0.3979 - acc_top5: 0.8854 - 17ms/step\n",
      "step 50/79 - loss: 1.5970 - acc_top1: 0.3970 - acc_top5: 0.8859 - 17ms/step\n",
      "step 60/79 - loss: 1.7461 - acc_top1: 0.3992 - acc_top5: 0.8857 - 17ms/step\n",
      "step 70/79 - loss: 1.5989 - acc_top1: 0.3983 - acc_top5: 0.8848 - 17ms/step\n",
      "step 79/79 - loss: 1.5864 - acc_top1: 0.3972 - acc_top5: 0.8849 - 17ms/step\n"
     ]
    },
    {
     "name": "stderr",
     "output_type": "stream",
     "text": [
      "2022-02-02 15:38:48,113-INFO: pruned param: conv2d_2.w_0; 0.2; loss=0.07304550758459742\n",
      "2022-02-02 15:38:48,114-INFO: Save status into ./sen.pickle\n"
     ]
    },
    {
     "name": "stdout",
     "output_type": "stream",
     "text": [
      "Eval samples: 10000\n",
      "Eval begin...\n",
      "The loss value printed in the log is the current batch, and the metric is the average value of previous step.\n",
      "step 10/79 - loss: 2.6068 - acc_top1: 0.2453 - acc_top5: 0.7570 - 20ms/step\n",
      "step 20/79 - loss: 2.3614 - acc_top1: 0.2523 - acc_top5: 0.7641 - 19ms/step\n",
      "step 30/79 - loss: 2.2146 - acc_top1: 0.2576 - acc_top5: 0.7677 - 18ms/step\n",
      "step 40/79 - loss: 2.3922 - acc_top1: 0.2588 - acc_top5: 0.7664 - 19ms/step\n",
      "step 50/79 - loss: 2.2414 - acc_top1: 0.2556 - acc_top5: 0.7659 - 20ms/step\n",
      "step 60/79 - loss: 2.2328 - acc_top1: 0.2587 - acc_top5: 0.7703 - 20ms/step\n",
      "step 70/79 - loss: 2.0388 - acc_top1: 0.2568 - acc_top5: 0.7704 - 21ms/step\n",
      "step 79/79 - loss: 2.2855 - acc_top1: 0.2556 - acc_top5: 0.7689 - 20ms/step\n"
     ]
    },
    {
     "name": "stderr",
     "output_type": "stream",
     "text": [
      "2022-02-02 15:38:49,724-INFO: pruned param: conv2d_2.w_0; 0.3; loss=0.40350058343057177\n",
      "2022-02-02 15:38:49,725-INFO: Save status into ./sen.pickle\n"
     ]
    },
    {
     "name": "stdout",
     "output_type": "stream",
     "text": [
      "Eval samples: 10000\n",
      "Eval begin...\n",
      "The loss value printed in the log is the current batch, and the metric is the average value of previous step.\n",
      "step 10/79 - loss: 2.6801 - acc_top1: 0.2313 - acc_top5: 0.7406 - 19ms/step\n",
      "step 20/79 - loss: 2.4625 - acc_top1: 0.2348 - acc_top5: 0.7527 - 18ms/step\n",
      "step 30/79 - loss: 2.3933 - acc_top1: 0.2378 - acc_top5: 0.7560 - 18ms/step\n",
      "step 40/79 - loss: 2.5905 - acc_top1: 0.2365 - acc_top5: 0.7500 - 17ms/step\n",
      "step 50/79 - loss: 2.4477 - acc_top1: 0.2362 - acc_top5: 0.7483 - 17ms/step\n",
      "step 60/79 - loss: 2.3924 - acc_top1: 0.2395 - acc_top5: 0.7510 - 17ms/step\n",
      "step 70/79 - loss: 2.2498 - acc_top1: 0.2367 - acc_top5: 0.7515 - 17ms/step\n",
      "step 79/79 - loss: 2.3838 - acc_top1: 0.2364 - acc_top5: 0.7514 - 17ms/step\n"
     ]
    },
    {
     "name": "stderr",
     "output_type": "stream",
     "text": [
      "2022-02-02 15:38:51,066-INFO: pruned param: conv2d_2.w_0; 0.4; loss=0.44830805134189033\n",
      "2022-02-02 15:38:51,067-INFO: Save status into ./sen.pickle\n"
     ]
    },
    {
     "name": "stdout",
     "output_type": "stream",
     "text": [
      "Eval samples: 10000\n",
      "Eval begin...\n",
      "The loss value printed in the log is the current batch, and the metric is the average value of previous step.\n",
      "step 10/79 - loss: 2.9166 - acc_top1: 0.2172 - acc_top5: 0.7234 - 20ms/step\n",
      "step 20/79 - loss: 2.6714 - acc_top1: 0.2211 - acc_top5: 0.7355 - 18ms/step\n",
      "step 30/79 - loss: 2.6345 - acc_top1: 0.2214 - acc_top5: 0.7378 - 18ms/step\n",
      "step 40/79 - loss: 2.8694 - acc_top1: 0.2184 - acc_top5: 0.7314 - 18ms/step\n",
      "step 50/79 - loss: 2.7162 - acc_top1: 0.2173 - acc_top5: 0.7284 - 18ms/step\n",
      "step 60/79 - loss: 2.6230 - acc_top1: 0.2197 - acc_top5: 0.7296 - 17ms/step\n",
      "step 70/79 - loss: 2.4768 - acc_top1: 0.2164 - acc_top5: 0.7294 - 17ms/step\n",
      "step 79/79 - loss: 2.6870 - acc_top1: 0.2167 - acc_top5: 0.7304 - 17ms/step\n"
     ]
    },
    {
     "name": "stderr",
     "output_type": "stream",
     "text": [
      "2022-02-02 15:38:52,436-INFO: pruned param: conv2d_2.w_0; 0.5; loss=0.4942823803967328\n",
      "2022-02-02 15:38:52,438-INFO: Save status into ./sen.pickle\n"
     ]
    },
    {
     "name": "stdout",
     "output_type": "stream",
     "text": [
      "Eval samples: 10000\n",
      "Eval begin...\n",
      "The loss value printed in the log is the current batch, and the metric is the average value of previous step.\n",
      "step 10/79 - loss: 3.3392 - acc_top1: 0.1820 - acc_top5: 0.6789 - 20ms/step\n",
      "step 20/79 - loss: 3.2065 - acc_top1: 0.1809 - acc_top5: 0.6848 - 19ms/step\n",
      "step 30/79 - loss: 3.2129 - acc_top1: 0.1839 - acc_top5: 0.6878 - 18ms/step\n",
      "step 40/79 - loss: 3.6040 - acc_top1: 0.1795 - acc_top5: 0.6791 - 18ms/step\n",
      "step 50/79 - loss: 3.4303 - acc_top1: 0.1758 - acc_top5: 0.6753 - 18ms/step\n",
      "step 60/79 - loss: 3.2011 - acc_top1: 0.1788 - acc_top5: 0.6781 - 18ms/step\n",
      "step 70/79 - loss: 3.0184 - acc_top1: 0.1786 - acc_top5: 0.6789 - 18ms/step\n",
      "step 79/79 - loss: 3.1967 - acc_top1: 0.1783 - acc_top5: 0.6783 - 17ms/step\n"
     ]
    },
    {
     "name": "stderr",
     "output_type": "stream",
     "text": [
      "2022-02-02 15:38:53,825-INFO: pruned param: conv2d_2.w_0; 0.6; loss=0.5838973162193698\n",
      "2022-02-02 15:38:53,826-INFO: Save status into ./sen.pickle\n"
     ]
    },
    {
     "name": "stdout",
     "output_type": "stream",
     "text": [
      "Eval samples: 10000\n",
      "Eval begin...\n",
      "The loss value printed in the log is the current batch, and the metric is the average value of previous step.\n",
      "step 10/79 - loss: 4.3581 - acc_top1: 0.1133 - acc_top5: 0.5938 - 19ms/step\n",
      "step 20/79 - loss: 4.3466 - acc_top1: 0.1148 - acc_top5: 0.6039 - 18ms/step\n",
      "step 30/79 - loss: 4.5095 - acc_top1: 0.1161 - acc_top5: 0.6094 - 18ms/step\n",
      "step 40/79 - loss: 4.7751 - acc_top1: 0.1148 - acc_top5: 0.6041 - 18ms/step\n",
      "step 50/79 - loss: 4.4924 - acc_top1: 0.1159 - acc_top5: 0.5997 - 17ms/step\n",
      "step 60/79 - loss: 4.3154 - acc_top1: 0.1165 - acc_top5: 0.6023 - 17ms/step\n",
      "step 70/79 - loss: 4.1654 - acc_top1: 0.1175 - acc_top5: 0.6032 - 17ms/step\n",
      "step 79/79 - loss: 4.5163 - acc_top1: 0.1183 - acc_top5: 0.6022 - 17ms/step\n"
     ]
    },
    {
     "name": "stderr",
     "output_type": "stream",
     "text": [
      "2022-02-02 15:38:55,172-INFO: pruned param: conv2d_2.w_0; 0.7; loss=0.7239206534422403\n",
      "2022-02-02 15:38:55,173-INFO: Save status into ./sen.pickle\n"
     ]
    },
    {
     "name": "stdout",
     "output_type": "stream",
     "text": [
      "Eval samples: 10000\n",
      "Eval begin...\n",
      "The loss value printed in the log is the current batch, and the metric is the average value of previous step.\n",
      "step 10/79 - loss: 4.4026 - acc_top1: 0.1141 - acc_top5: 0.5914 - 19ms/step\n",
      "step 20/79 - loss: 4.4097 - acc_top1: 0.1133 - acc_top5: 0.6000 - 18ms/step\n",
      "step 30/79 - loss: 4.5966 - acc_top1: 0.1156 - acc_top5: 0.6055 - 18ms/step\n",
      "step 40/79 - loss: 4.8554 - acc_top1: 0.1129 - acc_top5: 0.5992 - 17ms/step\n",
      "step 50/79 - loss: 4.5399 - acc_top1: 0.1138 - acc_top5: 0.5955 - 17ms/step\n",
      "step 60/79 - loss: 4.3897 - acc_top1: 0.1133 - acc_top5: 0.5984 - 17ms/step\n",
      "step 70/79 - loss: 4.2192 - acc_top1: 0.1133 - acc_top5: 0.5993 - 17ms/step\n",
      "step 79/79 - loss: 4.5715 - acc_top1: 0.1141 - acc_top5: 0.5988 - 17ms/step\n"
     ]
    },
    {
     "name": "stderr",
     "output_type": "stream",
     "text": [
      "2022-02-02 15:38:56,510-INFO: pruned param: conv2d_2.w_0; 0.8; loss=0.7337222870478414\n",
      "2022-02-02 15:38:56,511-INFO: Save status into ./sen.pickle\n"
     ]
    },
    {
     "name": "stdout",
     "output_type": "stream",
     "text": [
      "Eval samples: 10000\n",
      "Eval begin...\n",
      "The loss value printed in the log is the current batch, and the metric is the average value of previous step.\n",
      "step 10/79 - loss: 4.6236 - acc_top1: 0.1414 - acc_top5: 0.5055 - 19ms/step\n",
      "step 20/79 - loss: 4.3490 - acc_top1: 0.1344 - acc_top5: 0.5055 - 18ms/step\n",
      "step 30/79 - loss: 4.5426 - acc_top1: 0.1396 - acc_top5: 0.5062 - 17ms/step\n",
      "step 40/79 - loss: 4.7270 - acc_top1: 0.1383 - acc_top5: 0.5020 - 17ms/step\n",
      "step 50/79 - loss: 4.2620 - acc_top1: 0.1383 - acc_top5: 0.5028 - 17ms/step\n",
      "step 60/79 - loss: 4.5444 - acc_top1: 0.1395 - acc_top5: 0.5042 - 17ms/step\n",
      "step 70/79 - loss: 4.2741 - acc_top1: 0.1388 - acc_top5: 0.5033 - 17ms/step\n",
      "step 79/79 - loss: 3.9612 - acc_top1: 0.1403 - acc_top5: 0.5028 - 17ms/step\n"
     ]
    },
    {
     "name": "stderr",
     "output_type": "stream",
     "text": [
      "2022-02-02 15:38:57,851-INFO: pruned param: conv2d_2.w_0; 0.9; loss=0.6725787631271879\n",
      "2022-02-02 15:38:57,852-INFO: Save status into ./sen.pickle\n"
     ]
    },
    {
     "name": "stdout",
     "output_type": "stream",
     "text": [
      "Eval samples: 10000\n",
      "Eval begin...\n",
      "The loss value printed in the log is the current batch, and the metric is the average value of previous step.\n",
      "step 10/79 - loss: 1.8044 - acc_top1: 0.4406 - acc_top5: 0.9023 - 19ms/step\n",
      "step 20/79 - loss: 1.6904 - acc_top1: 0.4363 - acc_top5: 0.8961 - 18ms/step\n",
      "step 30/79 - loss: 1.5646 - acc_top1: 0.4352 - acc_top5: 0.8948 - 17ms/step\n",
      "step 40/79 - loss: 1.5179 - acc_top1: 0.4369 - acc_top5: 0.8996 - 17ms/step\n",
      "step 50/79 - loss: 1.4605 - acc_top1: 0.4361 - acc_top5: 0.8986 - 17ms/step\n",
      "step 60/79 - loss: 1.6376 - acc_top1: 0.4342 - acc_top5: 0.9000 - 17ms/step\n",
      "step 70/79 - loss: 1.5401 - acc_top1: 0.4295 - acc_top5: 0.8983 - 17ms/step\n",
      "step 79/79 - loss: 1.5451 - acc_top1: 0.4281 - acc_top5: 0.8978 - 17ms/step\n"
     ]
    },
    {
     "name": "stderr",
     "output_type": "stream",
     "text": [
      "2022-02-02 15:38:59,195-INFO: pruned param: conv2d_4.w_0; 0.1; loss=0.0009334889148191632\n",
      "2022-02-02 15:38:59,197-INFO: Save status into ./sen.pickle\n"
     ]
    },
    {
     "name": "stdout",
     "output_type": "stream",
     "text": [
      "Eval samples: 10000\n",
      "Eval begin...\n",
      "The loss value printed in the log is the current batch, and the metric is the average value of previous step.\n",
      "step 10/79 - loss: 1.6516 - acc_top1: 0.4406 - acc_top5: 0.9094 - 21ms/step\n",
      "step 20/79 - loss: 1.6273 - acc_top1: 0.4367 - acc_top5: 0.9074 - 20ms/step\n",
      "step 30/79 - loss: 1.5639 - acc_top1: 0.4362 - acc_top5: 0.9081 - 19ms/step\n",
      "step 40/79 - loss: 1.5414 - acc_top1: 0.4359 - acc_top5: 0.9125 - 19ms/step\n",
      "step 50/79 - loss: 1.4698 - acc_top1: 0.4359 - acc_top5: 0.9100 - 18ms/step\n",
      "step 60/79 - loss: 1.6199 - acc_top1: 0.4349 - acc_top5: 0.9104 - 18ms/step\n",
      "step 70/79 - loss: 1.5463 - acc_top1: 0.4324 - acc_top5: 0.9090 - 18ms/step\n",
      "step 79/79 - loss: 1.7380 - acc_top1: 0.4313 - acc_top5: 0.9089 - 18ms/step\n"
     ]
    },
    {
     "name": "stderr",
     "output_type": "stream",
     "text": [
      "2022-02-02 15:39:00,599-INFO: pruned param: conv2d_4.w_0; 0.2; loss=-0.006534422403734013\n",
      "2022-02-02 15:39:00,601-INFO: Save status into ./sen.pickle\n"
     ]
    },
    {
     "name": "stdout",
     "output_type": "stream",
     "text": [
      "Eval samples: 10000\n",
      "Eval begin...\n",
      "The loss value printed in the log is the current batch, and the metric is the average value of previous step.\n",
      "step 10/79 - loss: 1.6650 - acc_top1: 0.4352 - acc_top5: 0.8992 - 19ms/step\n",
      "step 20/79 - loss: 1.7012 - acc_top1: 0.4297 - acc_top5: 0.9020 - 18ms/step\n",
      "step 30/79 - loss: 1.5981 - acc_top1: 0.4299 - acc_top5: 0.8995 - 18ms/step\n",
      "step 40/79 - loss: 1.5631 - acc_top1: 0.4316 - acc_top5: 0.9047 - 19ms/step\n",
      "step 50/79 - loss: 1.5098 - acc_top1: 0.4281 - acc_top5: 0.9039 - 19ms/step\n",
      "step 60/79 - loss: 1.6213 - acc_top1: 0.4251 - acc_top5: 0.9044 - 20ms/step\n",
      "step 70/79 - loss: 1.5942 - acc_top1: 0.4214 - acc_top5: 0.9021 - 20ms/step\n",
      "step 79/79 - loss: 1.7794 - acc_top1: 0.4196 - acc_top5: 0.9008 - 19ms/step\n"
     ]
    },
    {
     "name": "stderr",
     "output_type": "stream",
     "text": [
      "2022-02-02 15:39:02,129-INFO: pruned param: conv2d_4.w_0; 0.3; loss=0.02077012835472583\n",
      "2022-02-02 15:39:02,130-INFO: Save status into ./sen.pickle\n"
     ]
    },
    {
     "name": "stdout",
     "output_type": "stream",
     "text": [
      "Eval samples: 10000\n",
      "Eval begin...\n",
      "The loss value printed in the log is the current batch, and the metric is the average value of previous step.\n",
      "step 10/79 - loss: 1.7175 - acc_top1: 0.4234 - acc_top5: 0.9016 - 20ms/step\n",
      "step 20/79 - loss: 1.7094 - acc_top1: 0.4133 - acc_top5: 0.8969 - 19ms/step\n",
      "step 30/79 - loss: 1.6167 - acc_top1: 0.4125 - acc_top5: 0.8997 - 19ms/step\n",
      "step 40/79 - loss: 1.5696 - acc_top1: 0.4135 - acc_top5: 0.9027 - 18ms/step\n",
      "step 50/79 - loss: 1.5827 - acc_top1: 0.4113 - acc_top5: 0.9017 - 18ms/step\n",
      "step 60/79 - loss: 1.6787 - acc_top1: 0.4096 - acc_top5: 0.9021 - 18ms/step\n",
      "step 70/79 - loss: 1.6413 - acc_top1: 0.4078 - acc_top5: 0.9007 - 18ms/step\n",
      "step 79/79 - loss: 1.7476 - acc_top1: 0.4073 - acc_top5: 0.9000 - 18ms/step\n"
     ]
    },
    {
     "name": "stderr",
     "output_type": "stream",
     "text": [
      "2022-02-02 15:39:03,535-INFO: pruned param: conv2d_4.w_0; 0.4; loss=0.049474912485414226\n",
      "2022-02-02 15:39:03,536-INFO: Save status into ./sen.pickle\n"
     ]
    },
    {
     "name": "stdout",
     "output_type": "stream",
     "text": [
      "Eval samples: 10000\n",
      "Eval begin...\n",
      "The loss value printed in the log is the current batch, and the metric is the average value of previous step.\n",
      "step 10/79 - loss: 1.7357 - acc_top1: 0.3875 - acc_top5: 0.8969 - 19ms/step\n",
      "step 20/79 - loss: 1.7609 - acc_top1: 0.3887 - acc_top5: 0.8906 - 18ms/step\n",
      "step 30/79 - loss: 1.6498 - acc_top1: 0.3922 - acc_top5: 0.8891 - 18ms/step\n",
      "step 40/79 - loss: 1.7028 - acc_top1: 0.3912 - acc_top5: 0.8938 - 18ms/step\n",
      "step 50/79 - loss: 1.5958 - acc_top1: 0.3912 - acc_top5: 0.8927 - 17ms/step\n",
      "step 60/79 - loss: 1.6978 - acc_top1: 0.3917 - acc_top5: 0.8934 - 17ms/step\n",
      "step 70/79 - loss: 1.6375 - acc_top1: 0.3916 - acc_top5: 0.8930 - 17ms/step\n",
      "step 79/79 - loss: 1.7790 - acc_top1: 0.3895 - acc_top5: 0.8914 - 17ms/step\n"
     ]
    },
    {
     "name": "stderr",
     "output_type": "stream",
     "text": [
      "2022-02-02 15:39:04,895-INFO: pruned param: conv2d_4.w_0; 0.5; loss=0.09101516919486577\n",
      "2022-02-02 15:39:04,896-INFO: Save status into ./sen.pickle\n"
     ]
    },
    {
     "name": "stdout",
     "output_type": "stream",
     "text": [
      "Eval samples: 10000\n",
      "Eval begin...\n",
      "The loss value printed in the log is the current batch, and the metric is the average value of previous step.\n",
      "step 10/79 - loss: 1.9662 - acc_top1: 0.3477 - acc_top5: 0.8438 - 20ms/step\n",
      "step 20/79 - loss: 1.8916 - acc_top1: 0.3586 - acc_top5: 0.8488 - 19ms/step\n",
      "step 30/79 - loss: 1.7777 - acc_top1: 0.3630 - acc_top5: 0.8510 - 18ms/step\n",
      "step 40/79 - loss: 1.7630 - acc_top1: 0.3627 - acc_top5: 0.8541 - 18ms/step\n",
      "step 50/79 - loss: 1.7309 - acc_top1: 0.3583 - acc_top5: 0.8562 - 18ms/step\n",
      "step 60/79 - loss: 1.8721 - acc_top1: 0.3552 - acc_top5: 0.8548 - 17ms/step\n",
      "step 70/79 - loss: 1.8315 - acc_top1: 0.3545 - acc_top5: 0.8526 - 17ms/step\n",
      "step 79/79 - loss: 2.2351 - acc_top1: 0.3533 - acc_top5: 0.8503 - 17ms/step\n"
     ]
    },
    {
     "name": "stderr",
     "output_type": "stream",
     "text": [
      "2022-02-02 15:39:06,260-INFO: pruned param: conv2d_4.w_0; 0.6; loss=0.17549591598599765\n",
      "2022-02-02 15:39:06,262-INFO: Save status into ./sen.pickle\n"
     ]
    },
    {
     "name": "stdout",
     "output_type": "stream",
     "text": [
      "Eval samples: 10000\n",
      "Eval begin...\n",
      "The loss value printed in the log is the current batch, and the metric is the average value of previous step.\n",
      "step 10/79 - loss: 2.1342 - acc_top1: 0.3141 - acc_top5: 0.7930 - 20ms/step\n",
      "step 20/79 - loss: 1.9999 - acc_top1: 0.3281 - acc_top5: 0.8051 - 19ms/step\n",
      "step 30/79 - loss: 1.8948 - acc_top1: 0.3305 - acc_top5: 0.8083 - 18ms/step\n",
      "step 40/79 - loss: 1.8931 - acc_top1: 0.3287 - acc_top5: 0.8115 - 18ms/step\n",
      "step 50/79 - loss: 1.9405 - acc_top1: 0.3272 - acc_top5: 0.8141 - 18ms/step\n",
      "step 60/79 - loss: 1.9889 - acc_top1: 0.3263 - acc_top5: 0.8126 - 18ms/step\n",
      "step 70/79 - loss: 1.9383 - acc_top1: 0.3251 - acc_top5: 0.8092 - 18ms/step\n",
      "step 79/79 - loss: 2.2482 - acc_top1: 0.3232 - acc_top5: 0.8079 - 18ms/step\n"
     ]
    },
    {
     "name": "stderr",
     "output_type": "stream",
     "text": [
      "2022-02-02 15:39:07,670-INFO: pruned param: conv2d_4.w_0; 0.7; loss=0.2457409568261377\n",
      "2022-02-02 15:39:07,671-INFO: Save status into ./sen.pickle\n"
     ]
    },
    {
     "name": "stdout",
     "output_type": "stream",
     "text": [
      "Eval samples: 10000\n",
      "Eval begin...\n",
      "The loss value printed in the log is the current batch, and the metric is the average value of previous step.\n",
      "step 10/79 - loss: 2.3281 - acc_top1: 0.2297 - acc_top5: 0.7406 - 20ms/step\n",
      "step 20/79 - loss: 2.1882 - acc_top1: 0.2316 - acc_top5: 0.7625 - 19ms/step\n",
      "step 30/79 - loss: 2.1262 - acc_top1: 0.2333 - acc_top5: 0.7701 - 18ms/step\n",
      "step 40/79 - loss: 2.1281 - acc_top1: 0.2373 - acc_top5: 0.7727 - 18ms/step\n",
      "step 50/79 - loss: 2.1836 - acc_top1: 0.2372 - acc_top5: 0.7734 - 18ms/step\n",
      "step 60/79 - loss: 2.1595 - acc_top1: 0.2372 - acc_top5: 0.7724 - 18ms/step\n",
      "step 70/79 - loss: 2.2031 - acc_top1: 0.2371 - acc_top5: 0.7709 - 18ms/step\n",
      "step 79/79 - loss: 2.3747 - acc_top1: 0.2358 - acc_top5: 0.7696 - 17ms/step\n"
     ]
    },
    {
     "name": "stderr",
     "output_type": "stream",
     "text": [
      "2022-02-02 15:39:09,043-INFO: pruned param: conv2d_4.w_0; 0.8; loss=0.449708284714119\n",
      "2022-02-02 15:39:09,044-INFO: Save status into ./sen.pickle\n"
     ]
    },
    {
     "name": "stdout",
     "output_type": "stream",
     "text": [
      "Eval samples: 10000\n",
      "Eval begin...\n",
      "The loss value printed in the log is the current batch, and the metric is the average value of previous step.\n",
      "step 10/79 - loss: 2.2733 - acc_top1: 0.2273 - acc_top5: 0.7227 - 20ms/step\n",
      "step 20/79 - loss: 2.1361 - acc_top1: 0.2387 - acc_top5: 0.7441 - 19ms/step\n",
      "step 30/79 - loss: 2.0294 - acc_top1: 0.2432 - acc_top5: 0.7445 - 18ms/step\n",
      "step 40/79 - loss: 2.2242 - acc_top1: 0.2404 - acc_top5: 0.7461 - 18ms/step\n",
      "step 50/79 - loss: 2.2386 - acc_top1: 0.2362 - acc_top5: 0.7466 - 18ms/step\n",
      "step 60/79 - loss: 2.0735 - acc_top1: 0.2391 - acc_top5: 0.7465 - 18ms/step\n",
      "step 70/79 - loss: 2.2592 - acc_top1: 0.2410 - acc_top5: 0.7469 - 18ms/step\n",
      "step 79/79 - loss: 2.3654 - acc_top1: 0.2401 - acc_top5: 0.7453 - 17ms/step\n"
     ]
    },
    {
     "name": "stderr",
     "output_type": "stream",
     "text": [
      "2022-02-02 15:39:10,429-INFO: pruned param: conv2d_4.w_0; 0.9; loss=0.4396732788798133\n",
      "2022-02-02 15:39:10,430-INFO: Save status into ./sen.pickle\n"
     ]
    },
    {
     "name": "stdout",
     "output_type": "stream",
     "text": [
      "Eval samples: 10000\n",
      "Eval begin...\n",
      "The loss value printed in the log is the current batch, and the metric is the average value of previous step.\n",
      "step 10/79 - loss: 1.8185 - acc_top1: 0.4344 - acc_top5: 0.8961 - 20ms/step\n",
      "step 20/79 - loss: 1.7041 - acc_top1: 0.4293 - acc_top5: 0.8914 - 19ms/step\n",
      "step 30/79 - loss: 1.5462 - acc_top1: 0.4310 - acc_top5: 0.8938 - 18ms/step\n",
      "step 40/79 - loss: 1.5262 - acc_top1: 0.4322 - acc_top5: 0.8982 - 18ms/step\n",
      "step 50/79 - loss: 1.4599 - acc_top1: 0.4300 - acc_top5: 0.8984 - 18ms/step\n",
      "step 60/79 - loss: 1.6036 - acc_top1: 0.4316 - acc_top5: 0.9004 - 18ms/step\n",
      "step 70/79 - loss: 1.5211 - acc_top1: 0.4281 - acc_top5: 0.8999 - 18ms/step\n",
      "step 79/79 - loss: 1.5259 - acc_top1: 0.4276 - acc_top5: 0.8992 - 18ms/step\n"
     ]
    },
    {
     "name": "stderr",
     "output_type": "stream",
     "text": [
      "2022-02-02 15:39:11,863-INFO: pruned param: conv2d_6.w_0; 0.1; loss=0.002100350058343085\n",
      "2022-02-02 15:39:11,864-INFO: Save status into ./sen.pickle\n"
     ]
    },
    {
     "name": "stdout",
     "output_type": "stream",
     "text": [
      "Eval samples: 10000\n",
      "Eval begin...\n",
      "The loss value printed in the log is the current batch, and the metric is the average value of previous step.\n",
      "step 10/79 - loss: 1.8363 - acc_top1: 0.4336 - acc_top5: 0.8953 - 20ms/step\n",
      "step 20/79 - loss: 1.7172 - acc_top1: 0.4242 - acc_top5: 0.8934 - 19ms/step\n",
      "step 30/79 - loss: 1.5678 - acc_top1: 0.4245 - acc_top5: 0.8958 - 18ms/step\n",
      "step 40/79 - loss: 1.5793 - acc_top1: 0.4283 - acc_top5: 0.8988 - 18ms/step\n",
      "step 50/79 - loss: 1.4990 - acc_top1: 0.4250 - acc_top5: 0.8983 - 18ms/step\n",
      "step 60/79 - loss: 1.6095 - acc_top1: 0.4267 - acc_top5: 0.9001 - 18ms/step\n",
      "step 70/79 - loss: 1.5377 - acc_top1: 0.4240 - acc_top5: 0.8990 - 18ms/step\n",
      "step 79/79 - loss: 1.5453 - acc_top1: 0.4233 - acc_top5: 0.8979 - 17ms/step\n"
     ]
    },
    {
     "name": "stderr",
     "output_type": "stream",
     "text": [
      "2022-02-02 15:39:13,233-INFO: pruned param: conv2d_6.w_0; 0.2; loss=0.012135355892648733\n",
      "2022-02-02 15:39:13,235-INFO: Save status into ./sen.pickle\n"
     ]
    },
    {
     "name": "stdout",
     "output_type": "stream",
     "text": [
      "Eval samples: 10000\n",
      "Eval begin...\n",
      "The loss value printed in the log is the current batch, and the metric is the average value of previous step.\n",
      "step 10/79 - loss: 1.8447 - acc_top1: 0.4180 - acc_top5: 0.8977 - 19ms/step\n",
      "step 20/79 - loss: 1.7185 - acc_top1: 0.4137 - acc_top5: 0.8934 - 18ms/step\n",
      "step 30/79 - loss: 1.5615 - acc_top1: 0.4169 - acc_top5: 0.8951 - 18ms/step\n",
      "step 40/79 - loss: 1.5759 - acc_top1: 0.4191 - acc_top5: 0.8977 - 17ms/step\n",
      "step 50/79 - loss: 1.4742 - acc_top1: 0.4192 - acc_top5: 0.8992 - 17ms/step\n",
      "step 60/79 - loss: 1.6161 - acc_top1: 0.4211 - acc_top5: 0.9007 - 17ms/step\n",
      "step 70/79 - loss: 1.5416 - acc_top1: 0.4190 - acc_top5: 0.8994 - 17ms/step\n",
      "step 79/79 - loss: 1.5374 - acc_top1: 0.4181 - acc_top5: 0.8981 - 17ms/step\n"
     ]
    },
    {
     "name": "stderr",
     "output_type": "stream",
     "text": [
      "2022-02-02 15:39:14,573-INFO: pruned param: conv2d_6.w_0; 0.3; loss=0.024270711785297466\n",
      "2022-02-02 15:39:14,574-INFO: Save status into ./sen.pickle\n"
     ]
    },
    {
     "name": "stdout",
     "output_type": "stream",
     "text": [
      "Eval samples: 10000\n",
      "Eval begin...\n",
      "The loss value printed in the log is the current batch, and the metric is the average value of previous step.\n",
      "step 10/79 - loss: 2.0084 - acc_top1: 0.3758 - acc_top5: 0.8570 - 19ms/step\n",
      "step 20/79 - loss: 1.8554 - acc_top1: 0.3695 - acc_top5: 0.8652 - 18ms/step\n",
      "step 30/79 - loss: 1.6579 - acc_top1: 0.3698 - acc_top5: 0.8714 - 18ms/step\n",
      "step 40/79 - loss: 1.7422 - acc_top1: 0.3711 - acc_top5: 0.8732 - 18ms/step\n",
      "step 50/79 - loss: 1.6947 - acc_top1: 0.3716 - acc_top5: 0.8755 - 17ms/step\n",
      "step 60/79 - loss: 1.7090 - acc_top1: 0.3716 - acc_top5: 0.8762 - 17ms/step\n",
      "step 70/79 - loss: 1.7487 - acc_top1: 0.3680 - acc_top5: 0.8762 - 17ms/step\n",
      "step 79/79 - loss: 1.7234 - acc_top1: 0.3688 - acc_top5: 0.8760 - 17ms/step\n"
     ]
    },
    {
     "name": "stderr",
     "output_type": "stream",
     "text": [
      "2022-02-02 15:39:15,935-INFO: pruned param: conv2d_6.w_0; 0.4; loss=0.13932322053675608\n",
      "2022-02-02 15:39:15,937-INFO: Save status into ./sen.pickle\n"
     ]
    },
    {
     "name": "stdout",
     "output_type": "stream",
     "text": [
      "Eval samples: 10000\n",
      "Eval begin...\n",
      "The loss value printed in the log is the current batch, and the metric is the average value of previous step.\n",
      "step 10/79 - loss: 1.9741 - acc_top1: 0.3820 - acc_top5: 0.8672 - 19ms/step\n",
      "step 20/79 - loss: 1.8411 - acc_top1: 0.3801 - acc_top5: 0.8707 - 18ms/step\n",
      "step 30/79 - loss: 1.5996 - acc_top1: 0.3781 - acc_top5: 0.8734 - 18ms/step\n",
      "step 40/79 - loss: 1.7145 - acc_top1: 0.3793 - acc_top5: 0.8754 - 17ms/step\n",
      "step 50/79 - loss: 1.6943 - acc_top1: 0.3773 - acc_top5: 0.8788 - 17ms/step\n",
      "step 60/79 - loss: 1.6954 - acc_top1: 0.3783 - acc_top5: 0.8802 - 17ms/step\n",
      "step 70/79 - loss: 1.7010 - acc_top1: 0.3751 - acc_top5: 0.8806 - 17ms/step\n",
      "step 79/79 - loss: 1.6858 - acc_top1: 0.3761 - acc_top5: 0.8796 - 17ms/step\n"
     ]
    },
    {
     "name": "stderr",
     "output_type": "stream",
     "text": [
      "2022-02-02 15:39:17,282-INFO: pruned param: conv2d_6.w_0; 0.5; loss=0.1222870478413069\n",
      "2022-02-02 15:39:17,284-INFO: Save status into ./sen.pickle\n"
     ]
    },
    {
     "name": "stdout",
     "output_type": "stream",
     "text": [
      "Eval samples: 10000\n",
      "Eval begin...\n",
      "The loss value printed in the log is the current batch, and the metric is the average value of previous step.\n",
      "step 10/79 - loss: 2.2050 - acc_top1: 0.3164 - acc_top5: 0.8055 - 20ms/step\n",
      "step 20/79 - loss: 2.0156 - acc_top1: 0.3137 - acc_top5: 0.8164 - 18ms/step\n",
      "step 30/79 - loss: 1.7580 - acc_top1: 0.3271 - acc_top5: 0.8245 - 18ms/step\n",
      "step 40/79 - loss: 1.8722 - acc_top1: 0.3305 - acc_top5: 0.8250 - 18ms/step\n",
      "step 50/79 - loss: 1.9194 - acc_top1: 0.3259 - acc_top5: 0.8247 - 18ms/step\n",
      "step 60/79 - loss: 1.8168 - acc_top1: 0.3259 - acc_top5: 0.8243 - 18ms/step\n",
      "step 70/79 - loss: 1.9398 - acc_top1: 0.3222 - acc_top5: 0.8231 - 18ms/step\n",
      "step 79/79 - loss: 1.9254 - acc_top1: 0.3231 - acc_top5: 0.8213 - 17ms/step\n"
     ]
    },
    {
     "name": "stderr",
     "output_type": "stream",
     "text": [
      "2022-02-02 15:39:18,665-INFO: pruned param: conv2d_6.w_0; 0.6; loss=0.24597432905484246\n",
      "2022-02-02 15:39:18,666-INFO: Save status into ./sen.pickle\n"
     ]
    },
    {
     "name": "stdout",
     "output_type": "stream",
     "text": [
      "Eval samples: 10000\n",
      "Eval begin...\n",
      "The loss value printed in the log is the current batch, and the metric is the average value of previous step.\n",
      "step 10/79 - loss: 2.3079 - acc_top1: 0.2750 - acc_top5: 0.7422 - 19ms/step\n",
      "step 20/79 - loss: 2.1506 - acc_top1: 0.2777 - acc_top5: 0.7566 - 18ms/step\n",
      "step 30/79 - loss: 1.8506 - acc_top1: 0.2878 - acc_top5: 0.7672 - 18ms/step\n",
      "step 40/79 - loss: 1.9679 - acc_top1: 0.2887 - acc_top5: 0.7744 - 18ms/step\n",
      "step 50/79 - loss: 2.0189 - acc_top1: 0.2875 - acc_top5: 0.7738 - 18ms/step\n",
      "step 60/79 - loss: 1.9452 - acc_top1: 0.2862 - acc_top5: 0.7741 - 18ms/step\n",
      "step 70/79 - loss: 2.0608 - acc_top1: 0.2839 - acc_top5: 0.7724 - 17ms/step\n",
      "step 79/79 - loss: 2.0539 - acc_top1: 0.2843 - acc_top5: 0.7708 - 17ms/step\n"
     ]
    },
    {
     "name": "stderr",
     "output_type": "stream",
     "text": [
      "2022-02-02 15:39:20,034-INFO: pruned param: conv2d_6.w_0; 0.7; loss=0.33652275379229873\n",
      "2022-02-02 15:39:20,035-INFO: Save status into ./sen.pickle\n"
     ]
    },
    {
     "name": "stdout",
     "output_type": "stream",
     "text": [
      "Eval samples: 10000\n",
      "Eval begin...\n",
      "The loss value printed in the log is the current batch, and the metric is the average value of previous step.\n",
      "step 10/79 - loss: 2.4202 - acc_top1: 0.2633 - acc_top5: 0.7148 - 19ms/step\n",
      "step 20/79 - loss: 2.1977 - acc_top1: 0.2645 - acc_top5: 0.7273 - 18ms/step\n",
      "step 30/79 - loss: 1.8692 - acc_top1: 0.2703 - acc_top5: 0.7411 - 18ms/step\n",
      "step 40/79 - loss: 2.0071 - acc_top1: 0.2697 - acc_top5: 0.7469 - 18ms/step\n",
      "step 50/79 - loss: 2.0686 - acc_top1: 0.2652 - acc_top5: 0.7452 - 18ms/step\n",
      "step 60/79 - loss: 1.9831 - acc_top1: 0.2654 - acc_top5: 0.7444 - 18ms/step\n",
      "step 70/79 - loss: 2.1575 - acc_top1: 0.2626 - acc_top5: 0.7424 - 19ms/step\n",
      "step 79/79 - loss: 2.0989 - acc_top1: 0.2628 - acc_top5: 0.7429 - 18ms/step\n"
     ]
    },
    {
     "name": "stderr",
     "output_type": "stream",
     "text": [
      "2022-02-02 15:39:21,488-INFO: pruned param: conv2d_6.w_0; 0.8; loss=0.38669778296382734\n",
      "2022-02-02 15:39:21,490-INFO: Save status into ./sen.pickle\n"
     ]
    },
    {
     "name": "stdout",
     "output_type": "stream",
     "text": [
      "Eval samples: 10000\n",
      "Eval begin...\n",
      "The loss value printed in the log is the current batch, and the metric is the average value of previous step.\n",
      "step 10/79 - loss: 3.0549 - acc_top1: 0.1531 - acc_top5: 0.6000 - 19ms/step\n",
      "step 20/79 - loss: 2.7901 - acc_top1: 0.1449 - acc_top5: 0.5941 - 18ms/step\n",
      "step 30/79 - loss: 2.4896 - acc_top1: 0.1500 - acc_top5: 0.6010 - 20ms/step\n",
      "step 40/79 - loss: 2.5198 - acc_top1: 0.1508 - acc_top5: 0.6000 - 20ms/step\n",
      "step 50/79 - loss: 2.6725 - acc_top1: 0.1520 - acc_top5: 0.6033 - 21ms/step\n",
      "step 60/79 - loss: 2.7219 - acc_top1: 0.1488 - acc_top5: 0.6023 - 21ms/step\n",
      "step 70/79 - loss: 2.8713 - acc_top1: 0.1489 - acc_top5: 0.6008 - 20ms/step\n",
      "step 79/79 - loss: 2.5557 - acc_top1: 0.1480 - acc_top5: 0.5975 - 20ms/step\n"
     ]
    },
    {
     "name": "stderr",
     "output_type": "stream",
     "text": [
      "2022-02-02 15:39:23,052-INFO: pruned param: conv2d_6.w_0; 0.9; loss=0.6546091015169194\n",
      "2022-02-02 15:39:23,053-INFO: Save status into ./sen.pickle\n"
     ]
    },
    {
     "name": "stdout",
     "output_type": "stream",
     "text": [
      "Eval samples: 10000\n",
      "Eval begin...\n",
      "The loss value printed in the log is the current batch, and the metric is the average value of previous step.\n",
      "step 10/79 - loss: 1.8287 - acc_top1: 0.4266 - acc_top5: 0.8938 - 20ms/step\n",
      "step 20/79 - loss: 1.7138 - acc_top1: 0.4203 - acc_top5: 0.8914 - 19ms/step\n",
      "step 30/79 - loss: 1.5490 - acc_top1: 0.4227 - acc_top5: 0.8922 - 19ms/step\n",
      "step 40/79 - loss: 1.5541 - acc_top1: 0.4262 - acc_top5: 0.8963 - 19ms/step\n",
      "step 50/79 - loss: 1.4732 - acc_top1: 0.4263 - acc_top5: 0.8970 - 19ms/step\n",
      "step 60/79 - loss: 1.6227 - acc_top1: 0.4268 - acc_top5: 0.8992 - 19ms/step\n",
      "step 70/79 - loss: 1.5110 - acc_top1: 0.4243 - acc_top5: 0.8973 - 19ms/step\n",
      "step 79/79 - loss: 1.4914 - acc_top1: 0.4227 - acc_top5: 0.8967 - 19ms/step\n"
     ]
    },
    {
     "name": "stderr",
     "output_type": "stream",
     "text": [
      "2022-02-02 15:39:24,555-INFO: pruned param: conv2d_8.w_0; 0.1; loss=0.013535589264877414\n",
      "2022-02-02 15:39:24,557-INFO: Save status into ./sen.pickle\n"
     ]
    },
    {
     "name": "stdout",
     "output_type": "stream",
     "text": [
      "Eval samples: 10000\n",
      "Eval begin...\n",
      "The loss value printed in the log is the current batch, and the metric is the average value of previous step.\n",
      "step 10/79 - loss: 1.8358 - acc_top1: 0.4250 - acc_top5: 0.8898 - 20ms/step\n",
      "step 20/79 - loss: 1.7356 - acc_top1: 0.4195 - acc_top5: 0.8910 - 18ms/step\n",
      "step 30/79 - loss: 1.5711 - acc_top1: 0.4185 - acc_top5: 0.8922 - 18ms/step\n",
      "step 40/79 - loss: 1.5894 - acc_top1: 0.4195 - acc_top5: 0.8957 - 18ms/step\n",
      "step 50/79 - loss: 1.4958 - acc_top1: 0.4170 - acc_top5: 0.8959 - 18ms/step\n",
      "step 60/79 - loss: 1.6375 - acc_top1: 0.4171 - acc_top5: 0.8971 - 18ms/step\n",
      "step 70/79 - loss: 1.5557 - acc_top1: 0.4145 - acc_top5: 0.8965 - 18ms/step\n",
      "step 79/79 - loss: 1.4837 - acc_top1: 0.4118 - acc_top5: 0.8956 - 17ms/step\n"
     ]
    },
    {
     "name": "stderr",
     "output_type": "stream",
     "text": [
      "2022-02-02 15:39:25,935-INFO: pruned param: conv2d_8.w_0; 0.2; loss=0.03897316219369893\n",
      "2022-02-02 15:39:25,936-INFO: Save status into ./sen.pickle\n"
     ]
    },
    {
     "name": "stdout",
     "output_type": "stream",
     "text": [
      "Eval samples: 10000\n",
      "Eval begin...\n",
      "The loss value printed in the log is the current batch, and the metric is the average value of previous step.\n",
      "step 10/79 - loss: 1.8203 - acc_top1: 0.4180 - acc_top5: 0.8914 - 20ms/step\n",
      "step 20/79 - loss: 1.7360 - acc_top1: 0.4129 - acc_top5: 0.8910 - 18ms/step\n",
      "step 30/79 - loss: 1.5580 - acc_top1: 0.4167 - acc_top5: 0.8911 - 18ms/step\n",
      "step 40/79 - loss: 1.5888 - acc_top1: 0.4168 - acc_top5: 0.8934 - 18ms/step\n",
      "step 50/79 - loss: 1.4942 - acc_top1: 0.4136 - acc_top5: 0.8948 - 18ms/step\n",
      "step 60/79 - loss: 1.6427 - acc_top1: 0.4125 - acc_top5: 0.8951 - 18ms/step\n",
      "step 70/79 - loss: 1.5450 - acc_top1: 0.4110 - acc_top5: 0.8936 - 17ms/step\n",
      "step 79/79 - loss: 1.4410 - acc_top1: 0.4102 - acc_top5: 0.8924 - 17ms/step\n"
     ]
    },
    {
     "name": "stderr",
     "output_type": "stream",
     "text": [
      "2022-02-02 15:39:27,307-INFO: pruned param: conv2d_8.w_0; 0.3; loss=0.04270711785297546\n",
      "2022-02-02 15:39:27,308-INFO: Save status into ./sen.pickle\n"
     ]
    },
    {
     "name": "stdout",
     "output_type": "stream",
     "text": [
      "Eval samples: 10000\n",
      "Eval begin...\n",
      "The loss value printed in the log is the current batch, and the metric is the average value of previous step.\n",
      "step 10/79 - loss: 1.7815 - acc_top1: 0.3969 - acc_top5: 0.8938 - 21ms/step\n",
      "step 20/79 - loss: 1.7317 - acc_top1: 0.3965 - acc_top5: 0.8910 - 19ms/step\n",
      "step 30/79 - loss: 1.6103 - acc_top1: 0.3982 - acc_top5: 0.8909 - 19ms/step\n",
      "step 40/79 - loss: 1.6587 - acc_top1: 0.4016 - acc_top5: 0.8938 - 18ms/step\n",
      "step 50/79 - loss: 1.5446 - acc_top1: 0.4031 - acc_top5: 0.8936 - 18ms/step\n",
      "step 60/79 - loss: 1.6430 - acc_top1: 0.4003 - acc_top5: 0.8951 - 18ms/step\n",
      "step 70/79 - loss: 1.6147 - acc_top1: 0.3993 - acc_top5: 0.8948 - 18ms/step\n",
      "step 79/79 - loss: 1.5808 - acc_top1: 0.3988 - acc_top5: 0.8927 - 18ms/step\n"
     ]
    },
    {
     "name": "stderr",
     "output_type": "stream",
     "text": [
      "2022-02-02 15:39:28,705-INFO: pruned param: conv2d_8.w_0; 0.4; loss=0.0693115519253209\n",
      "2022-02-02 15:39:28,706-INFO: Save status into ./sen.pickle\n"
     ]
    },
    {
     "name": "stdout",
     "output_type": "stream",
     "text": [
      "Eval samples: 10000\n",
      "Eval begin...\n",
      "The loss value printed in the log is the current batch, and the metric is the average value of previous step.\n",
      "step 10/79 - loss: 1.7675 - acc_top1: 0.3953 - acc_top5: 0.8883 - 20ms/step\n",
      "step 20/79 - loss: 1.7232 - acc_top1: 0.3914 - acc_top5: 0.8914 - 18ms/step\n",
      "step 30/79 - loss: 1.6087 - acc_top1: 0.4000 - acc_top5: 0.8896 - 18ms/step\n",
      "step 40/79 - loss: 1.6758 - acc_top1: 0.4035 - acc_top5: 0.8908 - 18ms/step\n",
      "step 50/79 - loss: 1.5415 - acc_top1: 0.4033 - acc_top5: 0.8906 - 18ms/step\n",
      "step 60/79 - loss: 1.6137 - acc_top1: 0.4003 - acc_top5: 0.8923 - 18ms/step\n",
      "step 70/79 - loss: 1.6222 - acc_top1: 0.3987 - acc_top5: 0.8915 - 18ms/step\n",
      "step 79/79 - loss: 1.6098 - acc_top1: 0.3990 - acc_top5: 0.8899 - 18ms/step\n"
     ]
    },
    {
     "name": "stderr",
     "output_type": "stream",
     "text": [
      "2022-02-02 15:39:30,107-INFO: pruned param: conv2d_8.w_0; 0.5; loss=0.06884480746791125\n",
      "2022-02-02 15:39:30,108-INFO: Save status into ./sen.pickle\n"
     ]
    },
    {
     "name": "stdout",
     "output_type": "stream",
     "text": [
      "Eval samples: 10000\n",
      "Eval begin...\n",
      "The loss value printed in the log is the current batch, and the metric is the average value of previous step.\n",
      "step 10/79 - loss: 1.7478 - acc_top1: 0.3742 - acc_top5: 0.8859 - 20ms/step\n",
      "step 20/79 - loss: 1.7426 - acc_top1: 0.3789 - acc_top5: 0.8867 - 19ms/step\n",
      "step 30/79 - loss: 1.6739 - acc_top1: 0.3820 - acc_top5: 0.8846 - 19ms/step\n",
      "step 40/79 - loss: 1.7611 - acc_top1: 0.3811 - acc_top5: 0.8879 - 18ms/step\n",
      "step 50/79 - loss: 1.6502 - acc_top1: 0.3792 - acc_top5: 0.8872 - 18ms/step\n",
      "step 60/79 - loss: 1.6650 - acc_top1: 0.3771 - acc_top5: 0.8874 - 18ms/step\n",
      "step 70/79 - loss: 1.7331 - acc_top1: 0.3771 - acc_top5: 0.8868 - 18ms/step\n",
      "step 79/79 - loss: 1.7328 - acc_top1: 0.3770 - acc_top5: 0.8853 - 18ms/step\n"
     ]
    },
    {
     "name": "stderr",
     "output_type": "stream",
     "text": [
      "2022-02-02 15:39:31,521-INFO: pruned param: conv2d_8.w_0; 0.6; loss=0.1201866977829638\n",
      "2022-02-02 15:39:31,522-INFO: Save status into ./sen.pickle\n"
     ]
    },
    {
     "name": "stdout",
     "output_type": "stream",
     "text": [
      "Eval samples: 10000\n",
      "Eval begin...\n",
      "The loss value printed in the log is the current batch, and the metric is the average value of previous step.\n",
      "step 10/79 - loss: 1.8493 - acc_top1: 0.3109 - acc_top5: 0.8641 - 20ms/step\n",
      "step 20/79 - loss: 1.8558 - acc_top1: 0.3141 - acc_top5: 0.8652 - 19ms/step\n",
      "step 30/79 - loss: 1.8242 - acc_top1: 0.3182 - acc_top5: 0.8648 - 19ms/step\n",
      "step 40/79 - loss: 1.8673 - acc_top1: 0.3191 - acc_top5: 0.8656 - 19ms/step\n",
      "step 50/79 - loss: 1.8414 - acc_top1: 0.3172 - acc_top5: 0.8658 - 19ms/step\n",
      "step 60/79 - loss: 1.7524 - acc_top1: 0.3137 - acc_top5: 0.8667 - 18ms/step\n",
      "step 70/79 - loss: 1.9362 - acc_top1: 0.3160 - acc_top5: 0.8670 - 18ms/step\n",
      "step 79/79 - loss: 1.9221 - acc_top1: 0.3159 - acc_top5: 0.8659 - 18ms/step\n"
     ]
    },
    {
     "name": "stderr",
     "output_type": "stream",
     "text": [
      "2022-02-02 15:39:32,947-INFO: pruned param: conv2d_8.w_0; 0.7; loss=0.2627771295215869\n",
      "2022-02-02 15:39:32,948-INFO: Save status into ./sen.pickle\n"
     ]
    },
    {
     "name": "stdout",
     "output_type": "stream",
     "text": [
      "Eval samples: 10000\n",
      "Eval begin...\n",
      "The loss value printed in the log is the current batch, and the metric is the average value of previous step.\n",
      "step 10/79 - loss: 1.9208 - acc_top1: 0.2812 - acc_top5: 0.8102 - 20ms/step\n",
      "step 20/79 - loss: 1.9950 - acc_top1: 0.2844 - acc_top5: 0.8031 - 19ms/step\n",
      "step 30/79 - loss: 1.9361 - acc_top1: 0.2823 - acc_top5: 0.8089 - 18ms/step\n",
      "step 40/79 - loss: 1.9554 - acc_top1: 0.2842 - acc_top5: 0.8104 - 18ms/step\n",
      "step 50/79 - loss: 1.9582 - acc_top1: 0.2822 - acc_top5: 0.8097 - 18ms/step\n",
      "step 60/79 - loss: 1.8887 - acc_top1: 0.2826 - acc_top5: 0.8076 - 18ms/step\n",
      "step 70/79 - loss: 2.0370 - acc_top1: 0.2845 - acc_top5: 0.8086 - 17ms/step\n",
      "step 79/79 - loss: 2.0920 - acc_top1: 0.2823 - acc_top5: 0.8075 - 17ms/step\n"
     ]
    },
    {
     "name": "stderr",
     "output_type": "stream",
     "text": [
      "2022-02-02 15:39:34,315-INFO: pruned param: conv2d_8.w_0; 0.8; loss=0.3411901983663944\n",
      "2022-02-02 15:39:34,316-INFO: Save status into ./sen.pickle\n"
     ]
    },
    {
     "name": "stdout",
     "output_type": "stream",
     "text": [
      "Eval samples: 10000\n",
      "Eval begin...\n",
      "The loss value printed in the log is the current batch, and the metric is the average value of previous step.\n",
      "step 10/79 - loss: 2.1159 - acc_top1: 0.2047 - acc_top5: 0.7406 - 20ms/step\n",
      "step 20/79 - loss: 2.2106 - acc_top1: 0.2020 - acc_top5: 0.7320 - 18ms/step\n",
      "step 30/79 - loss: 2.1303 - acc_top1: 0.2036 - acc_top5: 0.7339 - 18ms/step\n",
      "step 40/79 - loss: 2.1414 - acc_top1: 0.2062 - acc_top5: 0.7398 - 18ms/step\n",
      "step 50/79 - loss: 2.1615 - acc_top1: 0.2062 - acc_top5: 0.7408 - 18ms/step\n",
      "step 60/79 - loss: 2.0519 - acc_top1: 0.2062 - acc_top5: 0.7400 - 18ms/step\n",
      "step 70/79 - loss: 2.2636 - acc_top1: 0.2084 - acc_top5: 0.7430 - 18ms/step\n",
      "step 79/79 - loss: 2.1051 - acc_top1: 0.2061 - acc_top5: 0.7430 - 17ms/step\n"
     ]
    },
    {
     "name": "stderr",
     "output_type": "stream",
     "text": [
      "2022-02-02 15:39:35,690-INFO: pruned param: conv2d_8.w_0; 0.9; loss=0.5190198366394398\n",
      "2022-02-02 15:39:35,692-INFO: Save status into ./sen.pickle\n"
     ]
    },
    {
     "name": "stdout",
     "output_type": "stream",
     "text": [
      "Eval samples: 10000\n",
      "Eval begin...\n",
      "The loss value printed in the log is the current batch, and the metric is the average value of previous step.\n",
      "step 10/79 - loss: 1.8059 - acc_top1: 0.4352 - acc_top5: 0.9016 - 19ms/step\n",
      "step 20/79 - loss: 1.7055 - acc_top1: 0.4305 - acc_top5: 0.8980 - 18ms/step\n",
      "step 30/79 - loss: 1.5415 - acc_top1: 0.4313 - acc_top5: 0.8982 - 18ms/step\n",
      "step 40/79 - loss: 1.5095 - acc_top1: 0.4336 - acc_top5: 0.9020 - 18ms/step\n",
      "step 50/79 - loss: 1.4572 - acc_top1: 0.4328 - acc_top5: 0.9016 - 18ms/step\n",
      "step 60/79 - loss: 1.6268 - acc_top1: 0.4324 - acc_top5: 0.9016 - 18ms/step\n",
      "step 70/79 - loss: 1.5204 - acc_top1: 0.4276 - acc_top5: 0.8993 - 18ms/step\n",
      "step 79/79 - loss: 1.4691 - acc_top1: 0.4273 - acc_top5: 0.8988 - 17ms/step\n"
     ]
    },
    {
     "name": "stderr",
     "output_type": "stream",
     "text": [
      "2022-02-02 15:39:37,071-INFO: pruned param: conv2d_10.w_0; 0.1; loss=0.0028004667444573605\n",
      "2022-02-02 15:39:37,072-INFO: Save status into ./sen.pickle\n"
     ]
    },
    {
     "name": "stdout",
     "output_type": "stream",
     "text": [
      "Eval samples: 10000\n",
      "Eval begin...\n",
      "The loss value printed in the log is the current batch, and the metric is the average value of previous step.\n",
      "step 10/79 - loss: 1.7245 - acc_top1: 0.4352 - acc_top5: 0.9031 - 20ms/step\n",
      "step 20/79 - loss: 1.6621 - acc_top1: 0.4379 - acc_top5: 0.9055 - 18ms/step\n",
      "step 30/79 - loss: 1.5194 - acc_top1: 0.4378 - acc_top5: 0.9031 - 18ms/step\n",
      "step 40/79 - loss: 1.5244 - acc_top1: 0.4387 - acc_top5: 0.9049 - 18ms/step\n",
      "step 50/79 - loss: 1.4558 - acc_top1: 0.4378 - acc_top5: 0.9052 - 18ms/step\n",
      "step 60/79 - loss: 1.6327 - acc_top1: 0.4378 - acc_top5: 0.9042 - 18ms/step\n",
      "step 70/79 - loss: 1.5212 - acc_top1: 0.4326 - acc_top5: 0.9017 - 18ms/step\n",
      "step 79/79 - loss: 1.4470 - acc_top1: 0.4322 - acc_top5: 0.9008 - 17ms/step\n"
     ]
    },
    {
     "name": "stderr",
     "output_type": "stream",
     "text": [
      "2022-02-02 15:39:38,443-INFO: pruned param: conv2d_10.w_0; 0.2; loss=-0.00863477246207697\n",
      "2022-02-02 15:39:38,444-INFO: Save status into ./sen.pickle\n"
     ]
    },
    {
     "name": "stdout",
     "output_type": "stream",
     "text": [
      "Eval samples: 10000\n",
      "Eval begin...\n",
      "The loss value printed in the log is the current batch, and the metric is the average value of previous step.\n",
      "step 10/79 - loss: 1.7246 - acc_top1: 0.4266 - acc_top5: 0.9000 - 19ms/step\n",
      "step 20/79 - loss: 1.6896 - acc_top1: 0.4164 - acc_top5: 0.8973 - 18ms/step\n",
      "step 30/79 - loss: 1.5872 - acc_top1: 0.4151 - acc_top5: 0.8966 - 18ms/step\n",
      "step 40/79 - loss: 1.5836 - acc_top1: 0.4160 - acc_top5: 0.8988 - 17ms/step\n",
      "step 50/79 - loss: 1.5129 - acc_top1: 0.4161 - acc_top5: 0.8986 - 17ms/step\n",
      "step 60/79 - loss: 1.6734 - acc_top1: 0.4141 - acc_top5: 0.8984 - 17ms/step\n",
      "step 70/79 - loss: 1.5879 - acc_top1: 0.4123 - acc_top5: 0.8977 - 17ms/step\n",
      "step 79/79 - loss: 1.6286 - acc_top1: 0.4127 - acc_top5: 0.8962 - 17ms/step\n"
     ]
    },
    {
     "name": "stderr",
     "output_type": "stream",
     "text": [
      "2022-02-02 15:39:39,809-INFO: pruned param: conv2d_10.w_0; 0.3; loss=0.03687281213535585\n",
      "2022-02-02 15:39:39,810-INFO: Save status into ./sen.pickle\n"
     ]
    },
    {
     "name": "stdout",
     "output_type": "stream",
     "text": [
      "Eval samples: 10000\n",
      "Eval begin...\n",
      "The loss value printed in the log is the current batch, and the metric is the average value of previous step.\n",
      "step 10/79 - loss: 1.7521 - acc_top1: 0.4195 - acc_top5: 0.8938 - 20ms/step\n",
      "step 20/79 - loss: 1.7180 - acc_top1: 0.4102 - acc_top5: 0.8949 - 18ms/step\n",
      "step 30/79 - loss: 1.6040 - acc_top1: 0.4096 - acc_top5: 0.8922 - 18ms/step\n",
      "step 40/79 - loss: 1.6176 - acc_top1: 0.4113 - acc_top5: 0.8941 - 18ms/step\n",
      "step 50/79 - loss: 1.5593 - acc_top1: 0.4128 - acc_top5: 0.8948 - 18ms/step\n",
      "step 60/79 - loss: 1.6875 - acc_top1: 0.4129 - acc_top5: 0.8954 - 17ms/step\n",
      "step 70/79 - loss: 1.6002 - acc_top1: 0.4098 - acc_top5: 0.8944 - 17ms/step\n",
      "step 79/79 - loss: 1.6886 - acc_top1: 0.4100 - acc_top5: 0.8937 - 17ms/step\n"
     ]
    },
    {
     "name": "stderr",
     "output_type": "stream",
     "text": [
      "2022-02-02 15:39:41,183-INFO: pruned param: conv2d_10.w_0; 0.4; loss=0.0431738623103851\n",
      "2022-02-02 15:39:41,184-INFO: Save status into ./sen.pickle\n"
     ]
    },
    {
     "name": "stdout",
     "output_type": "stream",
     "text": [
      "Eval samples: 10000\n",
      "Eval begin...\n",
      "The loss value printed in the log is the current batch, and the metric is the average value of previous step.\n",
      "step 10/79 - loss: 1.7763 - acc_top1: 0.4047 - acc_top5: 0.8922 - 20ms/step\n",
      "step 20/79 - loss: 1.7194 - acc_top1: 0.3992 - acc_top5: 0.8941 - 19ms/step\n",
      "step 30/79 - loss: 1.6219 - acc_top1: 0.3979 - acc_top5: 0.8896 - 18ms/step\n",
      "step 40/79 - loss: 1.6481 - acc_top1: 0.3990 - acc_top5: 0.8928 - 18ms/step\n",
      "step 50/79 - loss: 1.5900 - acc_top1: 0.3972 - acc_top5: 0.8931 - 18ms/step\n",
      "step 60/79 - loss: 1.6496 - acc_top1: 0.3954 - acc_top5: 0.8941 - 18ms/step\n",
      "step 70/79 - loss: 1.6250 - acc_top1: 0.3927 - acc_top5: 0.8931 - 18ms/step\n",
      "step 79/79 - loss: 1.7266 - acc_top1: 0.3944 - acc_top5: 0.8923 - 17ms/step\n"
     ]
    },
    {
     "name": "stderr",
     "output_type": "stream",
     "text": [
      "2022-02-02 15:39:42,574-INFO: pruned param: conv2d_10.w_0; 0.5; loss=0.07957992998833144\n",
      "2022-02-02 15:39:42,576-INFO: Save status into ./sen.pickle\n"
     ]
    },
    {
     "name": "stdout",
     "output_type": "stream",
     "text": [
      "Eval samples: 10000\n",
      "Eval begin...\n",
      "The loss value printed in the log is the current batch, and the metric is the average value of previous step.\n",
      "step 10/79 - loss: 1.7635 - acc_top1: 0.3844 - acc_top5: 0.8758 - 20ms/step\n",
      "step 20/79 - loss: 1.7782 - acc_top1: 0.3754 - acc_top5: 0.8785 - 20ms/step\n",
      "step 30/79 - loss: 1.6948 - acc_top1: 0.3755 - acc_top5: 0.8779 - 20ms/step\n",
      "step 40/79 - loss: 1.7541 - acc_top1: 0.3756 - acc_top5: 0.8775 - 20ms/step\n",
      "step 50/79 - loss: 1.7120 - acc_top1: 0.3723 - acc_top5: 0.8780 - 20ms/step\n",
      "step 60/79 - loss: 1.7004 - acc_top1: 0.3686 - acc_top5: 0.8798 - 20ms/step\n",
      "step 70/79 - loss: 1.7331 - acc_top1: 0.3677 - acc_top5: 0.8790 - 19ms/step\n",
      "step 79/79 - loss: 1.7768 - acc_top1: 0.3673 - acc_top5: 0.8787 - 19ms/step\n"
     ]
    },
    {
     "name": "stderr",
     "output_type": "stream",
     "text": [
      "2022-02-02 15:39:44,070-INFO: pruned param: conv2d_10.w_0; 0.6; loss=0.14282380396732783\n",
      "2022-02-02 15:39:44,071-INFO: Save status into ./sen.pickle\n"
     ]
    },
    {
     "name": "stdout",
     "output_type": "stream",
     "text": [
      "Eval samples: 10000\n",
      "Eval begin...\n",
      "The loss value printed in the log is the current batch, and the metric is the average value of previous step.\n",
      "step 10/79 - loss: 2.0364 - acc_top1: 0.2727 - acc_top5: 0.8086 - 20ms/step\n",
      "step 20/79 - loss: 2.1098 - acc_top1: 0.2695 - acc_top5: 0.8082 - 18ms/step\n",
      "step 30/79 - loss: 1.9701 - acc_top1: 0.2698 - acc_top5: 0.8130 - 18ms/step\n",
      "step 40/79 - loss: 2.0405 - acc_top1: 0.2668 - acc_top5: 0.8150 - 18ms/step\n",
      "step 50/79 - loss: 1.9847 - acc_top1: 0.2630 - acc_top5: 0.8158 - 18ms/step\n",
      "step 60/79 - loss: 2.0355 - acc_top1: 0.2603 - acc_top5: 0.8132 - 18ms/step\n",
      "step 70/79 - loss: 2.1220 - acc_top1: 0.2610 - acc_top5: 0.8102 - 17ms/step\n",
      "step 79/79 - loss: 1.9525 - acc_top1: 0.2587 - acc_top5: 0.8080 - 17ms/step\n"
     ]
    },
    {
     "name": "stderr",
     "output_type": "stream",
     "text": [
      "2022-02-02 15:39:45,437-INFO: pruned param: conv2d_10.w_0; 0.7; loss=0.3962660443407235\n",
      "2022-02-02 15:39:45,439-INFO: Save status into ./sen.pickle\n"
     ]
    },
    {
     "name": "stdout",
     "output_type": "stream",
     "text": [
      "Eval samples: 10000\n",
      "Eval begin...\n",
      "The loss value printed in the log is the current batch, and the metric is the average value of previous step.\n",
      "step 10/79 - loss: 2.3283 - acc_top1: 0.1672 - acc_top5: 0.7203 - 19ms/step\n",
      "step 20/79 - loss: 2.4112 - acc_top1: 0.1578 - acc_top5: 0.7191 - 18ms/step\n",
      "step 30/79 - loss: 2.2419 - acc_top1: 0.1615 - acc_top5: 0.7281 - 18ms/step\n",
      "step 40/79 - loss: 2.2976 - acc_top1: 0.1604 - acc_top5: 0.7316 - 17ms/step\n",
      "step 50/79 - loss: 2.2561 - acc_top1: 0.1583 - acc_top5: 0.7361 - 17ms/step\n",
      "step 60/79 - loss: 2.3618 - acc_top1: 0.1561 - acc_top5: 0.7342 - 17ms/step\n",
      "step 70/79 - loss: 2.4204 - acc_top1: 0.1569 - acc_top5: 0.7324 - 17ms/step\n",
      "step 79/79 - loss: 2.2510 - acc_top1: 0.1557 - acc_top5: 0.7296 - 17ms/step\n"
     ]
    },
    {
     "name": "stderr",
     "output_type": "stream",
     "text": [
      "2022-02-02 15:39:46,784-INFO: pruned param: conv2d_10.w_0; 0.8; loss=0.6366394399066511\n",
      "2022-02-02 15:39:46,785-INFO: Save status into ./sen.pickle\n"
     ]
    },
    {
     "name": "stdout",
     "output_type": "stream",
     "text": [
      "Eval samples: 10000\n",
      "Eval begin...\n",
      "The loss value printed in the log is the current batch, and the metric is the average value of previous step.\n",
      "step 10/79 - loss: 2.6896 - acc_top1: 0.1164 - acc_top5: 0.6242 - 19ms/step\n",
      "step 20/79 - loss: 2.7022 - acc_top1: 0.1062 - acc_top5: 0.6324 - 18ms/step\n",
      "step 30/79 - loss: 2.4939 - acc_top1: 0.1081 - acc_top5: 0.6396 - 17ms/step\n",
      "step 40/79 - loss: 2.5707 - acc_top1: 0.1076 - acc_top5: 0.6398 - 17ms/step\n",
      "step 50/79 - loss: 2.5864 - acc_top1: 0.1087 - acc_top5: 0.6419 - 17ms/step\n",
      "step 60/79 - loss: 2.6305 - acc_top1: 0.1074 - acc_top5: 0.6396 - 17ms/step\n",
      "step 70/79 - loss: 2.7785 - acc_top1: 0.1089 - acc_top5: 0.6376 - 17ms/step\n",
      "step 79/79 - loss: 2.4647 - acc_top1: 0.1072 - acc_top5: 0.6353 - 17ms/step\n"
     ]
    },
    {
     "name": "stderr",
     "output_type": "stream",
     "text": [
      "2022-02-02 15:39:48,137-INFO: pruned param: conv2d_10.w_0; 0.9; loss=0.7498249708284713\n",
      "2022-02-02 15:39:48,139-INFO: Save status into ./sen.pickle\n"
     ]
    },
    {
     "name": "stdout",
     "output_type": "stream",
     "text": [
      "Eval samples: 10000\n",
      "Eval begin...\n",
      "The loss value printed in the log is the current batch, and the metric is the average value of previous step.\n",
      "step 10/79 - loss: 1.8100 - acc_top1: 0.4320 - acc_top5: 0.9000 - 20ms/step\n",
      "step 20/79 - loss: 1.7147 - acc_top1: 0.4227 - acc_top5: 0.8980 - 19ms/step\n",
      "step 30/79 - loss: 1.5604 - acc_top1: 0.4255 - acc_top5: 0.8987 - 19ms/step\n",
      "step 40/79 - loss: 1.5316 - acc_top1: 0.4287 - acc_top5: 0.9021 - 18ms/step\n",
      "step 50/79 - loss: 1.4910 - acc_top1: 0.4267 - acc_top5: 0.9012 - 18ms/step\n",
      "step 60/79 - loss: 1.6522 - acc_top1: 0.4268 - acc_top5: 0.9013 - 18ms/step\n",
      "step 70/79 - loss: 1.5396 - acc_top1: 0.4237 - acc_top5: 0.8991 - 18ms/step\n",
      "step 79/79 - loss: 1.4920 - acc_top1: 0.4236 - acc_top5: 0.8984 - 18ms/step\n"
     ]
    },
    {
     "name": "stderr",
     "output_type": "stream",
     "text": [
      "2022-02-02 15:39:49,546-INFO: pruned param: conv2d_12.w_0; 0.1; loss=0.01143523920653446\n",
      "2022-02-02 15:39:49,547-INFO: Save status into ./sen.pickle\n"
     ]
    },
    {
     "name": "stdout",
     "output_type": "stream",
     "text": [
      "Eval samples: 10000\n",
      "Eval begin...\n",
      "The loss value printed in the log is the current batch, and the metric is the average value of previous step.\n",
      "step 10/79 - loss: 1.8085 - acc_top1: 0.4211 - acc_top5: 0.8977 - 19ms/step\n",
      "step 20/79 - loss: 1.7151 - acc_top1: 0.4160 - acc_top5: 0.8969 - 18ms/step\n",
      "step 30/79 - loss: 1.5707 - acc_top1: 0.4151 - acc_top5: 0.8956 - 18ms/step\n",
      "step 40/79 - loss: 1.5844 - acc_top1: 0.4170 - acc_top5: 0.8967 - 18ms/step\n",
      "step 50/79 - loss: 1.5367 - acc_top1: 0.4150 - acc_top5: 0.8969 - 18ms/step\n",
      "step 60/79 - loss: 1.6650 - acc_top1: 0.4135 - acc_top5: 0.8964 - 18ms/step\n",
      "step 70/79 - loss: 1.5722 - acc_top1: 0.4098 - acc_top5: 0.8949 - 18ms/step\n",
      "step 79/79 - loss: 1.5185 - acc_top1: 0.4089 - acc_top5: 0.8934 - 17ms/step\n"
     ]
    },
    {
     "name": "stderr",
     "output_type": "stream",
     "text": [
      "2022-02-02 15:39:50,942-INFO: pruned param: conv2d_12.w_0; 0.2; loss=0.045740956826137706\n",
      "2022-02-02 15:39:50,944-INFO: Save status into ./sen.pickle\n"
     ]
    },
    {
     "name": "stdout",
     "output_type": "stream",
     "text": [
      "Eval samples: 10000\n",
      "Eval begin...\n",
      "The loss value printed in the log is the current batch, and the metric is the average value of previous step.\n",
      "step 10/79 - loss: 1.8353 - acc_top1: 0.3984 - acc_top5: 0.8930 - 20ms/step\n",
      "step 20/79 - loss: 1.7721 - acc_top1: 0.3902 - acc_top5: 0.8902 - 19ms/step\n",
      "step 30/79 - loss: 1.6005 - acc_top1: 0.3927 - acc_top5: 0.8906 - 18ms/step\n",
      "step 40/79 - loss: 1.6604 - acc_top1: 0.3922 - acc_top5: 0.8902 - 18ms/step\n",
      "step 50/79 - loss: 1.5948 - acc_top1: 0.3883 - acc_top5: 0.8917 - 18ms/step\n",
      "step 60/79 - loss: 1.7251 - acc_top1: 0.3839 - acc_top5: 0.8910 - 18ms/step\n",
      "step 70/79 - loss: 1.6562 - acc_top1: 0.3818 - acc_top5: 0.8894 - 18ms/step\n",
      "step 79/79 - loss: 1.5203 - acc_top1: 0.3809 - acc_top5: 0.8878 - 18ms/step\n"
     ]
    },
    {
     "name": "stderr",
     "output_type": "stream",
     "text": [
      "2022-02-02 15:39:52,341-INFO: pruned param: conv2d_12.w_0; 0.3; loss=0.1110851808634772\n",
      "2022-02-02 15:39:52,343-INFO: Save status into ./sen.pickle\n"
     ]
    },
    {
     "name": "stdout",
     "output_type": "stream",
     "text": [
      "Eval samples: 10000\n",
      "Eval begin...\n",
      "The loss value printed in the log is the current batch, and the metric is the average value of previous step.\n",
      "step 10/79 - loss: 1.9706 - acc_top1: 0.3500 - acc_top5: 0.8445 - 20ms/step\n",
      "step 20/79 - loss: 1.9580 - acc_top1: 0.3348 - acc_top5: 0.8527 - 19ms/step\n",
      "step 30/79 - loss: 1.7407 - acc_top1: 0.3362 - acc_top5: 0.8555 - 18ms/step\n",
      "step 40/79 - loss: 1.7891 - acc_top1: 0.3400 - acc_top5: 0.8561 - 18ms/step\n",
      "step 50/79 - loss: 1.7219 - acc_top1: 0.3389 - acc_top5: 0.8581 - 18ms/step\n",
      "step 60/79 - loss: 1.8830 - acc_top1: 0.3349 - acc_top5: 0.8590 - 18ms/step\n",
      "step 70/79 - loss: 1.8215 - acc_top1: 0.3335 - acc_top5: 0.8589 - 17ms/step\n",
      "step 79/79 - loss: 1.7741 - acc_top1: 0.3331 - acc_top5: 0.8586 - 17ms/step\n"
     ]
    },
    {
     "name": "stderr",
     "output_type": "stream",
     "text": [
      "2022-02-02 15:39:53,715-INFO: pruned param: conv2d_12.w_0; 0.4; loss=0.22263710618436403\n",
      "2022-02-02 15:39:53,716-INFO: Save status into ./sen.pickle\n"
     ]
    },
    {
     "name": "stdout",
     "output_type": "stream",
     "text": [
      "Eval samples: 10000\n",
      "Eval begin...\n",
      "The loss value printed in the log is the current batch, and the metric is the average value of previous step.\n",
      "step 10/79 - loss: 2.1174 - acc_top1: 0.2938 - acc_top5: 0.8039 - 19ms/step\n",
      "step 20/79 - loss: 2.1535 - acc_top1: 0.2891 - acc_top5: 0.8137 - 18ms/step\n",
      "step 30/79 - loss: 1.8658 - acc_top1: 0.2901 - acc_top5: 0.8227 - 18ms/step\n",
      "step 40/79 - loss: 1.9278 - acc_top1: 0.2943 - acc_top5: 0.8215 - 18ms/step\n",
      "step 50/79 - loss: 1.9066 - acc_top1: 0.2913 - acc_top5: 0.8233 - 18ms/step\n",
      "step 60/79 - loss: 2.0396 - acc_top1: 0.2898 - acc_top5: 0.8245 - 18ms/step\n",
      "step 70/79 - loss: 1.9997 - acc_top1: 0.2882 - acc_top5: 0.8230 - 17ms/step\n",
      "step 79/79 - loss: 2.0030 - acc_top1: 0.2887 - acc_top5: 0.8234 - 17ms/step\n"
     ]
    },
    {
     "name": "stderr",
     "output_type": "stream",
     "text": [
      "2022-02-02 15:39:55,087-INFO: pruned param: conv2d_12.w_0; 0.5; loss=0.32625437572928817\n",
      "2022-02-02 15:39:55,089-INFO: Save status into ./sen.pickle\n"
     ]
    },
    {
     "name": "stdout",
     "output_type": "stream",
     "text": [
      "Eval samples: 10000\n",
      "Eval begin...\n",
      "The loss value printed in the log is the current batch, and the metric is the average value of previous step.\n",
      "step 10/79 - loss: 2.2338 - acc_top1: 0.2484 - acc_top5: 0.7500 - 19ms/step\n",
      "step 20/79 - loss: 2.3084 - acc_top1: 0.2465 - acc_top5: 0.7652 - 18ms/step\n",
      "step 30/79 - loss: 1.9680 - acc_top1: 0.2531 - acc_top5: 0.7776 - 18ms/step\n",
      "step 40/79 - loss: 2.0574 - acc_top1: 0.2547 - acc_top5: 0.7791 - 18ms/step\n",
      "step 50/79 - loss: 2.0696 - acc_top1: 0.2542 - acc_top5: 0.7805 - 18ms/step\n",
      "step 60/79 - loss: 2.1820 - acc_top1: 0.2530 - acc_top5: 0.7820 - 18ms/step\n",
      "step 70/79 - loss: 2.1508 - acc_top1: 0.2510 - acc_top5: 0.7802 - 18ms/step\n",
      "step 79/79 - loss: 2.0162 - acc_top1: 0.2511 - acc_top5: 0.7799 - 18ms/step\n"
     ]
    },
    {
     "name": "stderr",
     "output_type": "stream",
     "text": [
      "2022-02-02 15:39:56,500-INFO: pruned param: conv2d_12.w_0; 0.6; loss=0.41400233372228706\n",
      "2022-02-02 15:39:56,501-INFO: Save status into ./sen.pickle\n"
     ]
    },
    {
     "name": "stdout",
     "output_type": "stream",
     "text": [
      "Eval samples: 10000\n",
      "Eval begin...\n",
      "The loss value printed in the log is the current batch, and the metric is the average value of previous step.\n",
      "step 10/79 - loss: 2.4897 - acc_top1: 0.1930 - acc_top5: 0.6930 - 20ms/step\n",
      "step 20/79 - loss: 2.6185 - acc_top1: 0.1906 - acc_top5: 0.7051 - 19ms/step\n",
      "step 30/79 - loss: 2.2200 - acc_top1: 0.1924 - acc_top5: 0.7214 - 18ms/step\n",
      "step 40/79 - loss: 2.3114 - acc_top1: 0.1924 - acc_top5: 0.7217 - 18ms/step\n",
      "step 50/79 - loss: 2.3251 - acc_top1: 0.1895 - acc_top5: 0.7255 - 18ms/step\n",
      "step 60/79 - loss: 2.4337 - acc_top1: 0.1902 - acc_top5: 0.7240 - 18ms/step\n",
      "step 70/79 - loss: 2.4476 - acc_top1: 0.1881 - acc_top5: 0.7202 - 18ms/step\n",
      "step 79/79 - loss: 2.2241 - acc_top1: 0.1883 - acc_top5: 0.7195 - 17ms/step\n"
     ]
    },
    {
     "name": "stderr",
     "output_type": "stream",
     "text": [
      "2022-02-02 15:39:57,884-INFO: pruned param: conv2d_12.w_0; 0.7; loss=0.5605600933488915\n",
      "2022-02-02 15:39:57,886-INFO: Save status into ./sen.pickle\n"
     ]
    },
    {
     "name": "stdout",
     "output_type": "stream",
     "text": [
      "Eval samples: 10000\n",
      "Eval begin...\n",
      "The loss value printed in the log is the current batch, and the metric is the average value of previous step.\n",
      "step 10/79 - loss: 3.0475 - acc_top1: 0.1164 - acc_top5: 0.5898 - 20ms/step\n",
      "step 20/79 - loss: 3.1009 - acc_top1: 0.1219 - acc_top5: 0.5980 - 18ms/step\n",
      "step 30/79 - loss: 2.7154 - acc_top1: 0.1258 - acc_top5: 0.6115 - 18ms/step\n",
      "step 40/79 - loss: 2.7615 - acc_top1: 0.1254 - acc_top5: 0.6141 - 18ms/step\n",
      "step 50/79 - loss: 2.7564 - acc_top1: 0.1247 - acc_top5: 0.6200 - 18ms/step\n",
      "step 60/79 - loss: 2.9417 - acc_top1: 0.1266 - acc_top5: 0.6197 - 18ms/step\n",
      "step 70/79 - loss: 2.9850 - acc_top1: 0.1250 - acc_top5: 0.6148 - 17ms/step\n",
      "step 79/79 - loss: 2.4955 - acc_top1: 0.1242 - acc_top5: 0.6132 - 17ms/step\n"
     ]
    },
    {
     "name": "stderr",
     "output_type": "stream",
     "text": [
      "2022-02-02 15:39:59,260-INFO: pruned param: conv2d_12.w_0; 0.8; loss=0.7101516919486581\n",
      "2022-02-02 15:39:59,262-INFO: Save status into ./sen.pickle\n"
     ]
    },
    {
     "name": "stdout",
     "output_type": "stream",
     "text": [
      "Eval samples: 10000\n",
      "Eval begin...\n",
      "The loss value printed in the log is the current batch, and the metric is the average value of previous step.\n",
      "step 10/79 - loss: 3.5981 - acc_top1: 0.0984 - acc_top5: 0.5430 - 20ms/step\n",
      "step 20/79 - loss: 3.5509 - acc_top1: 0.1043 - acc_top5: 0.5555 - 19ms/step\n",
      "step 30/79 - loss: 3.1420 - acc_top1: 0.1062 - acc_top5: 0.5669 - 18ms/step\n",
      "step 40/79 - loss: 3.2333 - acc_top1: 0.1018 - acc_top5: 0.5680 - 18ms/step\n",
      "step 50/79 - loss: 3.2128 - acc_top1: 0.1002 - acc_top5: 0.5747 - 18ms/step\n",
      "step 60/79 - loss: 3.4213 - acc_top1: 0.1013 - acc_top5: 0.5754 - 18ms/step\n",
      "step 70/79 - loss: 3.5269 - acc_top1: 0.0999 - acc_top5: 0.5699 - 18ms/step\n",
      "step 79/79 - loss: 2.8414 - acc_top1: 0.1000 - acc_top5: 0.5698 - 17ms/step\n"
     ]
    },
    {
     "name": "stderr",
     "output_type": "stream",
     "text": [
      "2022-02-02 15:40:00,642-INFO: pruned param: conv2d_12.w_0; 0.9; loss=0.7666277712952159\n",
      "2022-02-02 15:40:00,643-INFO: Save status into ./sen.pickle\n"
     ]
    },
    {
     "name": "stdout",
     "output_type": "stream",
     "text": [
      "Eval samples: 10000\n",
      "Eval begin...\n",
      "The loss value printed in the log is the current batch, and the metric is the average value of previous step.\n",
      "step 10/79 - loss: 1.8237 - acc_top1: 0.4266 - acc_top5: 0.8992 - 19ms/step\n",
      "step 20/79 - loss: 1.7451 - acc_top1: 0.4168 - acc_top5: 0.8961 - 18ms/step\n",
      "step 30/79 - loss: 1.5505 - acc_top1: 0.4206 - acc_top5: 0.8966 - 18ms/step\n",
      "step 40/79 - loss: 1.5368 - acc_top1: 0.4217 - acc_top5: 0.8990 - 17ms/step\n",
      "step 50/79 - loss: 1.4916 - acc_top1: 0.4216 - acc_top5: 0.8995 - 17ms/step\n",
      "step 60/79 - loss: 1.6527 - acc_top1: 0.4217 - acc_top5: 0.9000 - 17ms/step\n",
      "step 70/79 - loss: 1.5332 - acc_top1: 0.4179 - acc_top5: 0.8978 - 17ms/step\n",
      "step 79/79 - loss: 1.4698 - acc_top1: 0.4187 - acc_top5: 0.8968 - 17ms/step\n"
     ]
    },
    {
     "name": "stderr",
     "output_type": "stream",
     "text": [
      "2022-02-02 15:40:01,995-INFO: pruned param: conv2d_14.w_0; 0.1; loss=0.022870478413068787\n",
      "2022-02-02 15:40:01,997-INFO: Save status into ./sen.pickle\n"
     ]
    },
    {
     "name": "stdout",
     "output_type": "stream",
     "text": [
      "Eval samples: 10000\n",
      "Eval begin...\n",
      "The loss value printed in the log is the current batch, and the metric is the average value of previous step.\n",
      "step 10/79 - loss: 1.9265 - acc_top1: 0.4117 - acc_top5: 0.8797 - 20ms/step\n",
      "step 20/79 - loss: 1.8222 - acc_top1: 0.3922 - acc_top5: 0.8781 - 18ms/step\n",
      "step 30/79 - loss: 1.6093 - acc_top1: 0.3987 - acc_top5: 0.8799 - 18ms/step\n",
      "step 40/79 - loss: 1.6248 - acc_top1: 0.3990 - acc_top5: 0.8818 - 18ms/step\n",
      "step 50/79 - loss: 1.5812 - acc_top1: 0.3967 - acc_top5: 0.8842 - 18ms/step\n",
      "step 60/79 - loss: 1.7310 - acc_top1: 0.3930 - acc_top5: 0.8849 - 18ms/step\n",
      "step 70/79 - loss: 1.6151 - acc_top1: 0.3876 - acc_top5: 0.8836 - 17ms/step\n",
      "step 79/79 - loss: 1.5494 - acc_top1: 0.3886 - acc_top5: 0.8828 - 17ms/step\n"
     ]
    },
    {
     "name": "stderr",
     "output_type": "stream",
     "text": [
      "2022-02-02 15:40:03,364-INFO: pruned param: conv2d_14.w_0; 0.2; loss=0.09311551925320885\n",
      "2022-02-02 15:40:03,365-INFO: Save status into ./sen.pickle\n"
     ]
    },
    {
     "name": "stdout",
     "output_type": "stream",
     "text": [
      "Eval samples: 10000\n",
      "Eval begin...\n",
      "The loss value printed in the log is the current batch, and the metric is the average value of previous step.\n",
      "step 10/79 - loss: 2.0704 - acc_top1: 0.3633 - acc_top5: 0.8477 - 19ms/step\n",
      "step 20/79 - loss: 1.9279 - acc_top1: 0.3473 - acc_top5: 0.8531 - 19ms/step\n",
      "step 30/79 - loss: 1.7069 - acc_top1: 0.3466 - acc_top5: 0.8589 - 19ms/step\n",
      "step 40/79 - loss: 1.7824 - acc_top1: 0.3516 - acc_top5: 0.8602 - 20ms/step\n",
      "step 50/79 - loss: 1.7458 - acc_top1: 0.3484 - acc_top5: 0.8617 - 20ms/step\n",
      "step 60/79 - loss: 1.8575 - acc_top1: 0.3461 - acc_top5: 0.8608 - 20ms/step\n",
      "step 70/79 - loss: 1.7595 - acc_top1: 0.3442 - acc_top5: 0.8597 - 19ms/step\n",
      "step 79/79 - loss: 1.6630 - acc_top1: 0.3453 - acc_top5: 0.8584 - 19ms/step\n"
     ]
    },
    {
     "name": "stderr",
     "output_type": "stream",
     "text": [
      "2022-02-02 15:40:04,870-INFO: pruned param: conv2d_14.w_0; 0.3; loss=0.1941656942823804\n",
      "2022-02-02 15:40:04,871-INFO: Save status into ./sen.pickle\n"
     ]
    },
    {
     "name": "stdout",
     "output_type": "stream",
     "text": [
      "Eval samples: 10000\n",
      "Eval begin...\n",
      "The loss value printed in the log is the current batch, and the metric is the average value of previous step.\n",
      "step 10/79 - loss: 2.2756 - acc_top1: 0.2938 - acc_top5: 0.8031 - 19ms/step\n",
      "step 20/79 - loss: 2.1279 - acc_top1: 0.2844 - acc_top5: 0.8137 - 18ms/step\n",
      "step 30/79 - loss: 1.8771 - acc_top1: 0.2849 - acc_top5: 0.8245 - 18ms/step\n",
      "step 40/79 - loss: 1.9633 - acc_top1: 0.2877 - acc_top5: 0.8244 - 18ms/step\n",
      "step 50/79 - loss: 1.9329 - acc_top1: 0.2864 - acc_top5: 0.8270 - 17ms/step\n",
      "step 60/79 - loss: 2.0519 - acc_top1: 0.2850 - acc_top5: 0.8276 - 17ms/step\n",
      "step 70/79 - loss: 1.9726 - acc_top1: 0.2848 - acc_top5: 0.8267 - 17ms/step\n",
      "step 79/79 - loss: 1.8244 - acc_top1: 0.2853 - acc_top5: 0.8251 - 17ms/step\n"
     ]
    },
    {
     "name": "stderr",
     "output_type": "stream",
     "text": [
      "2022-02-02 15:40:06,236-INFO: pruned param: conv2d_14.w_0; 0.4; loss=0.33418903150525087\n",
      "2022-02-02 15:40:06,238-INFO: Save status into ./sen.pickle\n"
     ]
    },
    {
     "name": "stdout",
     "output_type": "stream",
     "text": [
      "Eval samples: 10000\n",
      "Eval begin...\n",
      "The loss value printed in the log is the current batch, and the metric is the average value of previous step.\n",
      "step 10/79 - loss: 2.6177 - acc_top1: 0.2055 - acc_top5: 0.7570 - 20ms/step\n",
      "step 20/79 - loss: 2.4097 - acc_top1: 0.2047 - acc_top5: 0.7617 - 18ms/step\n",
      "step 30/79 - loss: 2.1373 - acc_top1: 0.2083 - acc_top5: 0.7706 - 18ms/step\n",
      "step 40/79 - loss: 2.2299 - acc_top1: 0.2082 - acc_top5: 0.7707 - 18ms/step\n",
      "step 50/79 - loss: 2.1981 - acc_top1: 0.2056 - acc_top5: 0.7747 - 18ms/step\n",
      "step 60/79 - loss: 2.3271 - acc_top1: 0.2035 - acc_top5: 0.7745 - 18ms/step\n",
      "step 70/79 - loss: 2.2798 - acc_top1: 0.2023 - acc_top5: 0.7719 - 17ms/step\n",
      "step 79/79 - loss: 2.0200 - acc_top1: 0.2034 - acc_top5: 0.7715 - 17ms/step\n"
     ]
    },
    {
     "name": "stderr",
     "output_type": "stream",
     "text": [
      "2022-02-02 15:40:07,611-INFO: pruned param: conv2d_14.w_0; 0.5; loss=0.5253208868144691\n",
      "2022-02-02 15:40:07,613-INFO: Save status into ./sen.pickle\n"
     ]
    },
    {
     "name": "stdout",
     "output_type": "stream",
     "text": [
      "Eval samples: 10000\n",
      "Eval begin...\n",
      "The loss value printed in the log is the current batch, and the metric is the average value of previous step.\n",
      "step 10/79 - loss: 2.8978 - acc_top1: 0.1523 - acc_top5: 0.6859 - 20ms/step\n",
      "step 20/79 - loss: 2.7860 - acc_top1: 0.1508 - acc_top5: 0.6945 - 19ms/step\n",
      "step 30/79 - loss: 2.4125 - acc_top1: 0.1560 - acc_top5: 0.7070 - 19ms/step\n",
      "step 40/79 - loss: 2.5113 - acc_top1: 0.1541 - acc_top5: 0.7064 - 18ms/step\n",
      "step 50/79 - loss: 2.4588 - acc_top1: 0.1534 - acc_top5: 0.7114 - 18ms/step\n",
      "step 60/79 - loss: 2.6577 - acc_top1: 0.1527 - acc_top5: 0.7104 - 18ms/step\n",
      "step 70/79 - loss: 2.6263 - acc_top1: 0.1521 - acc_top5: 0.7087 - 18ms/step\n",
      "step 79/79 - loss: 2.3833 - acc_top1: 0.1517 - acc_top5: 0.7095 - 17ms/step\n"
     ]
    },
    {
     "name": "stderr",
     "output_type": "stream",
     "text": [
      "2022-02-02 15:40:09,010-INFO: pruned param: conv2d_14.w_0; 0.6; loss=0.6459743290548424\n",
      "2022-02-02 15:40:09,011-INFO: Save status into ./sen.pickle\n"
     ]
    },
    {
     "name": "stdout",
     "output_type": "stream",
     "text": [
      "Eval samples: 10000\n",
      "Eval begin...\n",
      "The loss value printed in the log is the current batch, and the metric is the average value of previous step.\n",
      "step 10/79 - loss: 3.2434 - acc_top1: 0.1031 - acc_top5: 0.6039 - 20ms/step\n",
      "step 20/79 - loss: 3.1315 - acc_top1: 0.1098 - acc_top5: 0.6090 - 19ms/step\n",
      "step 30/79 - loss: 2.7401 - acc_top1: 0.1133 - acc_top5: 0.6229 - 18ms/step\n",
      "step 40/79 - loss: 2.8225 - acc_top1: 0.1100 - acc_top5: 0.6232 - 18ms/step\n",
      "step 50/79 - loss: 2.7436 - acc_top1: 0.1081 - acc_top5: 0.6289 - 18ms/step\n",
      "step 60/79 - loss: 2.9762 - acc_top1: 0.1091 - acc_top5: 0.6277 - 18ms/step\n",
      "step 70/79 - loss: 3.0029 - acc_top1: 0.1077 - acc_top5: 0.6241 - 18ms/step\n",
      "step 79/79 - loss: 2.6135 - acc_top1: 0.1075 - acc_top5: 0.6245 - 18ms/step\n"
     ]
    },
    {
     "name": "stderr",
     "output_type": "stream",
     "text": [
      "2022-02-02 15:40:10,413-INFO: pruned param: conv2d_14.w_0; 0.7; loss=0.7491248541423571\n",
      "2022-02-02 15:40:10,414-INFO: Save status into ./sen.pickle\n"
     ]
    },
    {
     "name": "stdout",
     "output_type": "stream",
     "text": [
      "Eval samples: 10000\n",
      "Eval begin...\n",
      "The loss value printed in the log is the current batch, and the metric is the average value of previous step.\n",
      "step 10/79 - loss: 3.3174 - acc_top1: 0.0984 - acc_top5: 0.5469 - 20ms/step\n",
      "step 20/79 - loss: 3.2596 - acc_top1: 0.1047 - acc_top5: 0.5582 - 19ms/step\n",
      "step 30/79 - loss: 2.9150 - acc_top1: 0.1068 - acc_top5: 0.5685 - 18ms/step\n",
      "step 40/79 - loss: 2.9501 - acc_top1: 0.1020 - acc_top5: 0.5689 - 18ms/step\n",
      "step 50/79 - loss: 2.9281 - acc_top1: 0.1003 - acc_top5: 0.5744 - 18ms/step\n",
      "step 60/79 - loss: 3.1189 - acc_top1: 0.1014 - acc_top5: 0.5733 - 18ms/step\n",
      "step 70/79 - loss: 3.1516 - acc_top1: 0.1002 - acc_top5: 0.5686 - 18ms/step\n",
      "step 79/79 - loss: 2.7687 - acc_top1: 0.1001 - acc_top5: 0.5687 - 17ms/step\n"
     ]
    },
    {
     "name": "stderr",
     "output_type": "stream",
     "text": [
      "2022-02-02 15:40:11,800-INFO: pruned param: conv2d_14.w_0; 0.8; loss=0.7663943990665112\n",
      "2022-02-02 15:40:11,801-INFO: Save status into ./sen.pickle\n"
     ]
    },
    {
     "name": "stdout",
     "output_type": "stream",
     "text": [
      "Eval samples: 10000\n",
      "Eval begin...\n",
      "The loss value printed in the log is the current batch, and the metric is the average value of previous step.\n",
      "step 10/79 - loss: 3.5374 - acc_top1: 0.0984 - acc_top5: 0.4961 - 19ms/step\n",
      "step 20/79 - loss: 3.5077 - acc_top1: 0.1043 - acc_top5: 0.4941 - 18ms/step\n",
      "step 30/79 - loss: 3.1714 - acc_top1: 0.1065 - acc_top5: 0.5021 - 18ms/step\n",
      "step 40/79 - loss: 3.1956 - acc_top1: 0.1018 - acc_top5: 0.5002 - 18ms/step\n",
      "step 50/79 - loss: 3.1410 - acc_top1: 0.1000 - acc_top5: 0.5061 - 18ms/step\n",
      "step 60/79 - loss: 3.3635 - acc_top1: 0.1012 - acc_top5: 0.5057 - 18ms/step\n",
      "step 70/79 - loss: 3.4428 - acc_top1: 0.0999 - acc_top5: 0.5023 - 18ms/step\n",
      "step 79/79 - loss: 2.9158 - acc_top1: 0.1000 - acc_top5: 0.5030 - 17ms/step\n"
     ]
    },
    {
     "name": "stderr",
     "output_type": "stream",
     "text": [
      "2022-02-02 15:40:13,192-INFO: pruned param: conv2d_14.w_0; 0.9; loss=0.7666277712952159\n",
      "2022-02-02 15:40:13,194-INFO: Save status into ./sen.pickle\n"
     ]
    },
    {
     "name": "stdout",
     "output_type": "stream",
     "text": [
      "Eval samples: 10000\n",
      "Eval begin...\n",
      "The loss value printed in the log is the current batch, and the metric is the average value of previous step.\n",
      "step 10/79 - loss: 1.9089 - acc_top1: 0.4203 - acc_top5: 0.8883 - 20ms/step\n",
      "step 20/79 - loss: 1.8040 - acc_top1: 0.4090 - acc_top5: 0.8879 - 19ms/step\n",
      "step 30/79 - loss: 1.5802 - acc_top1: 0.4128 - acc_top5: 0.8898 - 18ms/step\n",
      "step 40/79 - loss: 1.5632 - acc_top1: 0.4131 - acc_top5: 0.8912 - 18ms/step\n",
      "step 50/79 - loss: 1.5452 - acc_top1: 0.4095 - acc_top5: 0.8928 - 18ms/step\n",
      "step 60/79 - loss: 1.7144 - acc_top1: 0.4082 - acc_top5: 0.8930 - 18ms/step\n",
      "step 70/79 - loss: 1.5879 - acc_top1: 0.4040 - acc_top5: 0.8911 - 18ms/step\n",
      "step 79/79 - loss: 1.5045 - acc_top1: 0.4044 - acc_top5: 0.8900 - 17ms/step\n"
     ]
    },
    {
     "name": "stderr",
     "output_type": "stream",
     "text": [
      "2022-02-02 15:40:14,574-INFO: pruned param: conv2d_16.w_0; 0.1; loss=0.056242707117853\n",
      "2022-02-02 15:40:14,575-INFO: Save status into ./sen.pickle\n"
     ]
    },
    {
     "name": "stdout",
     "output_type": "stream",
     "text": [
      "Eval samples: 10000\n",
      "Eval begin...\n",
      "The loss value printed in the log is the current batch, and the metric is the average value of previous step.\n",
      "step 10/79 - loss: 2.0945 - acc_top1: 0.3750 - acc_top5: 0.8492 - 20ms/step\n",
      "step 20/79 - loss: 1.9432 - acc_top1: 0.3582 - acc_top5: 0.8535 - 18ms/step\n",
      "step 30/79 - loss: 1.6861 - acc_top1: 0.3628 - acc_top5: 0.8589 - 18ms/step\n",
      "step 40/79 - loss: 1.6850 - acc_top1: 0.3639 - acc_top5: 0.8611 - 18ms/step\n",
      "step 50/79 - loss: 1.6845 - acc_top1: 0.3633 - acc_top5: 0.8644 - 18ms/step\n",
      "step 60/79 - loss: 1.8692 - acc_top1: 0.3603 - acc_top5: 0.8628 - 18ms/step\n",
      "step 70/79 - loss: 1.7355 - acc_top1: 0.3570 - acc_top5: 0.8613 - 18ms/step\n",
      "step 79/79 - loss: 1.5848 - acc_top1: 0.3584 - acc_top5: 0.8607 - 17ms/step\n"
     ]
    },
    {
     "name": "stderr",
     "output_type": "stream",
     "text": [
      "2022-02-02 15:40:15,961-INFO: pruned param: conv2d_16.w_0; 0.2; loss=0.16359393232205366\n",
      "2022-02-02 15:40:15,963-INFO: Save status into ./sen.pickle\n"
     ]
    },
    {
     "name": "stdout",
     "output_type": "stream",
     "text": [
      "Eval samples: 10000\n",
      "Eval begin...\n",
      "The loss value printed in the log is the current batch, and the metric is the average value of previous step.\n",
      "step 10/79 - loss: 2.3318 - acc_top1: 0.3133 - acc_top5: 0.8078 - 19ms/step\n",
      "step 20/79 - loss: 2.1432 - acc_top1: 0.3012 - acc_top5: 0.8141 - 18ms/step\n",
      "step 30/79 - loss: 1.8458 - acc_top1: 0.2974 - acc_top5: 0.8198 - 18ms/step\n",
      "step 40/79 - loss: 1.8780 - acc_top1: 0.3002 - acc_top5: 0.8215 - 18ms/step\n",
      "step 50/79 - loss: 1.8695 - acc_top1: 0.2988 - acc_top5: 0.8239 - 17ms/step\n",
      "step 60/79 - loss: 2.0696 - acc_top1: 0.2997 - acc_top5: 0.8241 - 17ms/step\n",
      "step 70/79 - loss: 1.9156 - acc_top1: 0.2974 - acc_top5: 0.8224 - 17ms/step\n",
      "step 79/79 - loss: 1.6673 - acc_top1: 0.2980 - acc_top5: 0.8214 - 17ms/step\n"
     ]
    },
    {
     "name": "stderr",
     "output_type": "stream",
     "text": [
      "2022-02-02 15:40:17,321-INFO: pruned param: conv2d_16.w_0; 0.3; loss=0.30455075845974333\n",
      "2022-02-02 15:40:17,322-INFO: Save status into ./sen.pickle\n"
     ]
    },
    {
     "name": "stdout",
     "output_type": "stream",
     "text": [
      "Eval samples: 10000\n",
      "Eval begin...\n",
      "The loss value printed in the log is the current batch, and the metric is the average value of previous step.\n",
      "step 10/79 - loss: 2.5200 - acc_top1: 0.2695 - acc_top5: 0.7664 - 19ms/step\n",
      "step 20/79 - loss: 2.3105 - acc_top1: 0.2641 - acc_top5: 0.7707 - 18ms/step\n",
      "step 30/79 - loss: 2.0024 - acc_top1: 0.2625 - acc_top5: 0.7797 - 18ms/step\n",
      "step 40/79 - loss: 2.0478 - acc_top1: 0.2643 - acc_top5: 0.7797 - 18ms/step\n",
      "step 50/79 - loss: 2.0326 - acc_top1: 0.2630 - acc_top5: 0.7837 - 18ms/step\n",
      "step 60/79 - loss: 2.2376 - acc_top1: 0.2621 - acc_top5: 0.7835 - 18ms/step\n",
      "step 70/79 - loss: 2.1187 - acc_top1: 0.2596 - acc_top5: 0.7820 - 17ms/step\n",
      "step 79/79 - loss: 1.8040 - acc_top1: 0.2596 - acc_top5: 0.7825 - 17ms/step\n"
     ]
    },
    {
     "name": "stderr",
     "output_type": "stream",
     "text": [
      "2022-02-02 15:40:18,698-INFO: pruned param: conv2d_16.w_0; 0.4; loss=0.3941656942823804\n",
      "2022-02-02 15:40:18,699-INFO: Save status into ./sen.pickle\n"
     ]
    },
    {
     "name": "stdout",
     "output_type": "stream",
     "text": [
      "Eval samples: 10000\n",
      "Eval begin...\n",
      "The loss value printed in the log is the current batch, and the metric is the average value of previous step.\n",
      "step 10/79 - loss: 2.7741 - acc_top1: 0.2039 - acc_top5: 0.6891 - 21ms/step\n",
      "step 20/79 - loss: 2.5508 - acc_top1: 0.1996 - acc_top5: 0.7000 - 19ms/step\n",
      "step 30/79 - loss: 2.2632 - acc_top1: 0.1987 - acc_top5: 0.7104 - 19ms/step\n",
      "step 40/79 - loss: 2.2982 - acc_top1: 0.1988 - acc_top5: 0.7084 - 18ms/step\n",
      "step 50/79 - loss: 2.2691 - acc_top1: 0.1980 - acc_top5: 0.7109 - 18ms/step\n",
      "step 60/79 - loss: 2.4951 - acc_top1: 0.1990 - acc_top5: 0.7111 - 18ms/step\n",
      "step 70/79 - loss: 2.4634 - acc_top1: 0.1972 - acc_top5: 0.7087 - 18ms/step\n",
      "step 79/79 - loss: 2.0355 - acc_top1: 0.1979 - acc_top5: 0.7085 - 18ms/step\n"
     ]
    },
    {
     "name": "stderr",
     "output_type": "stream",
     "text": [
      "2022-02-02 15:40:20,111-INFO: pruned param: conv2d_16.w_0; 0.5; loss=0.5381563593932323\n",
      "2022-02-02 15:40:20,113-INFO: Save status into ./sen.pickle\n"
     ]
    },
    {
     "name": "stdout",
     "output_type": "stream",
     "text": [
      "Eval samples: 10000\n",
      "Eval begin...\n",
      "The loss value printed in the log is the current batch, and the metric is the average value of previous step.\n",
      "step 10/79 - loss: 3.0188 - acc_top1: 0.1336 - acc_top5: 0.6391 - 20ms/step\n",
      "step 20/79 - loss: 2.7966 - acc_top1: 0.1395 - acc_top5: 0.6480 - 18ms/step\n",
      "step 30/79 - loss: 2.5216 - acc_top1: 0.1456 - acc_top5: 0.6604 - 18ms/step\n",
      "step 40/79 - loss: 2.5532 - acc_top1: 0.1443 - acc_top5: 0.6590 - 18ms/step\n",
      "step 50/79 - loss: 2.4885 - acc_top1: 0.1428 - acc_top5: 0.6639 - 18ms/step\n",
      "step 60/79 - loss: 2.7359 - acc_top1: 0.1432 - acc_top5: 0.6622 - 18ms/step\n",
      "step 70/79 - loss: 2.7692 - acc_top1: 0.1416 - acc_top5: 0.6600 - 18ms/step\n",
      "step 79/79 - loss: 2.2381 - acc_top1: 0.1412 - acc_top5: 0.6611 - 17ms/step\n"
     ]
    },
    {
     "name": "stderr",
     "output_type": "stream",
     "text": [
      "2022-02-02 15:40:21,505-INFO: pruned param: conv2d_16.w_0; 0.6; loss=0.6704784130688448\n",
      "2022-02-02 15:40:21,508-INFO: Save status into ./sen.pickle\n"
     ]
    },
    {
     "name": "stdout",
     "output_type": "stream",
     "text": [
      "Eval samples: 10000\n",
      "Eval begin...\n",
      "The loss value printed in the log is the current batch, and the metric is the average value of previous step.\n",
      "step 10/79 - loss: 3.2453 - acc_top1: 0.1008 - acc_top5: 0.5484 - 20ms/step\n",
      "step 20/79 - loss: 3.1236 - acc_top1: 0.1078 - acc_top5: 0.5633 - 18ms/step\n",
      "step 30/79 - loss: 2.7949 - acc_top1: 0.1102 - acc_top5: 0.5786 - 18ms/step\n",
      "step 40/79 - loss: 2.8363 - acc_top1: 0.1051 - acc_top5: 0.5799 - 18ms/step\n",
      "step 50/79 - loss: 2.7313 - acc_top1: 0.1033 - acc_top5: 0.5880 - 18ms/step\n",
      "step 60/79 - loss: 3.0391 - acc_top1: 0.1047 - acc_top5: 0.5882 - 18ms/step\n",
      "step 70/79 - loss: 3.0600 - acc_top1: 0.1037 - acc_top5: 0.5827 - 18ms/step\n",
      "step 79/79 - loss: 2.6876 - acc_top1: 0.1037 - acc_top5: 0.5825 - 18ms/step\n"
     ]
    },
    {
     "name": "stderr",
     "output_type": "stream",
     "text": [
      "2022-02-02 15:40:22,930-INFO: pruned param: conv2d_16.w_0; 0.7; loss=0.7579929988331389\n",
      "2022-02-02 15:40:22,932-INFO: Save status into ./sen.pickle\n"
     ]
    },
    {
     "name": "stdout",
     "output_type": "stream",
     "text": [
      "Eval samples: 10000\n",
      "Eval begin...\n",
      "The loss value printed in the log is the current batch, and the metric is the average value of previous step.\n",
      "step 10/79 - loss: 3.4816 - acc_top1: 0.0992 - acc_top5: 0.5031 - 19ms/step\n",
      "step 20/79 - loss: 3.3846 - acc_top1: 0.1051 - acc_top5: 0.5082 - 18ms/step\n",
      "step 30/79 - loss: 3.0683 - acc_top1: 0.1076 - acc_top5: 0.5211 - 18ms/step\n",
      "step 40/79 - loss: 3.0833 - acc_top1: 0.1023 - acc_top5: 0.5207 - 18ms/step\n",
      "step 50/79 - loss: 3.0065 - acc_top1: 0.1008 - acc_top5: 0.5258 - 18ms/step\n",
      "step 60/79 - loss: 3.3015 - acc_top1: 0.1018 - acc_top5: 0.5260 - 18ms/step\n",
      "step 70/79 - loss: 3.3451 - acc_top1: 0.1007 - acc_top5: 0.5224 - 18ms/step\n",
      "step 79/79 - loss: 2.8954 - acc_top1: 0.1008 - acc_top5: 0.5224 - 18ms/step\n"
     ]
    },
    {
     "name": "stderr",
     "output_type": "stream",
     "text": [
      "2022-02-02 15:40:24,335-INFO: pruned param: conv2d_16.w_0; 0.8; loss=0.7647607934655776\n",
      "2022-02-02 15:40:24,337-INFO: Save status into ./sen.pickle\n"
     ]
    },
    {
     "name": "stdout",
     "output_type": "stream",
     "text": [
      "Eval samples: 10000\n",
      "Eval begin...\n",
      "The loss value printed in the log is the current batch, and the metric is the average value of previous step.\n",
      "step 10/79 - loss: 3.6157 - acc_top1: 0.0977 - acc_top5: 0.4914 - 21ms/step\n",
      "step 20/79 - loss: 3.4991 - acc_top1: 0.1043 - acc_top5: 0.4902 - 21ms/step\n",
      "step 30/79 - loss: 3.2283 - acc_top1: 0.1068 - acc_top5: 0.4987 - 21ms/step\n",
      "step 40/79 - loss: 3.2299 - acc_top1: 0.1018 - acc_top5: 0.4969 - 21ms/step\n",
      "step 50/79 - loss: 3.1896 - acc_top1: 0.1002 - acc_top5: 0.5027 - 20ms/step\n",
      "step 60/79 - loss: 3.4640 - acc_top1: 0.1012 - acc_top5: 0.5021 - 20ms/step\n",
      "step 70/79 - loss: 3.5287 - acc_top1: 0.1001 - acc_top5: 0.4987 - 19ms/step\n",
      "step 79/79 - loss: 2.9893 - acc_top1: 0.1001 - acc_top5: 0.4995 - 19ms/step\n"
     ]
    },
    {
     "name": "stderr",
     "output_type": "stream",
     "text": [
      "2022-02-02 15:40:25,840-INFO: pruned param: conv2d_16.w_0; 0.9; loss=0.7663943990665112\n",
      "2022-02-02 15:40:25,842-INFO: Save status into ./sen.pickle\n"
     ]
    },
    {
     "name": "stdout",
     "output_type": "stream",
     "text": [
      "Eval samples: 10000\n",
      "Eval begin...\n",
      "The loss value printed in the log is the current batch, and the metric is the average value of previous step.\n",
      "step 10/79 - loss: 1.8724 - acc_top1: 0.4297 - acc_top5: 0.8898 - 19ms/step\n",
      "step 20/79 - loss: 1.7761 - acc_top1: 0.4168 - acc_top5: 0.8855 - 18ms/step\n",
      "step 30/79 - loss: 1.5918 - acc_top1: 0.4185 - acc_top5: 0.8872 - 18ms/step\n",
      "step 40/79 - loss: 1.5586 - acc_top1: 0.4176 - acc_top5: 0.8895 - 17ms/step\n",
      "step 50/79 - loss: 1.5302 - acc_top1: 0.4148 - acc_top5: 0.8908 - 17ms/step\n",
      "step 60/79 - loss: 1.7030 - acc_top1: 0.4137 - acc_top5: 0.8914 - 17ms/step\n",
      "step 70/79 - loss: 1.5834 - acc_top1: 0.4109 - acc_top5: 0.8904 - 17ms/step\n",
      "step 79/79 - loss: 1.5591 - acc_top1: 0.4096 - acc_top5: 0.8893 - 17ms/step\n"
     ]
    },
    {
     "name": "stderr",
     "output_type": "stream",
     "text": [
      "2022-02-02 15:40:27,210-INFO: pruned param: conv2d_18.w_0; 0.1; loss=0.044107351225204136\n",
      "2022-02-02 15:40:27,212-INFO: Save status into ./sen.pickle\n"
     ]
    },
    {
     "name": "stdout",
     "output_type": "stream",
     "text": [
      "Eval samples: 10000\n",
      "Eval begin...\n",
      "The loss value printed in the log is the current batch, and the metric is the average value of previous step.\n",
      "step 10/79 - loss: 1.9838 - acc_top1: 0.3961 - acc_top5: 0.8625 - 23ms/step\n",
      "step 20/79 - loss: 1.8774 - acc_top1: 0.3781 - acc_top5: 0.8617 - 20ms/step\n",
      "step 30/79 - loss: 1.6676 - acc_top1: 0.3820 - acc_top5: 0.8638 - 19ms/step\n",
      "step 40/79 - loss: 1.6214 - acc_top1: 0.3848 - acc_top5: 0.8660 - 19ms/step\n",
      "step 50/79 - loss: 1.6272 - acc_top1: 0.3822 - acc_top5: 0.8683 - 19ms/step\n",
      "step 60/79 - loss: 1.8181 - acc_top1: 0.3799 - acc_top5: 0.8685 - 19ms/step\n",
      "step 70/79 - loss: 1.6952 - acc_top1: 0.3760 - acc_top5: 0.8680 - 19ms/step\n",
      "step 79/79 - loss: 1.5935 - acc_top1: 0.3765 - acc_top5: 0.8667 - 18ms/step\n"
     ]
    },
    {
     "name": "stderr",
     "output_type": "stream",
     "text": [
      "2022-02-02 15:40:28,689-INFO: pruned param: conv2d_18.w_0; 0.2; loss=0.12135355892648773\n",
      "2022-02-02 15:40:28,690-INFO: Save status into ./sen.pickle\n"
     ]
    },
    {
     "name": "stdout",
     "output_type": "stream",
     "text": [
      "Eval samples: 10000\n",
      "Eval begin...\n",
      "The loss value printed in the log is the current batch, and the metric is the average value of previous step.\n",
      "step 10/79 - loss: 2.1240 - acc_top1: 0.3508 - acc_top5: 0.8266 - 27ms/step\n",
      "step 20/79 - loss: 1.9820 - acc_top1: 0.3371 - acc_top5: 0.8309 - 23ms/step\n",
      "step 30/79 - loss: 1.7782 - acc_top1: 0.3370 - acc_top5: 0.8354 - 22ms/step\n",
      "step 40/79 - loss: 1.7380 - acc_top1: 0.3393 - acc_top5: 0.8387 - 22ms/step\n",
      "step 50/79 - loss: 1.7423 - acc_top1: 0.3367 - acc_top5: 0.8405 - 22ms/step\n",
      "step 60/79 - loss: 1.9445 - acc_top1: 0.3358 - acc_top5: 0.8396 - 21ms/step\n",
      "step 70/79 - loss: 1.8234 - acc_top1: 0.3328 - acc_top5: 0.8374 - 21ms/step\n",
      "step 79/79 - loss: 1.7003 - acc_top1: 0.3335 - acc_top5: 0.8356 - 20ms/step\n"
     ]
    },
    {
     "name": "stderr",
     "output_type": "stream",
     "text": [
      "2022-02-02 15:40:30,308-INFO: pruned param: conv2d_18.w_0; 0.3; loss=0.22170361726954488\n",
      "2022-02-02 15:40:30,309-INFO: Save status into ./sen.pickle\n"
     ]
    },
    {
     "name": "stdout",
     "output_type": "stream",
     "text": [
      "Eval samples: 10000\n",
      "Eval begin...\n",
      "The loss value printed in the log is the current batch, and the metric is the average value of previous step.\n",
      "step 10/79 - loss: 2.2900 - acc_top1: 0.2820 - acc_top5: 0.7781 - 20ms/step\n",
      "step 20/79 - loss: 2.1295 - acc_top1: 0.2750 - acc_top5: 0.7840 - 19ms/step\n",
      "step 30/79 - loss: 1.9184 - acc_top1: 0.2758 - acc_top5: 0.7893 - 19ms/step\n",
      "step 40/79 - loss: 1.9056 - acc_top1: 0.2779 - acc_top5: 0.7920 - 18ms/step\n",
      "step 50/79 - loss: 1.8809 - acc_top1: 0.2770 - acc_top5: 0.7956 - 18ms/step\n",
      "step 60/79 - loss: 2.1239 - acc_top1: 0.2757 - acc_top5: 0.7939 - 18ms/step\n",
      "step 70/79 - loss: 2.0127 - acc_top1: 0.2748 - acc_top5: 0.7912 - 18ms/step\n",
      "step 79/79 - loss: 1.7860 - acc_top1: 0.2755 - acc_top5: 0.7895 - 18ms/step\n"
     ]
    },
    {
     "name": "stderr",
     "output_type": "stream",
     "text": [
      "2022-02-02 15:40:31,729-INFO: pruned param: conv2d_18.w_0; 0.4; loss=0.35705950991831964\n",
      "2022-02-02 15:40:31,731-INFO: Save status into ./sen.pickle\n"
     ]
    },
    {
     "name": "stdout",
     "output_type": "stream",
     "text": [
      "Eval samples: 10000\n",
      "Eval begin...\n",
      "The loss value printed in the log is the current batch, and the metric is the average value of previous step.\n",
      "step 10/79 - loss: 2.5976 - acc_top1: 0.2078 - acc_top5: 0.7125 - 20ms/step\n",
      "step 20/79 - loss: 2.3801 - acc_top1: 0.2051 - acc_top5: 0.7137 - 19ms/step\n",
      "step 30/79 - loss: 2.1754 - acc_top1: 0.2055 - acc_top5: 0.7201 - 19ms/step\n",
      "step 40/79 - loss: 2.1832 - acc_top1: 0.2072 - acc_top5: 0.7205 - 19ms/step\n",
      "step 50/79 - loss: 2.1353 - acc_top1: 0.2067 - acc_top5: 0.7239 - 18ms/step\n",
      "step 60/79 - loss: 2.3858 - acc_top1: 0.2066 - acc_top5: 0.7228 - 18ms/step\n",
      "step 70/79 - loss: 2.3328 - acc_top1: 0.2067 - acc_top5: 0.7196 - 18ms/step\n",
      "step 79/79 - loss: 1.9820 - acc_top1: 0.2066 - acc_top5: 0.7188 - 18ms/step\n"
     ]
    },
    {
     "name": "stderr",
     "output_type": "stream",
     "text": [
      "2022-02-02 15:40:33,154-INFO: pruned param: conv2d_18.w_0; 0.5; loss=0.5178529754959159\n",
      "2022-02-02 15:40:33,156-INFO: Save status into ./sen.pickle\n"
     ]
    },
    {
     "name": "stdout",
     "output_type": "stream",
     "text": [
      "Eval samples: 10000\n",
      "Eval begin...\n",
      "The loss value printed in the log is the current batch, and the metric is the average value of previous step.\n",
      "step 10/79 - loss: 2.7128 - acc_top1: 0.1734 - acc_top5: 0.6703 - 22ms/step\n",
      "step 20/79 - loss: 2.5254 - acc_top1: 0.1652 - acc_top5: 0.6758 - 20ms/step\n",
      "step 30/79 - loss: 2.3220 - acc_top1: 0.1711 - acc_top5: 0.6815 - 19ms/step\n",
      "step 40/79 - loss: 2.3419 - acc_top1: 0.1730 - acc_top5: 0.6797 - 18ms/step\n",
      "step 50/79 - loss: 2.2944 - acc_top1: 0.1730 - acc_top5: 0.6837 - 18ms/step\n",
      "step 60/79 - loss: 2.5238 - acc_top1: 0.1736 - acc_top5: 0.6832 - 18ms/step\n",
      "step 70/79 - loss: 2.5471 - acc_top1: 0.1725 - acc_top5: 0.6805 - 18ms/step\n",
      "step 79/79 - loss: 2.1160 - acc_top1: 0.1707 - acc_top5: 0.6808 - 18ms/step\n"
     ]
    },
    {
     "name": "stderr",
     "output_type": "stream",
     "text": [
      "2022-02-02 15:40:34,565-INFO: pruned param: conv2d_18.w_0; 0.6; loss=0.6016336056009336\n",
      "2022-02-02 15:40:34,566-INFO: Save status into ./sen.pickle\n"
     ]
    },
    {
     "name": "stdout",
     "output_type": "stream",
     "text": [
      "Eval samples: 10000\n",
      "Eval begin...\n",
      "The loss value printed in the log is the current batch, and the metric is the average value of previous step.\n",
      "step 10/79 - loss: 2.8481 - acc_top1: 0.1430 - acc_top5: 0.6500 - 20ms/step\n",
      "step 20/79 - loss: 2.6859 - acc_top1: 0.1355 - acc_top5: 0.6488 - 18ms/step\n",
      "step 30/79 - loss: 2.4671 - acc_top1: 0.1388 - acc_top5: 0.6557 - 18ms/step\n",
      "step 40/79 - loss: 2.4901 - acc_top1: 0.1357 - acc_top5: 0.6529 - 18ms/step\n",
      "step 50/79 - loss: 2.4414 - acc_top1: 0.1355 - acc_top5: 0.6587 - 18ms/step\n",
      "step 60/79 - loss: 2.6683 - acc_top1: 0.1370 - acc_top5: 0.6587 - 18ms/step\n",
      "step 70/79 - loss: 2.7204 - acc_top1: 0.1377 - acc_top5: 0.6575 - 17ms/step\n",
      "step 79/79 - loss: 2.2855 - acc_top1: 0.1363 - acc_top5: 0.6582 - 17ms/step\n"
     ]
    },
    {
     "name": "stderr",
     "output_type": "stream",
     "text": [
      "2022-02-02 15:40:35,939-INFO: pruned param: conv2d_18.w_0; 0.7; loss=0.6819136522753793\n",
      "2022-02-02 15:40:35,940-INFO: Save status into ./sen.pickle\n"
     ]
    },
    {
     "name": "stdout",
     "output_type": "stream",
     "text": [
      "Eval samples: 10000\n",
      "Eval begin...\n",
      "The loss value printed in the log is the current batch, and the metric is the average value of previous step.\n",
      "step 10/79 - loss: 3.0973 - acc_top1: 0.1016 - acc_top5: 0.5930 - 19ms/step\n",
      "step 20/79 - loss: 2.9691 - acc_top1: 0.1082 - acc_top5: 0.5938 - 18ms/step\n",
      "step 30/79 - loss: 2.7425 - acc_top1: 0.1096 - acc_top5: 0.6003 - 18ms/step\n",
      "step 40/79 - loss: 2.7501 - acc_top1: 0.1053 - acc_top5: 0.5951 - 17ms/step\n",
      "step 50/79 - loss: 2.6811 - acc_top1: 0.1034 - acc_top5: 0.6016 - 17ms/step\n",
      "step 60/79 - loss: 2.9613 - acc_top1: 0.1047 - acc_top5: 0.6021 - 17ms/step\n",
      "step 70/79 - loss: 2.9971 - acc_top1: 0.1033 - acc_top5: 0.5984 - 17ms/step\n",
      "step 79/79 - loss: 2.5773 - acc_top1: 0.1034 - acc_top5: 0.5977 - 17ms/step\n"
     ]
    },
    {
     "name": "stderr",
     "output_type": "stream",
     "text": [
      "2022-02-02 15:40:37,300-INFO: pruned param: conv2d_18.w_0; 0.8; loss=0.7586931155192532\n",
      "2022-02-02 15:40:37,302-INFO: Save status into ./sen.pickle\n"
     ]
    },
    {
     "name": "stdout",
     "output_type": "stream",
     "text": [
      "Eval samples: 10000\n",
      "Eval begin...\n",
      "The loss value printed in the log is the current batch, and the metric is the average value of previous step.\n",
      "step 10/79 - loss: 3.2729 - acc_top1: 0.1008 - acc_top5: 0.4984 - 19ms/step\n",
      "step 20/79 - loss: 3.1490 - acc_top1: 0.1062 - acc_top5: 0.4980 - 18ms/step\n",
      "step 30/79 - loss: 2.9062 - acc_top1: 0.1083 - acc_top5: 0.5062 - 18ms/step\n",
      "step 40/79 - loss: 2.9435 - acc_top1: 0.1027 - acc_top5: 0.5025 - 17ms/step\n",
      "step 50/79 - loss: 2.8450 - acc_top1: 0.1011 - acc_top5: 0.5091 - 19ms/step\n",
      "step 60/79 - loss: 3.1349 - acc_top1: 0.1023 - acc_top5: 0.5089 - 20ms/step\n",
      "step 70/79 - loss: 3.2130 - acc_top1: 0.1011 - acc_top5: 0.5060 - 20ms/step\n",
      "step 79/79 - loss: 2.6474 - acc_top1: 0.1011 - acc_top5: 0.5067 - 20ms/step\n"
     ]
    },
    {
     "name": "stderr",
     "output_type": "stream",
     "text": [
      "2022-02-02 15:40:38,883-INFO: pruned param: conv2d_18.w_0; 0.9; loss=0.7640606767794633\n",
      "2022-02-02 15:40:38,884-INFO: Save status into ./sen.pickle\n"
     ]
    },
    {
     "name": "stdout",
     "output_type": "stream",
     "text": [
      "Eval samples: 10000\n",
      "Eval begin...\n",
      "The loss value printed in the log is the current batch, and the metric is the average value of previous step.\n",
      "step 10/79 - loss: 1.8732 - acc_top1: 0.4266 - acc_top5: 0.8891 - 19ms/step\n",
      "step 20/79 - loss: 1.7590 - acc_top1: 0.4199 - acc_top5: 0.8867 - 18ms/step\n",
      "step 30/79 - loss: 1.5910 - acc_top1: 0.4195 - acc_top5: 0.8862 - 18ms/step\n",
      "step 40/79 - loss: 1.5502 - acc_top1: 0.4189 - acc_top5: 0.8898 - 18ms/step\n",
      "step 50/79 - loss: 1.5287 - acc_top1: 0.4173 - acc_top5: 0.8902 - 18ms/step\n",
      "step 60/79 - loss: 1.7169 - acc_top1: 0.4156 - acc_top5: 0.8902 - 18ms/step\n",
      "step 70/79 - loss: 1.5936 - acc_top1: 0.4119 - acc_top5: 0.8879 - 18ms/step\n",
      "step 79/79 - loss: 1.5886 - acc_top1: 0.4122 - acc_top5: 0.8869 - 17ms/step\n"
     ]
    },
    {
     "name": "stderr",
     "output_type": "stream",
     "text": [
      "2022-02-02 15:40:40,280-INFO: pruned param: conv2d_20.w_0; 0.1; loss=0.03803967327887977\n",
      "2022-02-02 15:40:40,282-INFO: Save status into ./sen.pickle\n"
     ]
    },
    {
     "name": "stdout",
     "output_type": "stream",
     "text": [
      "Eval samples: 10000\n",
      "Eval begin...\n",
      "The loss value printed in the log is the current batch, and the metric is the average value of previous step.\n",
      "step 10/79 - loss: 1.9517 - acc_top1: 0.3945 - acc_top5: 0.8797 - 20ms/step\n",
      "step 20/79 - loss: 1.8124 - acc_top1: 0.3824 - acc_top5: 0.8762 - 19ms/step\n",
      "step 30/79 - loss: 1.6659 - acc_top1: 0.3852 - acc_top5: 0.8760 - 18ms/step\n",
      "step 40/79 - loss: 1.6410 - acc_top1: 0.3875 - acc_top5: 0.8789 - 18ms/step\n",
      "step 50/79 - loss: 1.6136 - acc_top1: 0.3859 - acc_top5: 0.8803 - 18ms/step\n",
      "step 60/79 - loss: 1.7898 - acc_top1: 0.3832 - acc_top5: 0.8805 - 18ms/step\n",
      "step 70/79 - loss: 1.6900 - acc_top1: 0.3796 - acc_top5: 0.8792 - 18ms/step\n",
      "step 79/79 - loss: 1.6282 - acc_top1: 0.3789 - acc_top5: 0.8777 - 17ms/step\n"
     ]
    },
    {
     "name": "stderr",
     "output_type": "stream",
     "text": [
      "2022-02-02 15:40:41,675-INFO: pruned param: conv2d_20.w_0; 0.2; loss=0.11575262543757288\n",
      "2022-02-02 15:40:41,676-INFO: Save status into ./sen.pickle\n"
     ]
    },
    {
     "name": "stdout",
     "output_type": "stream",
     "text": [
      "Eval samples: 10000\n",
      "Eval begin...\n",
      "The loss value printed in the log is the current batch, and the metric is the average value of previous step.\n",
      "step 10/79 - loss: 2.0313 - acc_top1: 0.3383 - acc_top5: 0.8461 - 20ms/step\n",
      "step 20/79 - loss: 1.8911 - acc_top1: 0.3266 - acc_top5: 0.8445 - 18ms/step\n",
      "step 30/79 - loss: 1.7441 - acc_top1: 0.3312 - acc_top5: 0.8464 - 18ms/step\n",
      "step 40/79 - loss: 1.7386 - acc_top1: 0.3328 - acc_top5: 0.8496 - 18ms/step\n",
      "step 50/79 - loss: 1.7047 - acc_top1: 0.3339 - acc_top5: 0.8522 - 18ms/step\n",
      "step 60/79 - loss: 1.8845 - acc_top1: 0.3320 - acc_top5: 0.8526 - 18ms/step\n",
      "step 70/79 - loss: 1.8122 - acc_top1: 0.3315 - acc_top5: 0.8527 - 18ms/step\n",
      "step 79/79 - loss: 1.7735 - acc_top1: 0.3322 - acc_top5: 0.8509 - 17ms/step\n"
     ]
    },
    {
     "name": "stderr",
     "output_type": "stream",
     "text": [
      "2022-02-02 15:40:43,062-INFO: pruned param: conv2d_20.w_0; 0.3; loss=0.2247374562427071\n",
      "2022-02-02 15:40:43,063-INFO: Save status into ./sen.pickle\n"
     ]
    },
    {
     "name": "stdout",
     "output_type": "stream",
     "text": [
      "Eval samples: 10000\n",
      "Eval begin...\n",
      "The loss value printed in the log is the current batch, and the metric is the average value of previous step.\n",
      "step 10/79 - loss: 2.2077 - acc_top1: 0.2844 - acc_top5: 0.7781 - 20ms/step\n",
      "step 20/79 - loss: 2.0481 - acc_top1: 0.2758 - acc_top5: 0.7902 - 19ms/step\n",
      "step 30/79 - loss: 1.8490 - acc_top1: 0.2755 - acc_top5: 0.7979 - 18ms/step\n",
      "step 40/79 - loss: 1.8929 - acc_top1: 0.2805 - acc_top5: 0.7979 - 18ms/step\n",
      "step 50/79 - loss: 1.8586 - acc_top1: 0.2817 - acc_top5: 0.8003 - 18ms/step\n",
      "step 60/79 - loss: 2.0252 - acc_top1: 0.2801 - acc_top5: 0.7995 - 18ms/step\n",
      "step 70/79 - loss: 1.9901 - acc_top1: 0.2802 - acc_top5: 0.7987 - 18ms/step\n",
      "step 79/79 - loss: 1.8646 - acc_top1: 0.2821 - acc_top5: 0.7978 - 17ms/step\n"
     ]
    },
    {
     "name": "stderr",
     "output_type": "stream",
     "text": [
      "2022-02-02 15:40:44,457-INFO: pruned param: conv2d_20.w_0; 0.4; loss=0.34165694282380393\n",
      "2022-02-02 15:40:44,458-INFO: Save status into ./sen.pickle\n"
     ]
    },
    {
     "name": "stdout",
     "output_type": "stream",
     "text": [
      "Eval samples: 10000\n",
      "Eval begin...\n",
      "The loss value printed in the log is the current batch, and the metric is the average value of previous step.\n",
      "step 10/79 - loss: 2.3613 - acc_top1: 0.2258 - acc_top5: 0.7156 - 20ms/step\n",
      "step 20/79 - loss: 2.1954 - acc_top1: 0.2234 - acc_top5: 0.7223 - 19ms/step\n",
      "step 30/79 - loss: 2.0095 - acc_top1: 0.2247 - acc_top5: 0.7279 - 18ms/step\n",
      "step 40/79 - loss: 2.0473 - acc_top1: 0.2289 - acc_top5: 0.7307 - 18ms/step\n",
      "step 50/79 - loss: 2.0294 - acc_top1: 0.2297 - acc_top5: 0.7353 - 18ms/step\n",
      "step 60/79 - loss: 2.1950 - acc_top1: 0.2276 - acc_top5: 0.7366 - 18ms/step\n",
      "step 70/79 - loss: 2.1812 - acc_top1: 0.2276 - acc_top5: 0.7345 - 19ms/step\n",
      "step 79/79 - loss: 2.0160 - acc_top1: 0.2279 - acc_top5: 0.7325 - 19ms/step\n"
     ]
    },
    {
     "name": "stderr",
     "output_type": "stream",
     "text": [
      "2022-02-02 15:40:45,953-INFO: pruned param: conv2d_20.w_0; 0.5; loss=0.468144690781797\n",
      "2022-02-02 15:40:45,954-INFO: Save status into ./sen.pickle\n"
     ]
    },
    {
     "name": "stdout",
     "output_type": "stream",
     "text": [
      "Eval samples: 10000\n",
      "Eval begin...\n",
      "The loss value printed in the log is the current batch, and the metric is the average value of previous step.\n",
      "step 10/79 - loss: 2.5240 - acc_top1: 0.1883 - acc_top5: 0.6789 - 20ms/step\n",
      "step 20/79 - loss: 2.3636 - acc_top1: 0.1777 - acc_top5: 0.6820 - 19ms/step\n",
      "step 30/79 - loss: 2.1778 - acc_top1: 0.1789 - acc_top5: 0.6878 - 18ms/step\n",
      "step 40/79 - loss: 2.2017 - acc_top1: 0.1811 - acc_top5: 0.6881 - 18ms/step\n",
      "step 50/79 - loss: 2.1816 - acc_top1: 0.1803 - acc_top5: 0.6928 - 18ms/step\n",
      "step 60/79 - loss: 2.3576 - acc_top1: 0.1797 - acc_top5: 0.6936 - 18ms/step\n",
      "step 70/79 - loss: 2.3688 - acc_top1: 0.1798 - acc_top5: 0.6911 - 18ms/step\n",
      "step 79/79 - loss: 2.1261 - acc_top1: 0.1797 - acc_top5: 0.6905 - 18ms/step\n"
     ]
    },
    {
     "name": "stderr",
     "output_type": "stream",
     "text": [
      "2022-02-02 15:40:47,358-INFO: pruned param: conv2d_20.w_0; 0.6; loss=0.5806301050175029\n",
      "2022-02-02 15:40:47,360-INFO: Save status into ./sen.pickle\n"
     ]
    },
    {
     "name": "stdout",
     "output_type": "stream",
     "text": [
      "Eval samples: 10000\n",
      "Eval begin...\n",
      "The loss value printed in the log is the current batch, and the metric is the average value of previous step.\n",
      "step 10/79 - loss: 2.7132 - acc_top1: 0.1547 - acc_top5: 0.6484 - 20ms/step\n",
      "step 20/79 - loss: 2.5312 - acc_top1: 0.1488 - acc_top5: 0.6617 - 18ms/step\n",
      "step 30/79 - loss: 2.3302 - acc_top1: 0.1516 - acc_top5: 0.6680 - 18ms/step\n",
      "step 40/79 - loss: 2.3666 - acc_top1: 0.1508 - acc_top5: 0.6650 - 18ms/step\n",
      "step 50/79 - loss: 2.3433 - acc_top1: 0.1497 - acc_top5: 0.6705 - 18ms/step\n",
      "step 60/79 - loss: 2.5190 - acc_top1: 0.1492 - acc_top5: 0.6706 - 18ms/step\n",
      "step 70/79 - loss: 2.5685 - acc_top1: 0.1496 - acc_top5: 0.6682 - 18ms/step\n",
      "step 79/79 - loss: 2.2577 - acc_top1: 0.1490 - acc_top5: 0.6678 - 17ms/step\n"
     ]
    },
    {
     "name": "stderr",
     "output_type": "stream",
     "text": [
      "2022-02-02 15:40:48,742-INFO: pruned param: conv2d_20.w_0; 0.7; loss=0.6522753792298716\n",
      "2022-02-02 15:40:48,743-INFO: Save status into ./sen.pickle\n"
     ]
    },
    {
     "name": "stdout",
     "output_type": "stream",
     "text": [
      "Eval samples: 10000\n",
      "Eval begin...\n",
      "The loss value printed in the log is the current batch, and the metric is the average value of previous step.\n",
      "step 10/79 - loss: 3.0177 - acc_top1: 0.1047 - acc_top5: 0.5891 - 21ms/step\n",
      "step 20/79 - loss: 2.8184 - acc_top1: 0.1102 - acc_top5: 0.6012 - 19ms/step\n",
      "step 30/79 - loss: 2.6121 - acc_top1: 0.1130 - acc_top5: 0.6091 - 19ms/step\n",
      "step 40/79 - loss: 2.6482 - acc_top1: 0.1076 - acc_top5: 0.6066 - 18ms/step\n",
      "step 50/79 - loss: 2.6211 - acc_top1: 0.1066 - acc_top5: 0.6145 - 18ms/step\n",
      "step 60/79 - loss: 2.8198 - acc_top1: 0.1079 - acc_top5: 0.6141 - 18ms/step\n",
      "step 70/79 - loss: 2.8908 - acc_top1: 0.1067 - acc_top5: 0.6114 - 18ms/step\n",
      "step 79/79 - loss: 2.4635 - acc_top1: 0.1062 - acc_top5: 0.6096 - 18ms/step\n"
     ]
    },
    {
     "name": "stderr",
     "output_type": "stream",
     "text": [
      "2022-02-02 15:40:50,155-INFO: pruned param: conv2d_20.w_0; 0.8; loss=0.7521586931155192\n",
      "2022-02-02 15:40:50,157-INFO: Save status into ./sen.pickle\n"
     ]
    },
    {
     "name": "stdout",
     "output_type": "stream",
     "text": [
      "Eval samples: 10000\n",
      "Eval begin...\n",
      "The loss value printed in the log is the current batch, and the metric is the average value of previous step.\n",
      "step 10/79 - loss: 3.1983 - acc_top1: 0.1008 - acc_top5: 0.4922 - 20ms/step\n",
      "step 20/79 - loss: 3.0338 - acc_top1: 0.1070 - acc_top5: 0.5086 - 19ms/step\n",
      "step 30/79 - loss: 2.8174 - acc_top1: 0.1094 - acc_top5: 0.5224 - 18ms/step\n",
      "step 40/79 - loss: 2.8444 - acc_top1: 0.1033 - acc_top5: 0.5230 - 18ms/step\n",
      "step 50/79 - loss: 2.8329 - acc_top1: 0.1019 - acc_top5: 0.5306 - 18ms/step\n",
      "step 60/79 - loss: 3.0356 - acc_top1: 0.1034 - acc_top5: 0.5305 - 18ms/step\n",
      "step 70/79 - loss: 3.1350 - acc_top1: 0.1023 - acc_top5: 0.5268 - 18ms/step\n",
      "step 79/79 - loss: 2.6481 - acc_top1: 0.1023 - acc_top5: 0.5249 - 17ms/step\n"
     ]
    },
    {
     "name": "stderr",
     "output_type": "stream",
     "text": [
      "2022-02-02 15:40:51,539-INFO: pruned param: conv2d_20.w_0; 0.9; loss=0.7612602100350059\n",
      "2022-02-02 15:40:51,541-INFO: Save status into ./sen.pickle\n"
     ]
    },
    {
     "name": "stdout",
     "output_type": "stream",
     "text": [
      "Eval samples: 10000\n",
      "Eval begin...\n",
      "The loss value printed in the log is the current batch, and the metric is the average value of previous step.\n",
      "step 10/79 - loss: 1.7917 - acc_top1: 0.4328 - acc_top5: 0.8984 - 20ms/step\n",
      "step 20/79 - loss: 1.6853 - acc_top1: 0.4254 - acc_top5: 0.8934 - 18ms/step\n",
      "step 30/79 - loss: 1.5727 - acc_top1: 0.4266 - acc_top5: 0.8945 - 18ms/step\n",
      "step 40/79 - loss: 1.5468 - acc_top1: 0.4268 - acc_top5: 0.8984 - 18ms/step\n",
      "step 50/79 - loss: 1.4884 - acc_top1: 0.4261 - acc_top5: 0.8984 - 18ms/step\n",
      "step 60/79 - loss: 1.6385 - acc_top1: 0.4264 - acc_top5: 0.9001 - 18ms/step\n",
      "step 70/79 - loss: 1.5167 - acc_top1: 0.4233 - acc_top5: 0.8984 - 18ms/step\n",
      "step 79/79 - loss: 1.5240 - acc_top1: 0.4232 - acc_top5: 0.8979 - 17ms/step\n"
     ]
    },
    {
     "name": "stderr",
     "output_type": "stream",
     "text": [
      "2022-02-02 15:40:52,931-INFO: pruned param: conv2d_22.w_0; 0.1; loss=0.012368728121353492\n",
      "2022-02-02 15:40:52,933-INFO: Save status into ./sen.pickle\n"
     ]
    },
    {
     "name": "stdout",
     "output_type": "stream",
     "text": [
      "Eval samples: 10000\n",
      "Eval begin...\n",
      "The loss value printed in the log is the current batch, and the metric is the average value of previous step.\n",
      "step 10/79 - loss: 1.7530 - acc_top1: 0.4273 - acc_top5: 0.8969 - 20ms/step\n",
      "step 20/79 - loss: 1.6694 - acc_top1: 0.4203 - acc_top5: 0.8930 - 18ms/step\n",
      "step 30/79 - loss: 1.5858 - acc_top1: 0.4198 - acc_top5: 0.8938 - 18ms/step\n",
      "step 40/79 - loss: 1.5599 - acc_top1: 0.4232 - acc_top5: 0.8977 - 18ms/step\n",
      "step 50/79 - loss: 1.5041 - acc_top1: 0.4227 - acc_top5: 0.8975 - 18ms/step\n",
      "step 60/79 - loss: 1.6318 - acc_top1: 0.4250 - acc_top5: 0.8982 - 17ms/step\n",
      "step 70/79 - loss: 1.5227 - acc_top1: 0.4220 - acc_top5: 0.8972 - 17ms/step\n",
      "step 79/79 - loss: 1.5306 - acc_top1: 0.4219 - acc_top5: 0.8969 - 17ms/step\n"
     ]
    },
    {
     "name": "stderr",
     "output_type": "stream",
     "text": [
      "2022-02-02 15:40:54,294-INFO: pruned param: conv2d_22.w_0; 0.2; loss=0.015402567094515741\n",
      "2022-02-02 15:40:54,296-INFO: Save status into ./sen.pickle\n"
     ]
    },
    {
     "name": "stdout",
     "output_type": "stream",
     "text": [
      "Eval samples: 10000\n",
      "Eval begin...\n",
      "The loss value printed in the log is the current batch, and the metric is the average value of previous step.\n",
      "step 10/79 - loss: 1.7455 - acc_top1: 0.4273 - acc_top5: 0.9008 - 19ms/step\n",
      "step 20/79 - loss: 1.6604 - acc_top1: 0.4148 - acc_top5: 0.8926 - 18ms/step\n",
      "step 30/79 - loss: 1.5947 - acc_top1: 0.4135 - acc_top5: 0.8935 - 18ms/step\n",
      "step 40/79 - loss: 1.5748 - acc_top1: 0.4168 - acc_top5: 0.8977 - 17ms/step\n",
      "step 50/79 - loss: 1.5245 - acc_top1: 0.4173 - acc_top5: 0.8973 - 17ms/step\n",
      "step 60/79 - loss: 1.6356 - acc_top1: 0.4204 - acc_top5: 0.8987 - 17ms/step\n",
      "step 70/79 - loss: 1.5211 - acc_top1: 0.4170 - acc_top5: 0.8978 - 17ms/step\n",
      "step 79/79 - loss: 1.5079 - acc_top1: 0.4160 - acc_top5: 0.8972 - 17ms/step\n"
     ]
    },
    {
     "name": "stderr",
     "output_type": "stream",
     "text": [
      "2022-02-02 15:40:55,646-INFO: pruned param: conv2d_22.w_0; 0.3; loss=0.02917152858809804\n",
      "2022-02-02 15:40:55,648-INFO: Save status into ./sen.pickle\n"
     ]
    },
    {
     "name": "stdout",
     "output_type": "stream",
     "text": [
      "Eval samples: 10000\n",
      "Eval begin...\n",
      "The loss value printed in the log is the current batch, and the metric is the average value of previous step.\n",
      "step 10/79 - loss: 1.7217 - acc_top1: 0.4258 - acc_top5: 0.8938 - 19ms/step\n",
      "step 20/79 - loss: 1.6727 - acc_top1: 0.4125 - acc_top5: 0.8883 - 18ms/step\n",
      "step 30/79 - loss: 1.6117 - acc_top1: 0.4115 - acc_top5: 0.8883 - 18ms/step\n",
      "step 40/79 - loss: 1.5941 - acc_top1: 0.4141 - acc_top5: 0.8922 - 17ms/step\n",
      "step 50/79 - loss: 1.5361 - acc_top1: 0.4144 - acc_top5: 0.8912 - 17ms/step\n",
      "step 60/79 - loss: 1.6459 - acc_top1: 0.4154 - acc_top5: 0.8922 - 17ms/step\n",
      "step 70/79 - loss: 1.5360 - acc_top1: 0.4127 - acc_top5: 0.8913 - 17ms/step\n",
      "step 79/79 - loss: 1.5314 - acc_top1: 0.4115 - acc_top5: 0.8903 - 17ms/step\n"
     ]
    },
    {
     "name": "stderr",
     "output_type": "stream",
     "text": [
      "2022-02-02 15:40:56,999-INFO: pruned param: conv2d_22.w_0; 0.4; loss=0.03967327887981334\n",
      "2022-02-02 15:40:57,001-INFO: Save status into ./sen.pickle\n"
     ]
    },
    {
     "name": "stdout",
     "output_type": "stream",
     "text": [
      "Eval samples: 10000\n",
      "Eval begin...\n",
      "The loss value printed in the log is the current batch, and the metric is the average value of previous step.\n",
      "step 10/79 - loss: 1.7291 - acc_top1: 0.4219 - acc_top5: 0.8891 - 19ms/step\n",
      "step 20/79 - loss: 1.6966 - acc_top1: 0.4105 - acc_top5: 0.8863 - 18ms/step\n",
      "step 30/79 - loss: 1.6471 - acc_top1: 0.4062 - acc_top5: 0.8859 - 18ms/step\n",
      "step 40/79 - loss: 1.6437 - acc_top1: 0.4100 - acc_top5: 0.8893 - 18ms/step\n",
      "step 50/79 - loss: 1.5986 - acc_top1: 0.4094 - acc_top5: 0.8886 - 18ms/step\n",
      "step 60/79 - loss: 1.6751 - acc_top1: 0.4085 - acc_top5: 0.8884 - 17ms/step\n",
      "step 70/79 - loss: 1.5733 - acc_top1: 0.4048 - acc_top5: 0.8872 - 17ms/step\n",
      "step 79/79 - loss: 1.6427 - acc_top1: 0.4028 - acc_top5: 0.8866 - 17ms/step\n"
     ]
    },
    {
     "name": "stderr",
     "output_type": "stream",
     "text": [
      "2022-02-02 15:40:58,376-INFO: pruned param: conv2d_22.w_0; 0.5; loss=0.05997666277712953\n",
      "2022-02-02 15:40:58,377-INFO: Save status into ./sen.pickle\n"
     ]
    },
    {
     "name": "stdout",
     "output_type": "stream",
     "text": [
      "Eval samples: 10000\n",
      "Eval begin...\n",
      "The loss value printed in the log is the current batch, and the metric is the average value of previous step.\n",
      "step 10/79 - loss: 1.7860 - acc_top1: 0.3992 - acc_top5: 0.8789 - 19ms/step\n",
      "step 20/79 - loss: 1.7875 - acc_top1: 0.3953 - acc_top5: 0.8773 - 18ms/step\n",
      "step 30/79 - loss: 1.7279 - acc_top1: 0.3911 - acc_top5: 0.8779 - 18ms/step\n",
      "step 40/79 - loss: 1.7249 - acc_top1: 0.3963 - acc_top5: 0.8816 - 17ms/step\n",
      "step 50/79 - loss: 1.6948 - acc_top1: 0.3945 - acc_top5: 0.8811 - 17ms/step\n",
      "step 60/79 - loss: 1.7472 - acc_top1: 0.3949 - acc_top5: 0.8812 - 17ms/step\n",
      "step 70/79 - loss: 1.6269 - acc_top1: 0.3912 - acc_top5: 0.8810 - 17ms/step\n",
      "step 79/79 - loss: 1.7277 - acc_top1: 0.3898 - acc_top5: 0.8803 - 17ms/step\n"
     ]
    },
    {
     "name": "stderr",
     "output_type": "stream",
     "text": [
      "2022-02-02 15:40:59,744-INFO: pruned param: conv2d_22.w_0; 0.6; loss=0.09031505250875149\n",
      "2022-02-02 15:40:59,745-INFO: Save status into ./sen.pickle\n"
     ]
    },
    {
     "name": "stdout",
     "output_type": "stream",
     "text": [
      "Eval samples: 10000\n",
      "Eval begin...\n",
      "The loss value printed in the log is the current batch, and the metric is the average value of previous step.\n",
      "step 10/79 - loss: 1.8894 - acc_top1: 0.3336 - acc_top5: 0.8508 - 19ms/step\n",
      "step 20/79 - loss: 1.9210 - acc_top1: 0.3340 - acc_top5: 0.8531 - 18ms/step\n",
      "step 30/79 - loss: 1.8611 - acc_top1: 0.3354 - acc_top5: 0.8529 - 18ms/step\n",
      "step 40/79 - loss: 1.8841 - acc_top1: 0.3406 - acc_top5: 0.8533 - 18ms/step\n",
      "step 50/79 - loss: 1.8420 - acc_top1: 0.3373 - acc_top5: 0.8522 - 17ms/step\n",
      "step 60/79 - loss: 1.8537 - acc_top1: 0.3405 - acc_top5: 0.8514 - 17ms/step\n",
      "step 70/79 - loss: 1.7726 - acc_top1: 0.3381 - acc_top5: 0.8521 - 17ms/step\n",
      "step 79/79 - loss: 1.9432 - acc_top1: 0.3384 - acc_top5: 0.8521 - 17ms/step\n"
     ]
    },
    {
     "name": "stderr",
     "output_type": "stream",
     "text": [
      "2022-02-02 15:41:01,106-INFO: pruned param: conv2d_22.w_0; 0.7; loss=0.21026837806301055\n",
      "2022-02-02 15:41:01,109-INFO: Save status into ./sen.pickle\n"
     ]
    },
    {
     "name": "stdout",
     "output_type": "stream",
     "text": [
      "Eval samples: 10000\n",
      "Eval begin...\n",
      "The loss value printed in the log is the current batch, and the metric is the average value of previous step.\n",
      "step 10/79 - loss: 2.0371 - acc_top1: 0.2570 - acc_top5: 0.8172 - 20ms/step\n",
      "step 20/79 - loss: 2.0888 - acc_top1: 0.2605 - acc_top5: 0.8160 - 19ms/step\n",
      "step 30/79 - loss: 2.0470 - acc_top1: 0.2646 - acc_top5: 0.8146 - 18ms/step\n",
      "step 40/79 - loss: 2.0678 - acc_top1: 0.2652 - acc_top5: 0.8098 - 18ms/step\n",
      "step 50/79 - loss: 2.0428 - acc_top1: 0.2630 - acc_top5: 0.8072 - 18ms/step\n",
      "step 60/79 - loss: 2.0149 - acc_top1: 0.2647 - acc_top5: 0.8079 - 18ms/step\n",
      "step 70/79 - loss: 1.9513 - acc_top1: 0.2622 - acc_top5: 0.8081 - 18ms/step\n",
      "step 79/79 - loss: 2.1737 - acc_top1: 0.2623 - acc_top5: 0.8065 - 17ms/step\n"
     ]
    },
    {
     "name": "stderr",
     "output_type": "stream",
     "text": [
      "2022-02-02 15:41:02,497-INFO: pruned param: conv2d_22.w_0; 0.8; loss=0.3878646441073513\n",
      "2022-02-02 15:41:02,498-INFO: Save status into ./sen.pickle\n"
     ]
    },
    {
     "name": "stdout",
     "output_type": "stream",
     "text": [
      "Eval samples: 10000\n",
      "Eval begin...\n",
      "The loss value printed in the log is the current batch, and the metric is the average value of previous step.\n",
      "step 10/79 - loss: 2.2080 - acc_top1: 0.1656 - acc_top5: 0.6375 - 20ms/step\n",
      "step 20/79 - loss: 2.2682 - acc_top1: 0.1586 - acc_top5: 0.6457 - 18ms/step\n",
      "step 30/79 - loss: 2.2860 - acc_top1: 0.1622 - acc_top5: 0.6453 - 18ms/step\n",
      "step 40/79 - loss: 2.2601 - acc_top1: 0.1617 - acc_top5: 0.6393 - 17ms/step\n",
      "step 50/79 - loss: 2.3037 - acc_top1: 0.1633 - acc_top5: 0.6333 - 17ms/step\n",
      "step 60/79 - loss: 2.2000 - acc_top1: 0.1635 - acc_top5: 0.6335 - 17ms/step\n",
      "step 70/79 - loss: 2.2052 - acc_top1: 0.1629 - acc_top5: 0.6330 - 17ms/step\n",
      "step 79/79 - loss: 2.3364 - acc_top1: 0.1637 - acc_top5: 0.6311 - 17ms/step\n"
     ]
    },
    {
     "name": "stderr",
     "output_type": "stream",
     "text": [
      "2022-02-02 15:41:03,861-INFO: pruned param: conv2d_22.w_0; 0.9; loss=0.6179696616102683\n",
      "2022-02-02 15:41:03,863-INFO: Save status into ./sen.pickle\n"
     ]
    },
    {
     "name": "stdout",
     "output_type": "stream",
     "text": [
      "Eval samples: 10000\n",
      "Eval begin...\n",
      "The loss value printed in the log is the current batch, and the metric is the average value of previous step.\n",
      "step 10/79 - loss: 1.8146 - acc_top1: 0.4336 - acc_top5: 0.8977 - 20ms/step\n",
      "step 20/79 - loss: 1.7044 - acc_top1: 0.4297 - acc_top5: 0.8949 - 18ms/step\n",
      "step 30/79 - loss: 1.5569 - acc_top1: 0.4315 - acc_top5: 0.8964 - 18ms/step\n",
      "step 40/79 - loss: 1.5329 - acc_top1: 0.4328 - acc_top5: 0.9014 - 18ms/step\n",
      "step 50/79 - loss: 1.4856 - acc_top1: 0.4316 - acc_top5: 0.9005 - 18ms/step\n",
      "step 60/79 - loss: 1.6382 - acc_top1: 0.4320 - acc_top5: 0.9017 - 17ms/step\n",
      "step 70/79 - loss: 1.5243 - acc_top1: 0.4288 - acc_top5: 0.8996 - 17ms/step\n",
      "step 79/79 - loss: 1.5047 - acc_top1: 0.4282 - acc_top5: 0.8990 - 17ms/step\n"
     ]
    },
    {
     "name": "stderr",
     "output_type": "stream",
     "text": [
      "2022-02-02 15:41:05,237-INFO: pruned param: conv2d_24.w_0; 0.1; loss=0.0007001166861142753\n",
      "2022-02-02 15:41:05,243-INFO: Save status into ./sen.pickle\n"
     ]
    },
    {
     "name": "stdout",
     "output_type": "stream",
     "text": [
      "Eval samples: 10000\n",
      "Eval begin...\n",
      "The loss value printed in the log is the current batch, and the metric is the average value of previous step.\n",
      "step 10/79 - loss: 1.8016 - acc_top1: 0.4367 - acc_top5: 0.8992 - 19ms/step\n",
      "step 20/79 - loss: 1.6920 - acc_top1: 0.4297 - acc_top5: 0.8938 - 18ms/step\n",
      "step 30/79 - loss: 1.5507 - acc_top1: 0.4315 - acc_top5: 0.8945 - 18ms/step\n",
      "step 40/79 - loss: 1.5356 - acc_top1: 0.4316 - acc_top5: 0.9002 - 18ms/step\n",
      "step 50/79 - loss: 1.4873 - acc_top1: 0.4306 - acc_top5: 0.9002 - 18ms/step\n",
      "step 60/79 - loss: 1.6342 - acc_top1: 0.4310 - acc_top5: 0.9012 - 18ms/step\n",
      "step 70/79 - loss: 1.5181 - acc_top1: 0.4270 - acc_top5: 0.8996 - 19ms/step\n",
      "step 79/79 - loss: 1.4896 - acc_top1: 0.4260 - acc_top5: 0.8989 - 19ms/step\n"
     ]
    },
    {
     "name": "stderr",
     "output_type": "stream",
     "text": [
      "2022-02-02 15:41:06,760-INFO: pruned param: conv2d_24.w_0; 0.2; loss=0.005834305717619608\n",
      "2022-02-02 15:41:06,762-INFO: Save status into ./sen.pickle\n"
     ]
    },
    {
     "name": "stdout",
     "output_type": "stream",
     "text": [
      "Eval samples: 10000\n",
      "Eval begin...\n",
      "The loss value printed in the log is the current batch, and the metric is the average value of previous step.\n",
      "step 10/79 - loss: 1.7640 - acc_top1: 0.4445 - acc_top5: 0.9008 - 19ms/step\n",
      "step 20/79 - loss: 1.6717 - acc_top1: 0.4367 - acc_top5: 0.8949 - 18ms/step\n",
      "step 30/79 - loss: 1.5429 - acc_top1: 0.4396 - acc_top5: 0.8958 - 18ms/step\n",
      "step 40/79 - loss: 1.5398 - acc_top1: 0.4408 - acc_top5: 0.9006 - 18ms/step\n",
      "step 50/79 - loss: 1.4820 - acc_top1: 0.4395 - acc_top5: 0.9008 - 18ms/step\n",
      "step 60/79 - loss: 1.6296 - acc_top1: 0.4393 - acc_top5: 0.9016 - 17ms/step\n",
      "step 70/79 - loss: 1.5052 - acc_top1: 0.4344 - acc_top5: 0.9003 - 17ms/step\n",
      "step 79/79 - loss: 1.5210 - acc_top1: 0.4339 - acc_top5: 0.8998 - 17ms/step\n"
     ]
    },
    {
     "name": "stderr",
     "output_type": "stream",
     "text": [
      "2022-02-02 15:41:08,146-INFO: pruned param: conv2d_24.w_0; 0.3; loss=-0.01260210035005838\n",
      "2022-02-02 15:41:08,148-INFO: Save status into ./sen.pickle\n"
     ]
    },
    {
     "name": "stdout",
     "output_type": "stream",
     "text": [
      "Eval samples: 10000\n",
      "Eval begin...\n",
      "The loss value printed in the log is the current batch, and the metric is the average value of previous step.\n",
      "step 10/79 - loss: 1.7356 - acc_top1: 0.4430 - acc_top5: 0.8961 - 20ms/step\n",
      "step 20/79 - loss: 1.6693 - acc_top1: 0.4359 - acc_top5: 0.8906 - 19ms/step\n",
      "step 30/79 - loss: 1.5570 - acc_top1: 0.4357 - acc_top5: 0.8932 - 18ms/step\n",
      "step 40/79 - loss: 1.5692 - acc_top1: 0.4398 - acc_top5: 0.8975 - 18ms/step\n",
      "step 50/79 - loss: 1.4951 - acc_top1: 0.4391 - acc_top5: 0.8984 - 18ms/step\n",
      "step 60/79 - loss: 1.6359 - acc_top1: 0.4380 - acc_top5: 0.8992 - 18ms/step\n",
      "step 70/79 - loss: 1.5046 - acc_top1: 0.4346 - acc_top5: 0.8978 - 18ms/step\n",
      "step 79/79 - loss: 1.5701 - acc_top1: 0.4333 - acc_top5: 0.8970 - 18ms/step\n"
     ]
    },
    {
     "name": "stderr",
     "output_type": "stream",
     "text": [
      "2022-02-02 15:41:09,571-INFO: pruned param: conv2d_24.w_0; 0.4; loss=-0.0112018669778297\n",
      "2022-02-02 15:41:09,572-INFO: Save status into ./sen.pickle\n"
     ]
    },
    {
     "name": "stdout",
     "output_type": "stream",
     "text": [
      "Eval samples: 10000\n",
      "Eval begin...\n",
      "The loss value printed in the log is the current batch, and the metric is the average value of previous step.\n",
      "step 10/79 - loss: 1.7226 - acc_top1: 0.4406 - acc_top5: 0.8922 - 20ms/step\n",
      "step 20/79 - loss: 1.6800 - acc_top1: 0.4297 - acc_top5: 0.8859 - 19ms/step\n",
      "step 30/79 - loss: 1.5706 - acc_top1: 0.4318 - acc_top5: 0.8906 - 18ms/step\n",
      "step 40/79 - loss: 1.5897 - acc_top1: 0.4334 - acc_top5: 0.8945 - 18ms/step\n",
      "step 50/79 - loss: 1.5190 - acc_top1: 0.4338 - acc_top5: 0.8958 - 18ms/step\n",
      "step 60/79 - loss: 1.6515 - acc_top1: 0.4345 - acc_top5: 0.8966 - 18ms/step\n",
      "step 70/79 - loss: 1.5279 - acc_top1: 0.4307 - acc_top5: 0.8958 - 18ms/step\n",
      "step 79/79 - loss: 1.5875 - acc_top1: 0.4301 - acc_top5: 0.8949 - 17ms/step\n"
     ]
    },
    {
     "name": "stderr",
     "output_type": "stream",
     "text": [
      "2022-02-02 15:41:10,968-INFO: pruned param: conv2d_24.w_0; 0.5; loss=-0.0037339556592765237\n",
      "2022-02-02 15:41:10,970-INFO: Save status into ./sen.pickle\n"
     ]
    },
    {
     "name": "stdout",
     "output_type": "stream",
     "text": [
      "Eval samples: 10000\n",
      "Eval begin...\n",
      "The loss value printed in the log is the current batch, and the metric is the average value of previous step.\n",
      "step 10/79 - loss: 1.7109 - acc_top1: 0.4352 - acc_top5: 0.8922 - 20ms/step\n",
      "step 20/79 - loss: 1.6862 - acc_top1: 0.4289 - acc_top5: 0.8879 - 19ms/step\n",
      "step 30/79 - loss: 1.6023 - acc_top1: 0.4294 - acc_top5: 0.8906 - 18ms/step\n",
      "step 40/79 - loss: 1.6208 - acc_top1: 0.4299 - acc_top5: 0.8934 - 18ms/step\n",
      "step 50/79 - loss: 1.5508 - acc_top1: 0.4298 - acc_top5: 0.8941 - 18ms/step\n",
      "step 60/79 - loss: 1.6658 - acc_top1: 0.4305 - acc_top5: 0.8949 - 18ms/step\n",
      "step 70/79 - loss: 1.5581 - acc_top1: 0.4280 - acc_top5: 0.8940 - 18ms/step\n",
      "step 79/79 - loss: 1.6371 - acc_top1: 0.4268 - acc_top5: 0.8939 - 17ms/step\n"
     ]
    },
    {
     "name": "stderr",
     "output_type": "stream",
     "text": [
      "2022-02-02 15:41:12,373-INFO: pruned param: conv2d_24.w_0; 0.6; loss=0.003967327887981282\n",
      "2022-02-02 15:41:12,375-INFO: Save status into ./sen.pickle\n"
     ]
    },
    {
     "name": "stdout",
     "output_type": "stream",
     "text": [
      "Eval samples: 10000\n",
      "Eval begin...\n",
      "The loss value printed in the log is the current batch, and the metric is the average value of previous step.\n",
      "step 10/79 - loss: 1.7679 - acc_top1: 0.4219 - acc_top5: 0.8953 - 20ms/step\n",
      "step 20/79 - loss: 1.7634 - acc_top1: 0.4094 - acc_top5: 0.8910 - 19ms/step\n",
      "step 30/79 - loss: 1.6737 - acc_top1: 0.4091 - acc_top5: 0.8924 - 18ms/step\n",
      "step 40/79 - loss: 1.7073 - acc_top1: 0.4117 - acc_top5: 0.8928 - 18ms/step\n",
      "step 50/79 - loss: 1.6396 - acc_top1: 0.4127 - acc_top5: 0.8936 - 18ms/step\n",
      "step 60/79 - loss: 1.7059 - acc_top1: 0.4130 - acc_top5: 0.8949 - 18ms/step\n",
      "step 70/79 - loss: 1.6411 - acc_top1: 0.4103 - acc_top5: 0.8932 - 18ms/step\n",
      "step 79/79 - loss: 1.7260 - acc_top1: 0.4094 - acc_top5: 0.8930 - 18ms/step\n"
     ]
    },
    {
     "name": "stderr",
     "output_type": "stream",
     "text": [
      "2022-02-02 15:41:13,808-INFO: pruned param: conv2d_24.w_0; 0.7; loss=0.044574095682613786\n",
      "2022-02-02 15:41:13,810-INFO: Save status into ./sen.pickle\n"
     ]
    },
    {
     "name": "stdout",
     "output_type": "stream",
     "text": [
      "Eval samples: 10000\n",
      "Eval begin...\n",
      "The loss value printed in the log is the current batch, and the metric is the average value of previous step.\n",
      "step 10/79 - loss: 1.8469 - acc_top1: 0.3789 - acc_top5: 0.8688 - 20ms/step\n",
      "step 20/79 - loss: 1.8269 - acc_top1: 0.3734 - acc_top5: 0.8703 - 18ms/step\n",
      "step 30/79 - loss: 1.7837 - acc_top1: 0.3745 - acc_top5: 0.8674 - 18ms/step\n",
      "step 40/79 - loss: 1.8236 - acc_top1: 0.3775 - acc_top5: 0.8695 - 18ms/step\n",
      "step 50/79 - loss: 1.7583 - acc_top1: 0.3745 - acc_top5: 0.8716 - 17ms/step\n",
      "step 60/79 - loss: 1.8010 - acc_top1: 0.3734 - acc_top5: 0.8685 - 17ms/step\n",
      "step 70/79 - loss: 1.7486 - acc_top1: 0.3714 - acc_top5: 0.8691 - 17ms/step\n",
      "step 79/79 - loss: 1.8444 - acc_top1: 0.3706 - acc_top5: 0.8685 - 17ms/step\n"
     ]
    },
    {
     "name": "stderr",
     "output_type": "stream",
     "text": [
      "2022-02-02 15:41:15,179-INFO: pruned param: conv2d_24.w_0; 0.8; loss=0.13512252042007003\n",
      "2022-02-02 15:41:15,180-INFO: Save status into ./sen.pickle\n"
     ]
    },
    {
     "name": "stdout",
     "output_type": "stream",
     "text": [
      "Eval samples: 10000\n",
      "Eval begin...\n",
      "The loss value printed in the log is the current batch, and the metric is the average value of previous step.\n",
      "step 10/79 - loss: 1.9952 - acc_top1: 0.3227 - acc_top5: 0.8273 - 19ms/step\n",
      "step 20/79 - loss: 1.9854 - acc_top1: 0.3180 - acc_top5: 0.8273 - 18ms/step\n",
      "step 30/79 - loss: 1.9582 - acc_top1: 0.3203 - acc_top5: 0.8229 - 18ms/step\n",
      "step 40/79 - loss: 1.9981 - acc_top1: 0.3223 - acc_top5: 0.8225 - 17ms/step\n",
      "step 50/79 - loss: 1.9468 - acc_top1: 0.3184 - acc_top5: 0.8245 - 17ms/step\n",
      "step 60/79 - loss: 1.9731 - acc_top1: 0.3181 - acc_top5: 0.8216 - 17ms/step\n",
      "step 70/79 - loss: 1.9409 - acc_top1: 0.3180 - acc_top5: 0.8206 - 17ms/step\n",
      "step 79/79 - loss: 2.0488 - acc_top1: 0.3181 - acc_top5: 0.8199 - 17ms/step\n"
     ]
    },
    {
     "name": "stderr",
     "output_type": "stream",
     "text": [
      "2022-02-02 15:41:16,541-INFO: pruned param: conv2d_24.w_0; 0.9; loss=0.2576429404900817\n",
      "2022-02-02 15:41:16,543-INFO: Save status into ./sen.pickle\n"
     ]
    },
    {
     "name": "stdout",
     "output_type": "stream",
     "text": [
      "Eval samples: 10000\n",
      "Eval begin...\n",
      "The loss value printed in the log is the current batch, and the metric is the average value of previous step.\n",
      "step 10/79 - loss: 1.8016 - acc_top1: 0.4320 - acc_top5: 0.8992 - 19ms/step\n",
      "step 20/79 - loss: 1.6884 - acc_top1: 0.4293 - acc_top5: 0.8945 - 18ms/step\n",
      "step 30/79 - loss: 1.5554 - acc_top1: 0.4323 - acc_top5: 0.8956 - 18ms/step\n",
      "step 40/79 - loss: 1.5302 - acc_top1: 0.4350 - acc_top5: 0.9012 - 18ms/step\n",
      "step 50/79 - loss: 1.4835 - acc_top1: 0.4344 - acc_top5: 0.9009 - 18ms/step\n",
      "step 60/79 - loss: 1.6381 - acc_top1: 0.4342 - acc_top5: 0.9018 - 19ms/step\n",
      "step 70/79 - loss: 1.5169 - acc_top1: 0.4307 - acc_top5: 0.8999 - 19ms/step\n",
      "step 79/79 - loss: 1.4970 - acc_top1: 0.4292 - acc_top5: 0.8997 - 18ms/step\n"
     ]
    },
    {
     "name": "stderr",
     "output_type": "stream",
     "text": [
      "2022-02-02 15:41:18,020-INFO: pruned param: conv2d_26.w_0; 0.1; loss=-0.001633605600933568\n",
      "2022-02-02 15:41:18,021-INFO: Save status into ./sen.pickle\n"
     ]
    },
    {
     "name": "stdout",
     "output_type": "stream",
     "text": [
      "Eval samples: 10000\n",
      "Eval begin...\n",
      "The loss value printed in the log is the current batch, and the metric is the average value of previous step.\n",
      "step 10/79 - loss: 1.8054 - acc_top1: 0.4313 - acc_top5: 0.9000 - 20ms/step\n",
      "step 20/79 - loss: 1.6947 - acc_top1: 0.4285 - acc_top5: 0.8953 - 18ms/step\n",
      "step 30/79 - loss: 1.5659 - acc_top1: 0.4320 - acc_top5: 0.8956 - 18ms/step\n",
      "step 40/79 - loss: 1.5417 - acc_top1: 0.4334 - acc_top5: 0.9016 - 18ms/step\n",
      "step 50/79 - loss: 1.5087 - acc_top1: 0.4325 - acc_top5: 0.9002 - 19ms/step\n",
      "step 60/79 - loss: 1.6385 - acc_top1: 0.4323 - acc_top5: 0.9005 - 19ms/step\n",
      "step 70/79 - loss: 1.5319 - acc_top1: 0.4285 - acc_top5: 0.8985 - 19ms/step\n",
      "step 79/79 - loss: 1.5022 - acc_top1: 0.4279 - acc_top5: 0.8984 - 18ms/step\n"
     ]
    },
    {
     "name": "stderr",
     "output_type": "stream",
     "text": [
      "2022-02-02 15:41:19,489-INFO: pruned param: conv2d_26.w_0; 0.2; loss=0.0014002333722286802\n",
      "2022-02-02 15:41:19,490-INFO: Save status into ./sen.pickle\n"
     ]
    },
    {
     "name": "stdout",
     "output_type": "stream",
     "text": [
      "Eval samples: 10000\n",
      "Eval begin...\n",
      "The loss value printed in the log is the current batch, and the metric is the average value of previous step.\n",
      "step 10/79 - loss: 1.8434 - acc_top1: 0.4320 - acc_top5: 0.8992 - 20ms/step\n",
      "step 20/79 - loss: 1.7114 - acc_top1: 0.4293 - acc_top5: 0.8969 - 19ms/step\n",
      "step 30/79 - loss: 1.5983 - acc_top1: 0.4305 - acc_top5: 0.8966 - 18ms/step\n",
      "step 40/79 - loss: 1.5822 - acc_top1: 0.4297 - acc_top5: 0.9021 - 18ms/step\n",
      "step 50/79 - loss: 1.5543 - acc_top1: 0.4289 - acc_top5: 0.9017 - 18ms/step\n",
      "step 60/79 - loss: 1.6625 - acc_top1: 0.4285 - acc_top5: 0.9017 - 18ms/step\n",
      "step 70/79 - loss: 1.5673 - acc_top1: 0.4258 - acc_top5: 0.9003 - 17ms/step\n",
      "step 79/79 - loss: 1.5537 - acc_top1: 0.4254 - acc_top5: 0.9002 - 17ms/step\n"
     ]
    },
    {
     "name": "stderr",
     "output_type": "stream",
     "text": [
      "2022-02-02 15:41:20,879-INFO: pruned param: conv2d_26.w_0; 0.3; loss=0.007234539089848288\n",
      "2022-02-02 15:41:20,881-INFO: Save status into ./sen.pickle\n"
     ]
    },
    {
     "name": "stdout",
     "output_type": "stream",
     "text": [
      "Eval samples: 10000\n",
      "Eval begin...\n",
      "The loss value printed in the log is the current batch, and the metric is the average value of previous step.\n",
      "step 10/79 - loss: 1.8643 - acc_top1: 0.4273 - acc_top5: 0.9000 - 20ms/step\n",
      "step 20/79 - loss: 1.7654 - acc_top1: 0.4266 - acc_top5: 0.8953 - 18ms/step\n",
      "step 30/79 - loss: 1.6577 - acc_top1: 0.4271 - acc_top5: 0.8964 - 18ms/step\n",
      "step 40/79 - loss: 1.6492 - acc_top1: 0.4289 - acc_top5: 0.9023 - 18ms/step\n",
      "step 50/79 - loss: 1.6233 - acc_top1: 0.4284 - acc_top5: 0.9016 - 17ms/step\n",
      "step 60/79 - loss: 1.7249 - acc_top1: 0.4277 - acc_top5: 0.9013 - 17ms/step\n",
      "step 70/79 - loss: 1.6299 - acc_top1: 0.4250 - acc_top5: 0.9000 - 17ms/step\n",
      "step 79/79 - loss: 1.6490 - acc_top1: 0.4249 - acc_top5: 0.8998 - 17ms/step\n"
     ]
    },
    {
     "name": "stderr",
     "output_type": "stream",
     "text": [
      "2022-02-02 15:41:22,250-INFO: pruned param: conv2d_26.w_0; 0.4; loss=0.00840140023337221\n",
      "2022-02-02 15:41:22,252-INFO: Save status into ./sen.pickle\n"
     ]
    },
    {
     "name": "stdout",
     "output_type": "stream",
     "text": [
      "Eval samples: 10000\n",
      "Eval begin...\n",
      "The loss value printed in the log is the current batch, and the metric is the average value of previous step.\n",
      "step 10/79 - loss: 1.9906 - acc_top1: 0.4250 - acc_top5: 0.8992 - 20ms/step\n",
      "step 20/79 - loss: 1.9431 - acc_top1: 0.4242 - acc_top5: 0.8953 - 18ms/step\n",
      "step 30/79 - loss: 1.8323 - acc_top1: 0.4237 - acc_top5: 0.8953 - 18ms/step\n",
      "step 40/79 - loss: 1.8375 - acc_top1: 0.4229 - acc_top5: 0.9002 - 18ms/step\n",
      "step 50/79 - loss: 1.8102 - acc_top1: 0.4220 - acc_top5: 0.9005 - 18ms/step\n",
      "step 60/79 - loss: 1.9093 - acc_top1: 0.4232 - acc_top5: 0.8997 - 17ms/step\n",
      "step 70/79 - loss: 1.8132 - acc_top1: 0.4204 - acc_top5: 0.8983 - 17ms/step\n",
      "step 79/79 - loss: 1.8562 - acc_top1: 0.4200 - acc_top5: 0.8978 - 17ms/step\n"
     ]
    },
    {
     "name": "stderr",
     "output_type": "stream",
     "text": [
      "2022-02-02 15:41:23,641-INFO: pruned param: conv2d_26.w_0; 0.5; loss=0.01983663943990667\n",
      "2022-02-02 15:41:23,643-INFO: Save status into ./sen.pickle\n"
     ]
    },
    {
     "name": "stdout",
     "output_type": "stream",
     "text": [
      "Eval samples: 10000\n",
      "Eval begin...\n",
      "The loss value printed in the log is the current batch, and the metric is the average value of previous step.\n",
      "step 10/79 - loss: 2.3535 - acc_top1: 0.4156 - acc_top5: 0.8992 - 19ms/step\n",
      "step 20/79 - loss: 2.3139 - acc_top1: 0.4164 - acc_top5: 0.8938 - 18ms/step\n",
      "step 30/79 - loss: 2.1877 - acc_top1: 0.4164 - acc_top5: 0.8932 - 18ms/step\n",
      "step 40/79 - loss: 2.2094 - acc_top1: 0.4182 - acc_top5: 0.8980 - 18ms/step\n",
      "step 50/79 - loss: 2.1866 - acc_top1: 0.4197 - acc_top5: 0.8984 - 17ms/step\n",
      "step 60/79 - loss: 2.2865 - acc_top1: 0.4206 - acc_top5: 0.8986 - 17ms/step\n",
      "step 70/79 - loss: 2.1779 - acc_top1: 0.4177 - acc_top5: 0.8963 - 17ms/step\n",
      "step 79/79 - loss: 2.2290 - acc_top1: 0.4178 - acc_top5: 0.8962 - 17ms/step\n"
     ]
    },
    {
     "name": "stderr",
     "output_type": "stream",
     "text": [
      "2022-02-02 15:41:25,009-INFO: pruned param: conv2d_26.w_0; 0.6; loss=0.024970828471411872\n",
      "2022-02-02 15:41:25,011-INFO: Save status into ./sen.pickle\n"
     ]
    },
    {
     "name": "stdout",
     "output_type": "stream",
     "text": [
      "Eval samples: 10000\n",
      "Eval begin...\n",
      "The loss value printed in the log is the current batch, and the metric is the average value of previous step.\n",
      "step 10/79 - loss: 2.9818 - acc_top1: 0.4250 - acc_top5: 0.8898 - 19ms/step\n",
      "step 20/79 - loss: 2.9555 - acc_top1: 0.4133 - acc_top5: 0.8844 - 19ms/step\n",
      "step 30/79 - loss: 2.8673 - acc_top1: 0.4151 - acc_top5: 0.8883 - 18ms/step\n",
      "step 40/79 - loss: 2.8792 - acc_top1: 0.4162 - acc_top5: 0.8938 - 18ms/step\n",
      "step 50/79 - loss: 2.8943 - acc_top1: 0.4134 - acc_top5: 0.8933 - 18ms/step\n",
      "step 60/79 - loss: 2.9498 - acc_top1: 0.4148 - acc_top5: 0.8936 - 17ms/step\n",
      "step 70/79 - loss: 2.8388 - acc_top1: 0.4143 - acc_top5: 0.8924 - 17ms/step\n",
      "step 79/79 - loss: 2.9179 - acc_top1: 0.4126 - acc_top5: 0.8918 - 17ms/step\n"
     ]
    },
    {
     "name": "stderr",
     "output_type": "stream",
     "text": [
      "2022-02-02 15:41:26,389-INFO: pruned param: conv2d_26.w_0; 0.7; loss=0.03710618436406061\n",
      "2022-02-02 15:41:26,390-INFO: Save status into ./sen.pickle\n"
     ]
    },
    {
     "name": "stdout",
     "output_type": "stream",
     "text": [
      "Eval samples: 10000\n",
      "Eval begin...\n",
      "The loss value printed in the log is the current batch, and the metric is the average value of previous step.\n",
      "step 10/79 - loss: 3.8764 - acc_top1: 0.4094 - acc_top5: 0.8828 - 21ms/step\n",
      "step 20/79 - loss: 3.8196 - acc_top1: 0.3965 - acc_top5: 0.8797 - 19ms/step\n",
      "step 30/79 - loss: 3.7375 - acc_top1: 0.3951 - acc_top5: 0.8826 - 19ms/step\n",
      "step 40/79 - loss: 3.8015 - acc_top1: 0.3986 - acc_top5: 0.8873 - 20ms/step\n",
      "step 50/79 - loss: 3.8287 - acc_top1: 0.3964 - acc_top5: 0.8866 - 21ms/step\n",
      "step 60/79 - loss: 3.8357 - acc_top1: 0.3967 - acc_top5: 0.8866 - 21ms/step\n",
      "step 70/79 - loss: 3.7430 - acc_top1: 0.3939 - acc_top5: 0.8855 - 20ms/step\n",
      "step 79/79 - loss: 3.8912 - acc_top1: 0.3920 - acc_top5: 0.8850 - 20ms/step\n"
     ]
    },
    {
     "name": "stderr",
     "output_type": "stream",
     "text": [
      "2022-02-02 15:41:27,984-INFO: pruned param: conv2d_26.w_0; 0.8; loss=0.08518086347724615\n",
      "2022-02-02 15:41:27,986-INFO: Save status into ./sen.pickle\n"
     ]
    },
    {
     "name": "stdout",
     "output_type": "stream",
     "text": [
      "Eval samples: 10000\n",
      "Eval begin...\n",
      "The loss value printed in the log is the current batch, and the metric is the average value of previous step.\n",
      "step 10/79 - loss: 4.9798 - acc_top1: 0.3602 - acc_top5: 0.8414 - 19ms/step\n",
      "step 20/79 - loss: 4.9578 - acc_top1: 0.3516 - acc_top5: 0.8367 - 18ms/step\n",
      "step 30/79 - loss: 4.8739 - acc_top1: 0.3549 - acc_top5: 0.8417 - 18ms/step\n",
      "step 40/79 - loss: 4.9465 - acc_top1: 0.3578 - acc_top5: 0.8457 - 18ms/step\n",
      "step 50/79 - loss: 4.9236 - acc_top1: 0.3536 - acc_top5: 0.8464 - 18ms/step\n",
      "step 60/79 - loss: 4.9990 - acc_top1: 0.3570 - acc_top5: 0.8451 - 18ms/step\n",
      "step 70/79 - loss: 4.8975 - acc_top1: 0.3557 - acc_top5: 0.8464 - 18ms/step\n",
      "step 79/79 - loss: 4.9138 - acc_top1: 0.3555 - acc_top5: 0.8459 - 17ms/step\n"
     ]
    },
    {
     "name": "stderr",
     "output_type": "stream",
     "text": [
      "2022-02-02 15:41:29,391-INFO: pruned param: conv2d_26.w_0; 0.9; loss=0.17036172695449245\n",
      "2022-02-02 15:41:29,393-INFO: Save status into ./sen.pickle\n"
     ]
    },
    {
     "name": "stdout",
     "output_type": "stream",
     "text": [
      "Eval samples: 10000\n",
      "{'conv2d_0.w_0': {0.1: 0.012368728121353492, 0.2: 0.0900816802800466, 0.3: 0.41610268378063014, 0.4: 0.6518086347724621, 0.5: 0.6646441073512253, 0.6: 0.6546091015169194, 0.7: 0.6340723453908985, 0.8: 0.6256709451575263, 0.9: 0.7652275379229871}, 'conv2d_2.w_0': {0.1: 0.008168028004667451, 0.2: 0.07304550758459742, 0.3: 0.40350058343057177, 0.4: 0.44830805134189033, 0.5: 0.4942823803967328, 0.6: 0.5838973162193698, 0.7: 0.7239206534422403, 0.8: 0.7337222870478414, 0.9: 0.6725787631271879}, 'conv2d_4.w_0': {0.1: 0.0009334889148191632, 0.2: -0.006534422403734013, 0.3: 0.02077012835472583, 0.4: 0.049474912485414226, 0.5: 0.09101516919486577, 0.6: 0.17549591598599765, 0.7: 0.2457409568261377, 0.8: 0.449708284714119, 0.9: 0.4396732788798133}, 'conv2d_6.w_0': {0.1: 0.002100350058343085, 0.2: 0.012135355892648733, 0.3: 0.024270711785297466, 0.4: 0.13932322053675608, 0.5: 0.1222870478413069, 0.6: 0.24597432905484246, 0.7: 0.33652275379229873, 0.8: 0.38669778296382734, 0.9: 0.6546091015169194}, 'conv2d_8.w_0': {0.1: 0.013535589264877414, 0.2: 0.03897316219369893, 0.3: 0.04270711785297546, 0.4: 0.0693115519253209, 0.5: 0.06884480746791125, 0.6: 0.1201866977829638, 0.7: 0.2627771295215869, 0.8: 0.3411901983663944, 0.9: 0.5190198366394398}, 'conv2d_10.w_0': {0.1: 0.0028004667444573605, 0.2: -0.00863477246207697, 0.3: 0.03687281213535585, 0.4: 0.0431738623103851, 0.5: 0.07957992998833144, 0.6: 0.14282380396732783, 0.7: 0.3962660443407235, 0.8: 0.6366394399066511, 0.9: 0.7498249708284713}, 'conv2d_12.w_0': {0.1: 0.01143523920653446, 0.2: 0.045740956826137706, 0.3: 0.1110851808634772, 0.4: 0.22263710618436403, 0.5: 0.32625437572928817, 0.6: 0.41400233372228706, 0.7: 0.5605600933488915, 0.8: 0.7101516919486581, 0.9: 0.7666277712952159}, 'conv2d_14.w_0': {0.1: 0.022870478413068787, 0.2: 0.09311551925320885, 0.3: 0.1941656942823804, 0.4: 0.33418903150525087, 0.5: 0.5253208868144691, 0.6: 0.6459743290548424, 0.7: 0.7491248541423571, 0.8: 0.7663943990665112, 0.9: 0.7666277712952159}, 'conv2d_16.w_0': {0.1: 0.056242707117853, 0.2: 0.16359393232205366, 0.3: 0.30455075845974333, 0.4: 0.3941656942823804, 0.5: 0.5381563593932323, 0.6: 0.6704784130688448, 0.7: 0.7579929988331389, 0.8: 0.7647607934655776, 0.9: 0.7663943990665112}, 'conv2d_18.w_0': {0.1: 0.044107351225204136, 0.2: 0.12135355892648773, 0.3: 0.22170361726954488, 0.4: 0.35705950991831964, 0.5: 0.5178529754959159, 0.6: 0.6016336056009336, 0.7: 0.6819136522753793, 0.8: 0.7586931155192532, 0.9: 0.7640606767794633}, 'conv2d_20.w_0': {0.1: 0.03803967327887977, 0.2: 0.11575262543757288, 0.3: 0.2247374562427071, 0.4: 0.34165694282380393, 0.5: 0.468144690781797, 0.6: 0.5806301050175029, 0.7: 0.6522753792298716, 0.8: 0.7521586931155192, 0.9: 0.7612602100350059}, 'conv2d_22.w_0': {0.1: 0.012368728121353492, 0.2: 0.015402567094515741, 0.3: 0.02917152858809804, 0.4: 0.03967327887981334, 0.5: 0.05997666277712953, 0.6: 0.09031505250875149, 0.7: 0.21026837806301055, 0.8: 0.3878646441073513, 0.9: 0.6179696616102683}, 'conv2d_24.w_0': {0.1: 0.0007001166861142753, 0.2: 0.005834305717619608, 0.3: -0.01260210035005838, 0.4: -0.0112018669778297, 0.5: -0.0037339556592765237, 0.6: 0.003967327887981282, 0.7: 0.044574095682613786, 0.8: 0.13512252042007003, 0.9: 0.2576429404900817}, 'conv2d_26.w_0': {0.1: -0.001633605600933568, 0.2: 0.0014002333722286802, 0.3: 0.007234539089848288, 0.4: 0.00840140023337221, 0.5: 0.01983663943990667, 0.6: 0.024970828471411872, 0.7: 0.03710618436406061, 0.8: 0.08518086347724615, 0.9: 0.17036172695449245}}\n"
     ]
    }
   ],
   "source": [
    "# 卷积层重要性分析、剪裁\n",
    "from paddleslim.dygraph import L1NormFilterPruner \n",
    "pruner = L1NormFilterPruner(net,[1,3,224,224])\n",
    "\n",
    "''' 计算敏感度\n",
    "在对卷积层进行剪裁时，我们需要判断哪些filters不重要，优先剪掉不重要的filters。\n",
    "在一个卷积内，我们用filter的L1 Norm 来表示重要性，L1 Norm越大的filters越重要。\n",
    "在多个卷积之间，我们通过敏感度来代表卷积的重要性，越敏感的卷积越重要\n",
    "分别剪掉，然后就能看出来谁重要谁不重要\n",
    "'''\n",
    "def eval_fn(): #简单对model.evaluate进行包装，使其符合sensitive接口规范。\n",
    "    result = model.evaluate(val_dataset,batch_size=128)\n",
    "    return result['acc_top1']\n",
    "\n",
    "pruner.sensitive(eval_func=eval_fn,sen_file='./sen.pickle')\n",
    "print(pruner.sensitive())\n",
    "\n"
   ]
  },
  {
   "cell_type": "code",
   "execution_count": 6,
   "metadata": {
    "execution": {
     "iopub.execute_input": "2022-02-02T07:42:04.128188Z",
     "iopub.status.busy": "2022-02-02T07:42:04.127644Z",
     "iopub.status.idle": "2022-02-02T07:42:07.972003Z",
     "shell.execute_reply": "2022-02-02T07:42:07.971368Z",
     "shell.execute_reply.started": "2022-02-02T07:42:04.128149Z"
    },
    "scrolled": true
   },
   "outputs": [
    {
     "name": "stdout",
     "output_type": "stream",
     "text": [
      "FLOPS before pruning: 11792896.0\n",
      "FLOPS after pruning: 7015608.0\n",
      "Pruned FLOPS: 40.51%\n",
      "Eval begin...\n",
      "The loss value printed in the log is the current batch, and the metric is the average value of previous step.\n",
      "step 10/79 - loss: 2.2761 - acc_top1: 0.1195 - acc_top5: 0.7234 - 20ms/step\n",
      "step 20/79 - loss: 2.2314 - acc_top1: 0.1262 - acc_top5: 0.7305 - 18ms/step\n",
      "step 30/79 - loss: 2.1767 - acc_top1: 0.1284 - acc_top5: 0.7443 - 18ms/step\n",
      "step 40/79 - loss: 2.2167 - acc_top1: 0.1256 - acc_top5: 0.7473 - 18ms/step\n",
      "step 50/79 - loss: 2.2166 - acc_top1: 0.1231 - acc_top5: 0.7509 - 18ms/step\n",
      "step 60/79 - loss: 2.2051 - acc_top1: 0.1227 - acc_top5: 0.7496 - 17ms/step\n",
      "step 70/79 - loss: 2.2810 - acc_top1: 0.1211 - acc_top5: 0.7467 - 17ms/step\n",
      "step 79/79 - loss: 2.1849 - acc_top1: 0.1208 - acc_top5: 0.7463 - 17ms/step\n",
      "Eval samples: 10000\n",
      "before fine-tuning: {'loss': [2.1849198], 'acc_top1': 0.1208, 'acc_top5': 0.7463}\n"
     ]
    }
   ],
   "source": [
    "# 剪裁\n",
    "'''\n",
    "pruner对象提供了sensitive_prune方法根据敏感度信息对模型进行剪裁，用户只需要传入希望的FLOPS减少比例\n",
    "'''\n",
    "from paddleslim.analysis import dygraph_flops \n",
    "flops = dygraph_flops(net,[1,3,32,32])\n",
    "print(f'FLOPS before pruning: {flops}')\n",
    "\n",
    "plan = pruner.sensitive_prune(0.4,skip_vars=['conv2d_26.w_0'])\n",
    "flops = dygraph_flops(net,[1,3,32,32])\n",
    "print(f'FLOPS after pruning: {flops}')\n",
    "print(f'Pruned FLOPS: {round(plan.pruned_flops*100,2)}%')\n",
    "result = model.evaluate(val_dataset,batch_size=128,log_freq=10)\n",
    "print(f'before fine-tuning: {result}')\n",
    "\n",
    "# 对裁剪后的模型重新训练\n",
    "# optimizer = paddle.optimizer.Momentum(learning_rate=0.1,parameters=net.parameters())\n",
    "# model.prepare(optimizer,paddle.nn.CrossEntropyLoss(),paddle.metric.Accuracy(topk=(1,5)))\n",
    "# model.fit(train_dataset,epochs=2,batch_size=128,verbose=1)\n",
    "# result = model.evaluate(val_dataset,batch_size=128,log_freq=10)\n",
    "# print(f'after fine-tuning: {result}')\n",
    "\n",
    "# 经过重新训练，精度有所提升，最后看下裁剪后模型的结构信息\n",
    "#paddle.sumamry(net,(1,3,32,32))"
   ]
  }
 ],
 "metadata": {
  "kernelspec": {
   "display_name": "Python 3",
   "language": "python",
   "name": "py35-paddle1.2.0"
  },
  "language_info": {
   "codemirror_mode": {
    "name": "ipython",
    "version": 3
   },
   "file_extension": ".py",
   "mimetype": "text/x-python",
   "name": "python",
   "nbconvert_exporter": "python",
   "pygments_lexer": "ipython3",
   "version": "3.7.4"
  }
 },
 "nbformat": 4,
 "nbformat_minor": 4
}
